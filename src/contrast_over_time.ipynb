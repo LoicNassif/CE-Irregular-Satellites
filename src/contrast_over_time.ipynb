{
 "cells": [
  {
   "cell_type": "code",
   "execution_count": 71,
   "metadata": {},
   "outputs": [],
   "source": [
    "import swarms\n",
    "import pread as pd\n",
    "from numpy import linspace, logspace, pi, array, exp\n",
    "import matplotlib.pyplot as plt"
   ]
  },
  {
   "cell_type": "code",
   "execution_count": 72,
   "metadata": {},
   "outputs": [],
   "source": [
    "RHO=1500\n",
    "M0 = 10 * 7.34767309e22; Dt = 100.; Dmax = 250000.; L_s = 10 * 3.828e26;\n",
    "M_s = 1.86 * 1.989e30; M_pl = 318 * 5.972e24; a_pl = 50 * 1.496e11\n",
    "R_pl = 6.9911e7; eta = 0.4; Nstr = 6.; d_pl = 10 * 3.086e16\n",
    "argv = [M0, Dt, Dmax, L_s, M_s, M_pl, a_pl, R_pl, eta, Nstr, d_pl]"
   ]
  },
  {
   "cell_type": "code",
   "execution_count": 111,
   "metadata": {},
   "outputs": [],
   "source": [
    "time = linspace(5e7, 1e9, 500)\n",
    "lamb = 1.65e-6\n",
    "a_plv = linspace(2 * 1.496e11, 80 * 1.496e11, 500)\n",
    "type_star = \"A\""
   ]
  },
  {
   "cell_type": "code",
   "execution_count": 112,
   "metadata": {},
   "outputs": [],
   "source": [
    "def Fstar(Ls, Bnu, Ts, dpl):\n",
    "    sig = 5.670367e-8 #Stefan-Boltzmann constant\n",
    "    part1 = Ls * Bnu\n",
    "    part2 = 4 * sig * Ts ** 4 * dpl ** 2\n",
    "    return part1 / part2"
   ]
  },
  {
   "cell_type": "code",
   "execution_count": 113,
   "metadata": {},
   "outputs": [],
   "source": [
    "def Finc(R_pl, Bnu, d_pl):\n",
    "    return pi * R_pl**2 * Bnu / d_pl**2\n",
    "    #return (f/4) * (R_s / a_pl)**2 * F_star"
   ]
  },
  {
   "cell_type": "code",
   "execution_count": 114,
   "metadata": {},
   "outputs": [],
   "source": [
    "def Fscat(F_star, R_plt, g, Q, d_pl):\n",
    "    return F_star * R_plt**2 * g * Q / (d_pl**2)"
   ]
  },
  {
   "cell_type": "code",
   "execution_count": 115,
   "metadata": {},
   "outputs": [],
   "source": [
    "#def Fplt(B_nu_plt, R_plt, d_plt):\n",
    "#    return B_nu_plt * pi * R_plt ** 2 / d_plt ** 2"
   ]
  },
  {
   "cell_type": "code",
   "execution_count": 116,
   "metadata": {},
   "outputs": [],
   "source": [
    "\"\"\"Access times with data.ages in years\n",
    "          radii with data.radii in meters\n",
    "          luminosity with data.lumin in watts\n",
    "First entry is the root directory.\n",
    "Second entry is the subdirectory.\n",
    "Third entry is the filename.\n",
    "\"\"\"\n",
    "data = pd.Pread('data', 'Z002', 'pltlum_M318Z002.csv') "
   ]
  },
  {
   "cell_type": "code",
   "execution_count": 117,
   "metadata": {},
   "outputs": [],
   "source": [
    "def lum_to_temp(L, R):\n",
    "    sig = 5.670367e-8 #Stefan-Boltzmann constant\n",
    "    part1 = L / (4 * pi * sig * R**2)\n",
    "    return (part1)**(1./4.)"
   ]
  },
  {
   "cell_type": "code",
   "execution_count": 118,
   "metadata": {},
   "outputs": [],
   "source": [
    "def lum_to_temp2(R, a, T_s):\n",
    "    part1 = (R / a)**0.5\n",
    "    return (part1 / 2**0.5)*T_s"
   ]
  },
  {
   "cell_type": "code",
   "execution_count": 130,
   "metadata": {},
   "outputs": [],
   "source": [
    "def planet_plt():\n",
    "    if type_star == \"A\":\n",
    "        R_s = 1.7 * 6.955e08\n",
    "        M_s = 2.1 * 1.989e30\n",
    "        L_s = 20 * 3.828e26\n",
    "    elif type_star == \"G\":\n",
    "        R_s = 1 * 6.955e08\n",
    "        M_s = 1 * 1.989e30\n",
    "        L_s = 1 * 3.828e26\n",
    "    elif type_star == \"M\":\n",
    "        R_s = 0.32 * 6.955e08\n",
    "        M_s = 0.21 * 1.989e30\n",
    "        L_s = 0.0079 * 3.828e26\n",
    "\n",
    "    fplt_list = []\n",
    "    finc_plt_list = []\n",
    "    fscat_plt_list = []\n",
    "    a_swarm = []\n",
    "    \n",
    "    s = swarms.CollSwarm(M0, Dt, Dmax, L_s, M_s, M_pl, a_pl, R_pl, eta, Nstr,\n",
    "                        d_pl, correction=True, alpha=1./1.2)\n",
    "    s.updateSwarm(1e7)\n",
    "    T_star = s.stellarTemp()\n",
    "    print(T_star)\n",
    "    B_nu = s.computeBmu(lamb, T_star)\n",
    "    F_star = Fstar(L_s, B_nu, T_star, a_pl)\n",
    "\n",
    "\n",
    "    for i in range(len(time)):\n",
    "        index = data.find_time_index(time[i])\n",
    "        if (index > -1):\n",
    "            s2 = swarms.CollSwarm(M0, Dt, Dmax, L_s, M_s, M_pl,\n",
    "                                    a_pl, data.radii[index], eta, Nstr, d_pl,\n",
    "                                    rho=RHO, fQ=5, f_vrel=4/pi,\n",
    "                                    correction=True, alpha=1.2)\n",
    "\n",
    "            s2.updateSwarm(time[i])\n",
    "            a_swarm.append(s2.computeAtot())\n",
    "            \n",
    "            T_plt = lum_to_temp(data.lumin[index], data.radii[index]) #lum_to_temp(R_s, a_pl, T_star)\n",
    "            T_plt = lum_to_temp2(R_s, a_pl, T_star)\n",
    "            B_nu_plt = s2.computeBmu(lamb, T_plt)\n",
    "            F_plt = Fstar(data.lumin[index], B_nu_plt, T_plt, d_pl)\n",
    "            F_inc = Finc(data.radii[index], B_nu_plt, d_pl)\n",
    "            F_scat = Fscat(F_star, data.radii[index], 0.32, 0.5, d_pl)\n",
    "            fplt_list.append(F_plt/1e-26)\n",
    "            finc_plt_list.append(F_inc/1e-26)\n",
    "            fscat_plt_list.append(F_scat/1e-26)\n",
    "\n",
    "    F_star = F_star / 1e-26\n",
    "    contrast_rat_plt = array(fplt_list) / F_star\n",
    "    contrast_rat_inc_plt = array(finc_plt_list) / F_star\n",
    "    contrast_rat_scat_plt = array(fscat_plt_list) / F_star\n",
    "    print(\"planet temp\")\n",
    "    print(T_plt)\n",
    "    print(\"plt radii\")\n",
    "    print(\"{0:.3e}\".format(data.radii[0]))\n",
    "    print(\"plt lumin\")\n",
    "    print(data.lumin[0])\n",
    "    print(\"fplt\")\n",
    "    print(fplt_list[0])\n",
    "    print(\"no incident\")\n",
    "    print(contrast_rat_plt[0])\n",
    "    print(\"incident only\")\n",
    "    print(contrast_rat_inc_plt[0])\n",
    "    return contrast_rat_plt, contrast_rat_inc_plt, contrast_rat_scat_plt, a_swarm"
   ]
  },
  {
   "cell_type": "code",
   "execution_count": 131,
   "metadata": {},
   "outputs": [],
   "source": [
    "def swarm_plt():\n",
    "    if type_star == \"A\":\n",
    "        M_s = 2.1 * 1.989e30\n",
    "        L_s = 20 * 3.828e26\n",
    "    elif type_star == \"G\":\n",
    "        M_s = 1 * 1.989e30\n",
    "        L_s = 1 * 3.828e26\n",
    "    elif type_star == \"M\":\n",
    "        M_s = 0.21 * 1.989e30\n",
    "        L_s = 0.0079 * 3.828e26\n",
    "\n",
    "    s = swarms.CollSwarm(M0, Dt, Dmax, L_s, M_s, M_pl, a_pl, R_pl, eta, Nstr,\n",
    "                        d_pl, correction=True, alpha=1./1.2)\n",
    "    s.updateSwarm(1e7)\n",
    "    T_star = s.stellarTemp()\n",
    "    B_nu = s.computeBmu(lamb, T_star)\n",
    "    F_star = Fstar(L_s, B_nu, T_star, d_pl)/1e-26\n",
    "    print(\"Fstar\")\n",
    "    #print(F_star)\n",
    "\n",
    "    waverange = logspace(-7, -3, 200)\n",
    "    B_nu_list = s.computeBmu(waverange, T_star)\n",
    "    F_star_list = Fstar(L_s, B_nu_list, T_star, d_pl)/1e-26\n",
    "    print(F_star_list[56])\n",
    "\n",
    "    fth_list = []\n",
    "    fs_list = []\n",
    "    if (a_plv is not None):\n",
    "        for i in range(len(time)):\n",
    "            s2 = swarms.CollSwarm(M0, Dt, Dmax, L_s, M_s, M_pl,\n",
    "                                    a_pl, R_pl, eta, Nstr, d_pl,\n",
    "                                    rho=RHO, fQ=5, f_vrel=4/pi,\n",
    "                                    correction=True, alpha=1.2)\n",
    "\n",
    "            s2.updateSwarm(time[i])\n",
    "\n",
    "            F_th = s2.computeFth(array([lamb]), swarm=True)\n",
    "            F_s = s2.computeFs(array([lamb]), 0.32, 0.08, swarm=True)\n",
    "\n",
    "            fth_list.append(F_th[0]/1e-26)\n",
    "            fs_list.append(F_s[0]/1e-26)\n",
    "\n",
    "    contrast_ratio_apl_th = array(fth_list) / F_star\n",
    "    contrast_ratio_apl_s = array(fs_list) / F_star\n",
    "\n",
    "    print(\"fs_list_elem\")\n",
    "    print(fs_list[250])\n",
    "    #     print(\"apl\")\n",
    "    #     print(\"{0:.3e}\".format(a_plv[250]/1.496e11))\n",
    "    #     print(\"contrast ratio\")\n",
    "    #     print(contrast_ratio_apl_th[250])\n",
    "    #     print(fth_list[50])\n",
    "    return contrast_ratio_apl_th, contrast_ratio_apl_s"
   ]
  },
  {
   "cell_type": "code",
   "execution_count": 132,
   "metadata": {
    "scrolled": true
   },
   "outputs": [
    {
     "name": "stdout",
     "output_type": "stream",
     "text": [
      "20000.0\n",
      "planet temp\n",
      "177.80223947868697\n",
      "plt radii\n",
      "9.116e+07\n",
      "plt lumin\n",
      "4.709468854669795e+20\n",
      "fplt\n",
      "2.0727003498016785e-20\n",
      "no incident\n",
      "3.3967436121115223e-31\n",
      "incident only\n",
      "1.662821874430698e-32\n",
      "Fstar\n",
      "51.77180185132621\n",
      "fs_list_elem\n",
      "2.8808395348526767e-08\n"
     ]
    }
   ],
   "source": [
    "contrast_rat_plt, contrast_rat_inc_plt, contrast_rat_scat_plt, a_swarm = planet_plt()\n",
    "contrast_rat_swm, contrast_rat_s_swm = swarm_plt()"
   ]
  },
  {
   "cell_type": "code",
   "execution_count": 140,
   "metadata": {},
   "outputs": [
    {
     "name": "stdout",
     "output_type": "stream",
     "text": [
      "9000.0\n"
     ]
    }
   ],
   "source": [
    "r_swarm = []\n",
    "for i in range(len(a_swarm)):\n",
    "    r_swarm.append((a_swarm[i]/pi)**0.5)\n",
    "\n",
    "s = swarms.CollSwarm(M0, Dt, Dmax, L_s, M_s, M_pl, a_pl, R_pl, eta, Nstr,\n",
    "                    d_pl, correction=True, alpha=1./1.2)\n",
    "s.updateSwarm(1e7)\n",
    "T_star = s.stellarTemp()\n",
    "print(T_star)\n",
    "B_nu = s.computeBmu(lamb, T_star)\n",
    "F_star = Fstar(L_s, B_nu, T_star, a_pl)\n",
    "\n",
    "swarm_scat = []\n",
    "for i in range(len(r_swarm)):\n",
    "    swarm_scat.append(Fscat(F_star, r_swarm[i], 0.32, 0.08, d_pl))\n",
    "    \n",
    "for i in range(len(swarm_scat)):\n",
    "    swarm_scat[i] = (swarm_scat[i]/F_star)"
   ]
  },
  {
   "cell_type": "code",
   "execution_count": 141,
   "metadata": {},
   "outputs": [
    {
     "data": {
      "image/png": "[encoded data removed]",
      "text/plain": [
       "<Figure size 432x288 with 1 Axes>"
      ]
     },
     "metadata": {},
     "output_type": "display_data"
    },
    {
     "data": {
      "image/png": "[encoded data removed]",
      "text/plain": [
       "<Figure size 1080x720 with 5 Axes>"
      ]
     },
     "metadata": {},
     "output_type": "display_data"
    }
   ],
   "source": [
    "plt.figure(4)\n",
    "plt.loglog(time, swarm_scat)\n",
    "plt.show()\n",
    "\n",
    "plt.figure(5, figsize=(15,10))\n",
    "plt.subplot(231)\n",
    "plt.loglog(time, contrast_rat_plt)\n",
    "plt.title(\"Planet Thermal Flux\")\n",
    "plt.xlabel(\"time [yr]\")\n",
    "plt.ylabel(\"F_plt / F_star\")\n",
    "plt.subplot(232)\n",
    "plt.loglog(time, contrast_rat_inc_plt)\n",
    "plt.title(\"Planet Incident Flux\")\n",
    "plt.subplot(233)\n",
    "plt.loglog(time, contrast_rat_scat_plt)\n",
    "plt.title(\"Planet Scattered Flux\")\n",
    "\n",
    "ax = plt.subplot(234)\n",
    "plt.loglog(time, contrast_rat_swm, 'r')\n",
    "plt.title(\"Swarm Thermal Flux\")\n",
    "plt.xlabel(\"time [yr]\")\n",
    "plt.ylabel(\"F_plt / F_star\")\n",
    "\n",
    "plt.text(1.70, 0.88, \"Flux: Star type \"+str(type_star)+\" and mass \" + str(M_pl/5.972e24)+\" earth-mass\",\n",
    "         horizontalalignment='center',\n",
    "         fontsize=14,\n",
    "         transform = ax.transAxes)\n",
    "\n",
    "plt.subplot(236)\n",
    "plt.loglog(time, contrast_rat_s_swm, 'r')\n",
    "plt.title(\"Swarm Scattered Flux\")\n",
    "plt.tight_layout()\n",
    "plt.show()"
   ]
  }
 ],
 "metadata": {
  "kernelspec": {
   "display_name": "Python 3",
   "language": "python",
   "name": "python3"
  },
  "language_info": {
   "codemirror_mode": {
    "name": "ipython",
    "version": 3
   },
   "file_extension": ".py",
   "mimetype": "text/x-python",
   "name": "python",
   "nbconvert_exporter": "python",
   "pygments_lexer": "ipython3",
   "version": "3.6.5"
  }
 },
 "nbformat": 4,
 "nbformat_minor": 2
}
