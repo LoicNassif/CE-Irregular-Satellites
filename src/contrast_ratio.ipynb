{
 "cells": [
  {
   "cell_type": "code",
   "execution_count": 2,
   "metadata": {},
   "outputs": [],
   "source": [
    "import swarms\n",
    "from numpy import linspace, logspace, pi, array\n",
    "import matplotlib.pyplot as plt"
   ]
  },
  {
   "cell_type": "code",
   "execution_count": 214,
   "metadata": {},
   "outputs": [],
   "source": [
    "RHO=1500\n",
    "M0 = 1.e1 * 7.34767309e22; Dt = 100.; Dmax = 250000.; L_s = 10 * 3.828e26;\n",
    "M_s = 1.86 * 1.989e30; M_pl = 1 * 1.89587112e27; a_pl = 50 * 1.496e11\n",
    "R_pl = 6.9911e7; eta = 0.4; Nstr = 6.; d_pl = 20 * 3.086e16\n",
    "argv = [M0, Dt, Dmax, L_s, M_s, M_pl, a_pl, R_pl, eta, Nstr, d_pl]"
   ]
  },
  {
   "cell_type": "code",
   "execution_count": 220,
   "metadata": {},
   "outputs": [],
   "source": [
    "t = 3.e8\n",
    "lamb = 1.65e-6\n",
    "a_plv = linspace(2 * 1.496e11, 80 * 1.496e11, 500)\n",
    "type_star = \"M\""
   ]
  },
  {
   "cell_type": "code",
   "execution_count": 221,
   "metadata": {},
   "outputs": [],
   "source": [
    "def Fstar(Ls, Bnu, Ts, dpl):\n",
    "    sig = 5.670367e-8 #Stefan-Boltzmann constant\n",
    "    part1 = Ls * Bnu\n",
    "    part2 = 4 * sig * Ts ** 4 * dpl ** 2\n",
    "    return part1 / part2"
   ]
  },
  {
   "cell_type": "code",
   "execution_count": 222,
   "metadata": {},
   "outputs": [
    {
     "name": "stdout",
     "output_type": "stream",
     "text": [
      "Fstar\n",
      "0.22096754484587583\n"
     ]
    }
   ],
   "source": [
    "if type_star == \"A\":\n",
    "    M_s = 2.1 * 1.989e30\n",
    "    L_s = 20 * 3.828e26\n",
    "elif type_star == \"G\":\n",
    "    M_s = 1 * 1.989e30\n",
    "    L_s = 1 * 3.828e26\n",
    "elif type_star == \"M\":\n",
    "    M_s = 0.21 * 1.989e30\n",
    "    L_s = 0.0079 * 3.828e26\n",
    "\n",
    "s = swarms.CollSwarm(M0, Dt, Dmax, L_s, M_s, M_pl, a_pl, R_pl, eta, Nstr,\n",
    "                    d_pl, correction=True, alpha=1./1.2)\n",
    "s.updateSwarm(t)\n",
    "T_star = s.stellarTemp()\n",
    "B_nu = s.computeBmu(lamb, T_star)\n",
    "F_star = Fstar(L_s, B_nu, T_star, d_pl)/1e-26\n",
    "print(\"Fstar\")\n",
    "print(F_star)\n",
    "\n",
    "waverange = logspace(-7, -3, 200)\n",
    "B_nu_list = s.computeBmu(waverange, T_star)\n",
    "F_star_list = Fstar(L_s, B_nu_list, T_star, d_pl)/1e-26\n",
    "\n",
    "fth_list = []\n",
    "fs_list = []\n",
    "if (a_plv is not None):\n",
    "    for i in range(len(a_plv)):\n",
    "        s2 = swarms.CollSwarm(M0, Dt, Dmax, L_s, M_s, M_pl,\n",
    "                                a_plv[i], R_pl, eta, Nstr, d_pl,\n",
    "                                rho=RHO, fQ=5, f_vrel=4/pi,\n",
    "                                correction=True, alpha=1.2)\n",
    "\n",
    "        s2.updateSwarm(t)\n",
    "\n",
    "        F_th = s2.computeFth(array([lamb]), swarm=True)\n",
    "        F_s = s2.computeFs(array([lamb]), 0.32, 0.08, swarm=True)\n",
    "        \n",
    "        fth_list.append(F_th[0]/1e-26)\n",
    "        fs_list.append(F_s[0]/1e-26)\n",
    "        \n",
    "contrast_ratio_apl_th = array(fth_list) / F_star\n",
    "contrast_ratio_apl_s = array(fs_list) / F_star\n",
    "\n",
    "Fth_swarm = s.computeFth(waverange, swarm=True)/1e-26\n",
    "Fs_swarm = s.computeFs(waverange, 0.32, 0.08, swarm=True)/1e-26\n",
    "\n",
    "contrast_ratio_th = Fth_swarm / F_star_list\n",
    "contrast_ratio_s = Fs_swarm / F_star_list"
   ]
  },
  {
   "cell_type": "code",
   "execution_count": 223,
   "metadata": {},
   "outputs": [
    {
     "name": "stdout",
     "output_type": "stream",
     "text": [
      "38.4071037159888\n"
     ]
    }
   ],
   "source": [
    "f_vrel = 4/pi\n",
    "Qd = s.computeQd(s.Dc)\n",
    "part1 = (M_s/1.989e30)**0.33 * f_vrel**0.55\n",
    "part2 = (M_pl/5.972e24)**0.06 * Qd**0.15 * eta\n",
    "part3 = t * (M0/5.972e24) / (RHO * (s.Dc/1000)) \n",
    "\n",
    "a_opt = 50 * part1 / part2 * part3**0.24 \n",
    "print(a_opt)"
   ]
  },
  {
   "cell_type": "code",
   "execution_count": 224,
   "metadata": {},
   "outputs": [
    {
     "name": "stderr",
     "output_type": "stream",
     "text": [
      "/Users/dtamayo/miniconda3/envs/p3/lib/python3.7/site-packages/matplotlib/font_manager.py:1331: UserWarning: findfont: Font family ['serif'] not found. Falling back to DejaVu Sans\n",
      "  (prop.get_family(), self.defaultFamily[fontext]))\n"
     ]
    },
    {
     "data": {
      "image/png": "[encoded data removed]",
      "text/plain": [
       "<Figure size 432x288 with 1 Axes>"
      ]
     },
     "metadata": {
      "needs_background": "light"
     },
     "output_type": "display_data"
    }
   ],
   "source": [
    "waverange = logspace(-7, -3, 200)\n",
    "'''\n",
    "plt.figure(1)\n",
    "plt.loglog(waverange, Fs_swarm, 'r')\n",
    "plt.loglog(waverange, Fth_swarm, 'b')\n",
    "plt.loglog(waverange, F_star_list, 'g')\n",
    "plt.xlabel(\"wavelength [m]\")\n",
    "plt.ylabel(\"F [Jy]\")\n",
    "plt.ylim([10e-11, 10e5])\n",
    "plt.show()\n",
    "\n",
    "plt.figure(2)\n",
    "#plt.loglog(waverange, contrast_ratio_s, 'r')\n",
    "plt.loglog(waverange, contrast_ratio_th, 'b')\n",
    "plt.xlabel(\"wavelength [m]\")\n",
    "plt.ylabel(\"F_swarm / F_star\")\n",
    "plt.ylim([10e-5, 10])\n",
    "plt.show()\n",
    "\n",
    "plt.figure(3)\n",
    "plt.loglog(a_plv/1.496e11, contrast_ratio_apl_th)\n",
    "plt.title(\"Thermal Emission\")\n",
    "plt.xlabel(\"a_pl [au]\")\n",
    "plt.ylabel(\"F_swarm / F_star\")\n",
    "plt.show()\n",
    "'''\n",
    "plt.figure(4)\n",
    "plt.loglog(a_plv/1.496e11, contrast_ratio_apl_s)\n",
    "plt.axvline(a_opt, ls='--',label=\"a_opt eq.(16)\")\n",
    "plt.axvline(24, color='r', ls='--',label=\"12 AU\")\n",
    "plt.axhline(3.e-7, color='g', ls='--',label=\"Detectable\")\n",
    "plt.legend()\n",
    "plt.title(\"Scattered Emission: Star type \"+str(type_star)+\" and time {0:.2e}\".format(t))\n",
    "plt.xlabel(\"a_pl [au]\")\n",
    "plt.ylabel(\"F_swarm / F_star\")\n",
    "plt.show()"
   ]
  },
  {
   "cell_type": "code",
   "execution_count": null,
   "metadata": {},
   "outputs": [],
   "source": []
  },
  {
   "cell_type": "code",
   "execution_count": null,
   "metadata": {},
   "outputs": [],
   "source": []
  }
 ],
 "metadata": {
  "kernelspec": {
   "display_name": "Python 3",
   "language": "python",
   "name": "python3"
  },
  "language_info": {
   "codemirror_mode": {
    "name": "ipython",
    "version": 3
   },
   "file_extension": ".py",
   "mimetype": "text/x-python",
   "name": "python",
   "nbconvert_exporter": "python",
   "pygments_lexer": "ipython3",
   "version": "3.7.1"
  }
 },
 "nbformat": 4,
 "nbformat_minor": 2
}
