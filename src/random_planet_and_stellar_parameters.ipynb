{
 "cells": [
  {
   "cell_type": "code",
   "execution_count": 3,
   "metadata": {},
   "outputs": [],
   "source": [
    "import numpy as np\n",
    "import matplotlib.pyplot as plt\n",
    "import pandas as pd"
   ]
  },
  {
   "cell_type": "code",
   "execution_count": 2,
   "metadata": {},
   "outputs": [],
   "source": [
    "# Zhang et al 2018 DSHARP VII argue flat in log a, flat in log m, occur ~ 50%\n",
    "amin = 10 # AU\n",
    "amax = 200 # AU\n",
    "Mmin = 15 # Mearth (Nep)\n",
    "Mmax = 318 # Mearth (Jup)"
   ]
  },
  {
   "cell_type": "markdown",
   "metadata": {},
   "source": [
    "# Draw a planet half the time\n",
    "Draw semimajor axis loguniformly between bounds in a, m loguniformly between bounds in m"
   ]
  },
  {
   "cell_type": "code",
   "execution_count": 4,
   "metadata": {},
   "outputs": [
    {
     "data": {
      "text/html": [
       "<div>\n",
       "<style scoped>\n",
       "    .dataframe tbody tr th:only-of-type {\n",
       "        vertical-align: middle;\n",
       "    }\n",
       "\n",
       "    .dataframe tbody tr th {\n",
       "        vertical-align: top;\n",
       "    }\n",
       "\n",
       "    .dataframe thead th {\n",
       "        text-align: right;\n",
       "    }\n",
       "</style>\n",
       "<table border=\"1\" class=\"dataframe\">\n",
       "  <thead>\n",
       "    <tr style=\"text-align: right;\">\n",
       "      <th></th>\n",
       "      <th>S_Type</th>\n",
       "      <th>Distance_distance</th>\n",
       "      <th>FLUX_I</th>\n",
       "      <th>FLUX_H</th>\n",
       "      <th>Fe_H_Teff</th>\n",
       "      <th>Class</th>\n",
       "      <th>subtype</th>\n",
       "      <th>Mass</th>\n",
       "      <th>Lum</th>\n",
       "      <th>contrast_thresh</th>\n",
       "    </tr>\n",
       "  </thead>\n",
       "  <tbody>\n",
       "    <tr>\n",
       "      <th>552</th>\n",
       "      <td>M1VeBa1</td>\n",
       "      <td>9.7248</td>\n",
       "      <td>6.593</td>\n",
       "      <td>4.831</td>\n",
       "      <td>3742</td>\n",
       "      <td>M</td>\n",
       "      <td>1</td>\n",
       "      <td>0.49</td>\n",
       "      <td>0.0350</td>\n",
       "      <td>3.000000e-07</td>\n",
       "    </tr>\n",
       "    <tr>\n",
       "      <th>585</th>\n",
       "      <td>M2Ve</td>\n",
       "      <td>14.8604</td>\n",
       "      <td>8.101</td>\n",
       "      <td>6.086</td>\n",
       "      <td>3515</td>\n",
       "      <td>M</td>\n",
       "      <td>2</td>\n",
       "      <td>0.44</td>\n",
       "      <td>0.0230</td>\n",
       "      <td>2.000000e-06</td>\n",
       "    </tr>\n",
       "    <tr>\n",
       "      <th>600</th>\n",
       "      <td>M4IVe</td>\n",
       "      <td>20.8587</td>\n",
       "      <td>9.109</td>\n",
       "      <td>7.150</td>\n",
       "      <td>3290</td>\n",
       "      <td>M</td>\n",
       "      <td>4</td>\n",
       "      <td>0.20</td>\n",
       "      <td>0.0055</td>\n",
       "      <td>3.000000e-06</td>\n",
       "    </tr>\n",
       "    <tr>\n",
       "      <th>615</th>\n",
       "      <td>M2Ve</td>\n",
       "      <td>15.9564</td>\n",
       "      <td>8.599</td>\n",
       "      <td>6.608</td>\n",
       "      <td>3481</td>\n",
       "      <td>M</td>\n",
       "      <td>2</td>\n",
       "      <td>0.44</td>\n",
       "      <td>0.0230</td>\n",
       "      <td>2.000000e-06</td>\n",
       "    </tr>\n",
       "    <tr>\n",
       "      <th>618</th>\n",
       "      <td>M0Ve</td>\n",
       "      <td>27.3734</td>\n",
       "      <td>8.646</td>\n",
       "      <td>6.770</td>\n",
       "      <td>3797</td>\n",
       "      <td>M</td>\n",
       "      <td>0</td>\n",
       "      <td>0.60</td>\n",
       "      <td>0.0720</td>\n",
       "      <td>2.000000e-06</td>\n",
       "    </tr>\n",
       "  </tbody>\n",
       "</table>\n",
       "</div>"
      ],
      "text/plain": [
       "      S_Type  Distance_distance  FLUX_I  FLUX_H  Fe_H_Teff Class  subtype  \\\n",
       "552  M1VeBa1             9.7248   6.593   4.831       3742     M        1   \n",
       "585     M2Ve            14.8604   8.101   6.086       3515     M        2   \n",
       "600    M4IVe            20.8587   9.109   7.150       3290     M        4   \n",
       "615     M2Ve            15.9564   8.599   6.608       3481     M        2   \n",
       "618     M0Ve            27.3734   8.646   6.770       3797     M        0   \n",
       "\n",
       "     Mass     Lum  contrast_thresh  \n",
       "552  0.49  0.0350     3.000000e-07  \n",
       "585  0.44  0.0230     2.000000e-06  \n",
       "600  0.20  0.0055     3.000000e-06  \n",
       "615  0.44  0.0230     2.000000e-06  \n",
       "618  0.60  0.0720     2.000000e-06  "
      ]
     },
     "execution_count": 4,
     "metadata": {},
     "output_type": "execute_result"
    }
   ],
   "source": [
    "GPI = pd.read_csv(\"../GPIMdwarfs.csv\", index_col=0)\n",
    "GPI.tail()"
   ]
  },
  {
   "cell_type": "code",
   "execution_count": 5,
   "metadata": {},
   "outputs": [
    {
     "data": {
      "text/plain": [
       "(23, 10)"
      ]
     },
     "execution_count": 5,
     "metadata": {},
     "output_type": "execute_result"
    }
   ],
   "source": [
    "GPI.shape"
   ]
  },
  {
   "cell_type": "code",
   "execution_count": null,
   "metadata": {},
   "outputs": [],
   "source": [
    "M0 = 100 * Mmoon\n",
    "Mplt = 20 # earth masses\n",
    "age = 5.e7 # yrs"
   ]
  }
 ],
 "metadata": {
  "kernelspec": {
   "display_name": "Python 3",
   "language": "python",
   "name": "python3"
  },
  "language_info": {
   "codemirror_mode": {
    "name": "ipython",
    "version": 3
   },
   "file_extension": ".py",
   "mimetype": "text/x-python",
   "name": "python",
   "nbconvert_exporter": "python",
   "pygments_lexer": "ipython3",
   "version": "3.7.1"
  }
 },
 "nbformat": 4,
 "nbformat_minor": 2
}
