{
 "cells": [
  {
   "cell_type": "code",
   "execution_count": 44,
   "metadata": {},
   "outputs": [],
   "source": [
    "from numpy import random, array, pi, logspace, log10\n",
    "import matplotlib.pyplot as plt"
   ]
  },
  {
   "cell_type": "code",
   "execution_count": 2,
   "metadata": {},
   "outputs": [],
   "source": [
    "Mmoon = 7.34767309e22\n",
    "Mjup = 1.898e27\n",
    "Rjup = 7.1492e7\n",
    "AU = 1.496e11\n",
    "Mearth = 5.972e24\n",
    "Msun = 2e30"
   ]
  },
  {
   "cell_type": "code",
   "execution_count": 15,
   "metadata": {},
   "outputs": [],
   "source": [
    "def random_param_misc(N, Mbounds, Dcbounds):\n",
    "    Mtot_rand = []\n",
    "    Dc_rand = []\n",
    "    for i in range(N):\n",
    "        Mtot_rand.append(random.uniform(Mbounds[0], Mbounds[1]))\n",
    "        Dc_rand.append(random.uniform(Dcbounds[0], Dcbounds[1]))\n",
    "    \n",
    "    Mtot_rand = [num if num >= 0 else 0 for num in Mtot_rand]\n",
    "    Dc_rand = [num if num >= 0 else 0 for num in Dc_rand]\n",
    "    return array(Mtot_rand), array(Dc_rand)"
   ]
  },
  {
   "cell_type": "code",
   "execution_count": 10,
   "metadata": {},
   "outputs": [],
   "source": [
    "def compute_CR(fsig, fapl, fg, fQ, fMplt, fMstar, cap=False):\n",
    "    if cap:\n",
    "        fMplt = fMplt * Mjup\n",
    "        fMstar = fMstar * Msun\n",
    "        RH = fapl * (fMplt / (3*fMstar)) ** (1./3.)\n",
    "        RH = RH * AU / (pi * Rjup)\n",
    "        AH = pi * RH**2\n",
    "        print(\"Hill Area = {0:.3e}\".format(AH))\n",
    "        fsig = array([a if a <= AH else AH for a in fsig])\n",
    "    return (2.20e-8 * fsig * (fg/0.31) * (fQ/0.1)) / (pi * (fapl/pi)**2)"
   ]
  },
  {
   "cell_type": "code",
   "execution_count": 11,
   "metadata": {},
   "outputs": [],
   "source": [
    "def compute_SIG(fMtot, frho, fdc, fdmin):\n",
    "    return fMtot * pi / (6.9e-8 * frho * fdc**0.9 * fdmin**0.7)"
   ]
  },
  {
   "cell_type": "code",
   "execution_count": 6,
   "metadata": {},
   "outputs": [],
   "source": [
    "def compute_DMIN(fMstar, frho, feta, fMplt):\n",
    "    return max(2.07e4 * 1e-6 * (fMstar)**(10./3.) * frho**(-1) * (feta/0.5)**(1./2.) * (fMplt)**(-1./3.), 1.65e-6)"
   ]
  },
  {
   "cell_type": "code",
   "execution_count": 47,
   "metadata": {},
   "outputs": [
    {
     "name": "stdout",
     "output_type": "stream",
     "text": [
      "Hill Area = 9.096e+07\n",
      "Max swarm Area = 6.253e+06\n"
     ]
    }
   ],
   "source": [
    "Mtot, Dc = random_param_misc(1000, [0, 2], [1, 4]) # Mtot in Mmoon, Dc in km\n",
    "\n",
    "Mtot = 10**Mtot\n",
    "Dc = 10**Dc\n",
    "Dc = Dc * 1e3\n",
    "\n",
    "# invariants (maybe?)\n",
    "eta = 0.5\n",
    "rho = 1500\n",
    "Q = 0.1\n",
    "g = 0.32\n",
    "\n",
    "# Fix planetary and stellar params for now\n",
    "Mstar = 7.5/100 # Msun\n",
    "Mplt = 1 # Mj\n",
    "apl = 50 # AU\n",
    "\n",
    "dmin = compute_DMIN(Mstar, rho, eta, Mplt)\n",
    "sig = compute_SIG(Mtot, rho, Dc, dmin)\n",
    "cr = compute_CR(sig, apl, g, Q, Mplt, Mstar, cap=True)\n",
    "\n",
    "print(\"Max swarm Area = {0:.3e}\".format(max(sig)))"
   ]
  },
  {
   "cell_type": "code",
   "execution_count": 46,
   "metadata": {},
   "outputs": [
    {
     "data": {
      "image/png": "[encoded data removed]",
      "text/plain": [
       "<Figure size 432x288 with 1 Axes>"
      ]
     },
     "metadata": {},
     "output_type": "display_data"
    }
   ],
   "source": [
    "plt.figure(1)\n",
    "plt.ticklabel_format(style='sci', axis='x', scilimits=(0,0))\n",
    "plt.xlabel(\"Constrast Ratio\")\n",
    "plt.hist(cr, bins=logspace(log10(1e-7),log10(1e-4), 50))\n",
    "plt.gca().set_xscale(\"log\")\n",
    "plt.show()"
   ]
  }
 ],
 "metadata": {
  "kernelspec": {
   "display_name": "Python 3",
   "language": "python",
   "name": "python3"
  },
  "language_info": {
   "codemirror_mode": {
    "name": "ipython",
    "version": 3
   },
   "file_extension": ".py",
   "mimetype": "text/x-python",
   "name": "python",
   "nbconvert_exporter": "python",
   "pygments_lexer": "ipython3",
   "version": "3.6.5"
  }
 },
 "nbformat": 4,
 "nbformat_minor": 2
}
