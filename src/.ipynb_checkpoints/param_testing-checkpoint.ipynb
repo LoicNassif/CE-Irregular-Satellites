{
 "cells": [
  {
   "cell_type": "code",
   "execution_count": 36,
   "metadata": {},
   "outputs": [],
   "source": [
    "from swarms import SizeDistribution, CollSwarm\n",
    "from numpy import pi"
   ]
  },
  {
   "cell_type": "code",
   "execution_count": 49,
   "metadata": {},
   "outputs": [],
   "source": [
    "# units\n",
    "AU = 1.496e11\n",
    "Rj = 7.1492e7 \n",
    "Mmoon = 7.34767309e22\n",
    "Mearth = 5.972e24\n",
    "KM = 1000\n",
    "MM = 1e-6\n",
    "Msun = 2e30\n",
    "Lsun = 3.827e26\n",
    "Mj = 1.89813e27\n",
    "PC = 3.08567758e16"
   ]
  },
  {
   "cell_type": "code",
   "execution_count": 82,
   "metadata": {},
   "outputs": [
    {
     "name": "stdout",
     "output_type": "stream",
     "text": [
      "Initial swarm area = 1.137e+06 pi Rj^2\n"
     ]
    }
   ],
   "source": [
    "# testing equation 4 from overleaf\n",
    "Mtot = 1. * Mearth\n",
    "rho = 1000.\n",
    "Dc = 100. * KM\n",
    "Dmin = 10. * MM\n",
    "\n",
    "swarm_dist = SizeDistribution(Dmin, Dc, M0=Mtot, rho=rho)\n",
    "\n",
    "sigma0 = swarm_dist.Atot() / (pi * Rj**2)\n",
    "print(\"Initial swarm area = {0:.3e} pi Rj^2\".format(sigma0))"
   ]
  },
  {
   "cell_type": "code",
   "execution_count": 84,
   "metadata": {},
   "outputs": [
    {
     "name": "stdout",
     "output_type": "stream",
     "text": [
      "Dmin = 2.064e+01 micro m\n",
      "\n"
     ]
    }
   ],
   "source": [
    "# testing equation 5 from overleaf \n",
    "Mstar = 1. * Msun\n",
    "Lstar = 1. * Lsun\n",
    "Mplt = 1. * Mj\n",
    "Dt = 100\n",
    "apl = 50 * AU\n",
    "Rpl = 1. * Rj\n",
    "eta = 0.5\n",
    "Nstr = 6.\n",
    "dpl = 30 * PC\n",
    "s = CollSwarm(Mtot, Dt, Dc, Lstar, Mstar, Mplt, apl, Rpl, eta, Nstr, dpl, rho=1000, correction=True, alpha=.12)\n",
    "\n",
    "print(\"Dmin = {0:.3e} micro m\".format(s.computeDmin()))\n",
    "print()"
   ]
  }
 ],
 "metadata": {
  "kernelspec": {
   "display_name": "Python 3",
   "language": "python",
   "name": "python3"
  },
  "language_info": {
   "codemirror_mode": {
    "name": "ipython",
    "version": 3
   },
   "file_extension": ".py",
   "mimetype": "text/x-python",
   "name": "python",
   "nbconvert_exporter": "python",
   "pygments_lexer": "ipython3",
   "version": "3.6.5"
  }
 },
 "nbformat": 4,
 "nbformat_minor": 2
}
