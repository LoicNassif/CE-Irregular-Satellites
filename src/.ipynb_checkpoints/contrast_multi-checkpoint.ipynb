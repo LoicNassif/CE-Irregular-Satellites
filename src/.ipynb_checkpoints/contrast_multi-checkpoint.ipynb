{
 "cells": [
  {
   "cell_type": "code",
   "execution_count": 11,
   "metadata": {},
   "outputs": [],
   "source": [
    "import swarms\n",
    "from numpy import linspace, logspace, pi, array\n",
    "import matplotlib.pyplot as plt"
   ]
  },
  {
   "cell_type": "code",
   "execution_count": 12,
   "metadata": {},
   "outputs": [],
   "source": [
    "RHO=1500\n",
    "M0 = 10 * 7.34767309e22; d_pl = 20 * 3.086e16; star_type = \"M\"\n",
    "eta = 0.4; Nstr = 6.; Dt = 100.; Dmax = 150000.; R_pl = 6.9911e7\n",
    "\n",
    "lamb = 1.65e-6\n",
    "time = [1e7, 3e7, 1e8, 3e8]\n",
    "M_jup = [(1./10.)*1.89587112e27, (1./3.)*1.89587112e27, (1.)*1.89587112e27, (4./3.)*1.89587112e27]\n",
    "a_plv = linspace(2 * 1.496e11, 80 * 1.496e11, 500)"
   ]
  },
  {
   "cell_type": "code",
   "execution_count": 13,
   "metadata": {},
   "outputs": [],
   "source": [
    "def Fstar(Ls, Bnu, Ts, dpl):\n",
    "    sig = 5.670367e-8 #Stefan-Boltzmann constant\n",
    "    part1 = Ls * Bnu\n",
    "    part2 = 4 * sig * Ts ** 4 * dpl ** 2\n",
    "    return part1 / part2"
   ]
  },
  {
   "cell_type": "code",
   "execution_count": 14,
   "metadata": {},
   "outputs": [],
   "source": [
    "def find_star_flux(type_star, lamb):\n",
    "    if type_star == \"A\":\n",
    "        M_s = 2.1 * 1.989e30\n",
    "        L_s = 20 * 3.828e26\n",
    "    elif type_star == \"G\":\n",
    "        M_s = 1 * 1.989e30\n",
    "        L_s = 1 * 3.828e26\n",
    "    elif type_star == \"M\":\n",
    "        M_s = 0.075 * 1.989e30\n",
    "        L_s = 0.0015 * 3.828e26\n",
    "\n",
    "    return M_s, L_s"
   ]
  },
  {
   "cell_type": "code",
   "execution_count": 15,
   "metadata": {},
   "outputs": [
    {
     "ename": "TypeError",
     "evalue": "unsupported operand type(s) for *: 'float' and 'NoneType'",
     "output_type": "error",
     "traceback": [
      "\u001b[1;31m---------------------------------------------------------------------------\u001b[0m",
      "\u001b[1;31mTypeError\u001b[0m                                 Traceback (most recent call last)",
      "\u001b[1;32m<ipython-input-15-6041e4c28cdf>\u001b[0m in \u001b[0;36m<module>\u001b[1;34m()\u001b[0m\n\u001b[0;32m     14\u001b[0m             \u001b[0ms\u001b[0m\u001b[1;33m.\u001b[0m\u001b[0mupdateSwarm\u001b[0m\u001b[1;33m(\u001b[0m\u001b[0mtime\u001b[0m\u001b[1;33m[\u001b[0m\u001b[0mk\u001b[0m\u001b[1;33m]\u001b[0m\u001b[1;33m)\u001b[0m\u001b[1;33m\u001b[0m\u001b[0m\n\u001b[0;32m     15\u001b[0m             \u001b[0mT_star\u001b[0m \u001b[1;33m=\u001b[0m \u001b[0ms\u001b[0m\u001b[1;33m.\u001b[0m\u001b[0mstellarTemp\u001b[0m\u001b[1;33m(\u001b[0m\u001b[1;33m)\u001b[0m\u001b[1;33m\u001b[0m\u001b[0m\n\u001b[1;32m---> 16\u001b[1;33m             \u001b[0mB_nu_list\u001b[0m \u001b[1;33m=\u001b[0m \u001b[0ms\u001b[0m\u001b[1;33m.\u001b[0m\u001b[0mcomputeBmu\u001b[0m\u001b[1;33m(\u001b[0m\u001b[0mlamb\u001b[0m\u001b[1;33m,\u001b[0m \u001b[0mT_star\u001b[0m\u001b[1;33m)\u001b[0m\u001b[1;33m\u001b[0m\u001b[0m\n\u001b[0m\u001b[0;32m     17\u001b[0m             \u001b[0mF_star\u001b[0m \u001b[1;33m=\u001b[0m \u001b[0mFstar\u001b[0m\u001b[1;33m(\u001b[0m\u001b[0mL_s\u001b[0m\u001b[1;33m,\u001b[0m \u001b[0mB_nu_list\u001b[0m\u001b[1;33m,\u001b[0m \u001b[0mT_star\u001b[0m\u001b[1;33m,\u001b[0m \u001b[0md_pl\u001b[0m\u001b[1;33m)\u001b[0m\u001b[1;33m/\u001b[0m\u001b[1;36m1e-26\u001b[0m\u001b[1;33m\u001b[0m\u001b[0m\n\u001b[0;32m     18\u001b[0m \u001b[1;33m\u001b[0m\u001b[0m\n",
      "\u001b[1;32m~\\Documents\\CE-Irregular-Satellites\\src\\swarms.py\u001b[0m in \u001b[0;36mcomputeBmu\u001b[1;34m(self, lamb, T)\u001b[0m\n\u001b[0;32m    268\u001b[0m         \u001b[0mh\u001b[0m \u001b[1;33m=\u001b[0m \u001b[1;36m6.626070040e-34\u001b[0m \u001b[1;31m#Plank's constant\u001b[0m\u001b[1;33m\u001b[0m\u001b[0m\n\u001b[0;32m    269\u001b[0m         \u001b[0ma\u001b[0m \u001b[1;33m=\u001b[0m \u001b[1;36m2\u001b[0m\u001b[1;33m*\u001b[0m\u001b[0mh\u001b[0m\u001b[1;33m*\u001b[0m\u001b[1;33m(\u001b[0m\u001b[0mc\u001b[0m\u001b[1;33m/\u001b[0m\u001b[0mlamb\u001b[0m\u001b[1;33m)\u001b[0m\u001b[1;33m**\u001b[0m\u001b[1;36m3\u001b[0m\u001b[1;33m/\u001b[0m\u001b[0mc\u001b[0m\u001b[1;33m**\u001b[0m\u001b[1;36m2\u001b[0m\u001b[1;33m\u001b[0m\u001b[0m\n\u001b[1;32m--> 270\u001b[1;33m         \u001b[0mb\u001b[0m \u001b[1;33m=\u001b[0m \u001b[1;36m1\u001b[0m\u001b[1;33m/\u001b[0m\u001b[1;33m(\u001b[0m\u001b[0mexp\u001b[0m\u001b[1;33m(\u001b[0m\u001b[0mh\u001b[0m\u001b[1;33m*\u001b[0m\u001b[1;33m(\u001b[0m\u001b[0mc\u001b[0m\u001b[1;33m/\u001b[0m\u001b[0mlamb\u001b[0m\u001b[1;33m)\u001b[0m\u001b[1;33m/\u001b[0m\u001b[1;33m(\u001b[0m\u001b[0mk_B\u001b[0m\u001b[1;33m*\u001b[0m\u001b[0mT\u001b[0m\u001b[1;33m)\u001b[0m\u001b[1;33m)\u001b[0m \u001b[1;33m-\u001b[0m \u001b[1;36m1\u001b[0m\u001b[1;33m)\u001b[0m\u001b[1;33m\u001b[0m\u001b[0m\n\u001b[0m\u001b[0;32m    271\u001b[0m         \u001b[1;32mreturn\u001b[0m \u001b[0ma\u001b[0m\u001b[1;33m*\u001b[0m\u001b[0mb\u001b[0m\u001b[1;33m\u001b[0m\u001b[0m\n\u001b[0;32m    272\u001b[0m \u001b[1;33m\u001b[0m\u001b[0m\n",
      "\u001b[1;31mTypeError\u001b[0m: unsupported operand type(s) for *: 'float' and 'NoneType'"
     ]
    },
    {
     "data": {
      "text/plain": [
       "<Figure size 432x288 with 0 Axes>"
      ]
     },
     "metadata": {},
     "output_type": "display_data"
    },
    {
     "data": {
      "image/png": "[encoded data removed]",
      "text/plain": [
       "<Figure size 1440x720 with 16 Axes>"
      ]
     },
     "metadata": {},
     "output_type": "display_data"
    }
   ],
   "source": [
    "plt.figure(1)\n",
    "fig, axes = plt.subplots(len(M_jup), len(time), subplot_kw=dict(), figsize=(20, 10))\n",
    "M_s, L_s = find_star_flux(star_type, lamb)\n",
    "for w in range(len(M_jup)):\n",
    "    for k in range(len(time)):    \n",
    "        \n",
    "        fth_list = []\n",
    "        fs_list = []\n",
    "        for i in range(len(a_plv)):\n",
    "\n",
    "            s = swarms.CollSwarm(M0, Dt, Dmax, L_s, M_s, M_jup[w], a_plv[i], R_pl, eta, Nstr,\n",
    "                        d_pl, correction=True, alpha=1.2)\n",
    "\n",
    "            s.updateSwarm(time[k])\n",
    "            T_star = s.stellarTemp()\n",
    "            B_nu_list = s.computeBmu(lamb, T_star)\n",
    "            F_star = Fstar(L_s, B_nu_list, T_star, d_pl)/1e-26\n",
    "\n",
    "            f_vrel = 4/pi\n",
    "            Qd = s.computeQd(s.Dc)\n",
    "            part1 = (M_s/1.989e30)**0.33 * f_vrel**0.55\n",
    "            part2 = (M_jup[w]/5.972e24)**0.06 * Qd**0.15 * eta\n",
    "            part3 = time[k] * (M0/5.972e24) / (RHO * (s.Dc/1000)) \n",
    "\n",
    "            a_opt = 50 * part1 / part2 * part3**0.24 \n",
    "            \n",
    "            \n",
    "            s2 = swarms.CollSwarm(M0, Dt, Dmax, L_s, M_s, M_jup[w],\n",
    "                                    a_plv[i], R_pl, eta, Nstr, d_pl,\n",
    "                                    rho=RHO, fQ=5, f_vrel=4/pi,\n",
    "                                    correction=True, alpha=1.2)\n",
    "\n",
    "            s2.updateSwarm(time[k])\n",
    "\n",
    "            F_th = s2.computeFth(array([lamb]), swarm=True)\n",
    "            F_s = s2.computeFs(array([lamb]), 0.32, 0.08, swarm=True)\n",
    "\n",
    "            fth_list.append(F_th[0]/1e-26)\n",
    "            fs_list.append(F_s[0]/1e-26)\n",
    "\n",
    "        contrast_ratio_apl_th = array(fth_list) / F_star\n",
    "        contrast_ratio_apl_s = array(fs_list) / F_star\n",
    "\n",
    "        axes[w, k].loglog(a_plv/1.496e11, contrast_ratio_apl_s)\n",
    "        axes[w, k].axvline(a_opt, ls='--',label=\"a_opt eq.(16)\")\n",
    "        axes[w, k].axvline(12, color='r', ls='--',label=\"12 AU\")\n",
    "        axes[w, k].axhline(1e-7, color='g', ls='--',label=\"Detectable\")\n",
    "        axes[w, k].text(0, 0, 'mass={0:.3e}'.format(M_jup[w])+'\\n'+'time={0:.3e}'.format(time[k]), transform=axes[w, k].transAxes) \n",
    "        if w == 0 and k == 0:\n",
    "            axes[w, k].legend(prop={'size': 9})\n",
    "            #axes[w, k].xlabel(\"a_pl [au]\")\n",
    "            #axes[w, k].ylabel(\"F_swarm / F_star\")\n",
    "plt.show()"
   ]
  }
 ],
 "metadata": {
  "kernelspec": {
   "display_name": "Python 3",
   "language": "python",
   "name": "python3"
  },
  "language_info": {
   "codemirror_mode": {
    "name": "ipython",
    "version": 3
   },
   "file_extension": ".py",
   "mimetype": "text/x-python",
   "name": "python",
   "nbconvert_exporter": "python",
   "pygments_lexer": "ipython3",
   "version": "3.6.5"
  }
 },
 "nbformat": 4,
 "nbformat_minor": 2
}
