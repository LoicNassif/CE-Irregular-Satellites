{
 "cells": [
  {
   "cell_type": "code",
   "execution_count": 70,
   "metadata": {},
   "outputs": [],
   "source": [
    "import swarms\n",
    "import pread as pd\n",
    "from numpy import linspace, logspace, pi, array, exp\n",
    "import matplotlib.pyplot as plt"
   ]
  },
  {
   "cell_type": "code",
   "execution_count": 71,
   "metadata": {},
   "outputs": [],
   "source": [
    "RHO=1500\n",
    "M0 = 10 * 7.34767309e22; Dt = 100.; Dmax = 250000.; L_s = 10 * 3.828e26;\n",
    "M_s = 1.86 * 1.989e30; M_pl = 318 * 5.972e24; a_pl = 50 * 1.496e11\n",
    "R_pl = 6.9911e7; eta = 0.4; Nstr = 6.; d_pl = 10 * 3.086e16\n",
    "argv = [M0, Dt, Dmax, L_s, M_s, M_pl, a_pl, R_pl, eta, Nstr, d_pl]"
   ]
  },
  {
   "cell_type": "code",
   "execution_count": 72,
   "metadata": {},
   "outputs": [],
   "source": [
    "t = 5e7\n",
    "waverange = logspace(-7, -3, 200)\n",
    "lamb = 1.65e-6\n",
    "a_plv = linspace(2 * 1.496e11, 80 * 1.496e11, 500)\n",
    "type_star = \"M\""
   ]
  },
  {
   "cell_type": "code",
   "execution_count": 73,
   "metadata": {},
   "outputs": [],
   "source": [
    "def Fstar(Ls, Bnu, Ts, dpl):\n",
    "    sig = 5.670367e-8 #Stefan-Boltzmann constant\n",
    "    part1 = Ls * Bnu\n",
    "    part2 = 4 * sig * Ts ** 4 * dpl ** 2\n",
    "    return part1 / part2"
   ]
  },
  {
   "cell_type": "code",
   "execution_count": 74,
   "metadata": {},
   "outputs": [],
   "source": [
    "def Finc(R_s, a_pl, F_star, f):\n",
    "    return (f/4) * (R_s / a_pl)**2 * F_star "
   ]
  },
  {
   "cell_type": "code",
   "execution_count": 75,
   "metadata": {},
   "outputs": [],
   "source": [
    "def Fplt(B_nu_plt, R_plt, d_plt):\n",
    "    return B_nu_plt * pi * R_plt ** 2 / d_plt ** 2"
   ]
  },
  {
   "cell_type": "code",
   "execution_count": 76,
   "metadata": {},
   "outputs": [],
   "source": [
    "\"\"\"Access times with data.ages in years\n",
    "          radii with data.radii in meters\n",
    "          luminosity with data.lumin in watts\n",
    "First entry is the root directory.\n",
    "Second entry is the subdirectory.\n",
    "Third entry is the filename.\n",
    "\"\"\"\n",
    "data = pd.Pread('data', 'Z002', 'pltlum_M318Z002.csv') "
   ]
  },
  {
   "cell_type": "code",
   "execution_count": 77,
   "metadata": {},
   "outputs": [],
   "source": [
    "def lum_to_temp(L, R, a_pl):\n",
    "    sig = 5.670367e-8 #Stefan-Boltzmann constant\n",
    "    part1 = L / (4 * pi * sig * R**2)\n",
    "    return (part1)**(1./4.)"
   ]
  },
  {
   "cell_type": "code",
   "execution_count": 78,
   "metadata": {},
   "outputs": [],
   "source": [
    "def waverange_plt():\n",
    "    if type_star == \"A\":\n",
    "        M_s = 2.1 * 1.989e30\n",
    "        L_s = 20 * 3.828e26\n",
    "    elif type_star == \"G\":\n",
    "        M_s = 1 * 1.989e30\n",
    "        L_s = 1 * 3.828e26\n",
    "    elif type_star == \"M\":\n",
    "        M_s = 0.21 * 1.989e30\n",
    "        L_s = 0.0079 * 3.828e26\n",
    "\n",
    "    fplt_list = []\n",
    "\n",
    "    s = swarms.CollSwarm(M0, Dt, Dmax, L_s, M_s, M_pl, a_pl, R_pl, eta, Nstr,\n",
    "                        d_pl, correction=True, alpha=1./1.2)\n",
    "    s.updateSwarm(t)\n",
    "    T_star = s.stellarTemp()\n",
    "    B_nu = s.computeBmu(waverange, T_star)\n",
    "    F_star = Fstar(L_s, B_nu, T_star, d_pl)/1e-26\n",
    "\n",
    "    for i in range(len(waverange)):\n",
    "        s2 = swarms.CollSwarm(M0, Dt, Dmax, L_s, M_s, M_pl,\n",
    "                                a_pl, R_pl, eta, Nstr, d_pl,\n",
    "                                rho=RHO, fQ=5, f_vrel=4/pi,\n",
    "                                correction=True, alpha=1.2)\n",
    "\n",
    "        s2.updateSwarm(t)\n",
    "\n",
    "        index = data.find_time_index(t)\n",
    "        if (index > -1):\n",
    "            T_plt = lum_to_temp(data.lumin[index], data.radii[index])\n",
    "            B_nu_plt = s2.computeBmu(waverange[i], T_plt)\n",
    "            F_plt = Fstar(data.lumin[index], B_nu_plt, T_plt, d_pl)\n",
    "            fplt_list.append(F_plt/1e-26)\n",
    "\n",
    "    contrast_rat_plt = array(fplt_list) / F_star\n",
    "    return contrast_rat_plt, fplt_list"
   ]
  },
  {
   "cell_type": "code",
   "execution_count": 79,
   "metadata": {},
   "outputs": [],
   "source": [
    "def apl_plt():\n",
    "    if type_star == \"A\":\n",
    "        R_s = 1.7 * 6.955e08\n",
    "        M_s = 2.1 * 1.989e30\n",
    "        L_s = 20 * 3.828e26\n",
    "    elif type_star == \"G\":\n",
    "        R_s = 1 * 6.955e08\n",
    "        M_s = 1 * 1.989e30\n",
    "        L_s = 1 * 3.828e26\n",
    "    elif type_star == \"M\":\n",
    "        R_s = 0.32 * 6.955e08\n",
    "        M_s = 0.21 * 1.989e30\n",
    "        L_s = 0.0079 * 3.828e26\n",
    "\n",
    "    fplt_list = []\n",
    "    finc_plt_list = []\n",
    "    \n",
    "    s = swarms.CollSwarm(M0, Dt, Dmax, L_s, M_s, M_pl, a_pl, R_pl, eta, Nstr,\n",
    "                        d_pl, correction=True, alpha=1./1.2)\n",
    "    s.updateSwarm(t)\n",
    "    T_star = s.stellarTemp()\n",
    "    print(T_star)\n",
    "    B_nu = s.computeBmu(lamb, T_star)\n",
    "    F_star = Fstar(L_s, B_nu, T_star, d_pl)/1e-26\n",
    "\n",
    "\n",
    "    for i in range(len(a_plv)):\n",
    "        s2 = swarms.CollSwarm(M0, Dt, Dmax, L_s, M_s, M_pl,\n",
    "                                a_plv[i], R_pl, eta, Nstr, d_pl,\n",
    "                                rho=RHO, fQ=5, f_vrel=4/pi,\n",
    "                                correction=True, alpha=1.2)\n",
    "\n",
    "        s2.updateSwarm(t)\n",
    "\n",
    "        index = data.find_time_index(t)\n",
    "        if (index > -1):\n",
    "            T_plt = lum_to_temp(data.lumin[index], data.radii[index], a_plv[i])\n",
    "            if i < 50:\n",
    "                print(T_plt)\n",
    "            B_nu_plt = s2.computeBmu(lamb, T_plt)\n",
    "            F_plt = Fstar(data.lumin[index], B_nu_plt, T_plt, d_pl)\n",
    "            F_inc = Finc(R_s, a_plv[i], F_star, 1.)\n",
    "            fplt_list.append(F_plt/1e-26)\n",
    "            finc_plt_list.append(F_inc)\n",
    "\n",
    "    contrast_rat_plt = array(fplt_list) / F_star\n",
    "    contrast_rat_inc_plt = array(finc_plt_list) / F_star\n",
    "    print(\"plt radii\")\n",
    "    print(\"{0:.3e}\".format(data.radii[0]))\n",
    "    print(\"plt lumin\")\n",
    "    print(data.lumin[0])\n",
    "    print(\"fplt\")\n",
    "    print(fplt_list[0])\n",
    "    return (contrast_rat_plt) #+ contrast_rat_inc_plt)"
   ]
  },
  {
   "cell_type": "code",
   "execution_count": 80,
   "metadata": {},
   "outputs": [
    {
     "name": "stdout",
     "output_type": "stream",
     "text": [
      "3000.0\n",
      "3221.6404061762814\n",
      "3221.6404061762814\n",
      "3221.6404061762814\n",
      "3221.6404061762814\n",
      "3221.6404061762814\n",
      "3221.6404061762814\n",
      "3221.6404061762814\n",
      "3221.6404061762814\n",
      "3221.6404061762814\n",
      "3221.6404061762814\n",
      "3221.6404061762814\n",
      "3221.6404061762814\n",
      "3221.6404061762814\n",
      "3221.6404061762814\n",
      "3221.6404061762814\n",
      "3221.6404061762814\n",
      "3221.6404061762814\n",
      "3221.6404061762814\n",
      "3221.6404061762814\n",
      "3221.6404061762814\n",
      "3221.6404061762814\n",
      "3221.6404061762814\n",
      "3221.6404061762814\n",
      "3221.6404061762814\n",
      "3221.6404061762814\n",
      "3221.6404061762814\n",
      "3221.6404061762814\n",
      "3221.6404061762814\n",
      "3221.6404061762814\n",
      "3221.6404061762814\n",
      "3221.6404061762814\n",
      "3221.6404061762814\n",
      "3221.6404061762814\n",
      "3221.6404061762814\n",
      "3221.6404061762814\n",
      "3221.6404061762814\n",
      "3221.6404061762814\n",
      "3221.6404061762814\n",
      "3221.6404061762814\n",
      "3221.6404061762814\n",
      "3221.6404061762814\n",
      "3221.6404061762814\n",
      "3221.6404061762814\n",
      "3221.6404061762814\n",
      "3221.6404061762814\n",
      "3221.6404061762814\n",
      "3221.6404061762814\n",
      "3221.6404061762814\n",
      "3221.6404061762814\n",
      "3221.6404061762814\n",
      "plt radii\n",
      "9.116e+07\n",
      "plt lumin\n",
      "1.0382251404916072e+24\n",
      "fplt\n",
      "0.14445081393742082\n"
     ]
    }
   ],
   "source": [
    "#contrast_wave_plt, flux_plt = waverange_plt()\n",
    "contrast_apl_plt = apl_plt()"
   ]
  },
  {
   "cell_type": "code",
   "execution_count": 60,
   "metadata": {},
   "outputs": [
    {
     "ename": "NameError",
     "evalue": "name 's' is not defined",
     "output_type": "error",
     "traceback": [
      "\u001b[1;31m---------------------------------------------------------------------------\u001b[0m",
      "\u001b[1;31mNameError\u001b[0m                                 Traceback (most recent call last)",
      "\u001b[1;32m<ipython-input-60-090d82f534b4>\u001b[0m in \u001b[0;36m<module>\u001b[1;34m()\u001b[0m\n\u001b[0;32m      1\u001b[0m \u001b[0mf_vrel\u001b[0m \u001b[1;33m=\u001b[0m \u001b[1;36m4\u001b[0m\u001b[1;33m/\u001b[0m\u001b[0mpi\u001b[0m\u001b[1;33m\u001b[0m\u001b[0m\n\u001b[1;32m----> 2\u001b[1;33m \u001b[0mQd\u001b[0m \u001b[1;33m=\u001b[0m \u001b[0ms\u001b[0m\u001b[1;33m.\u001b[0m\u001b[0mcomputeQd\u001b[0m\u001b[1;33m(\u001b[0m\u001b[0ms\u001b[0m\u001b[1;33m.\u001b[0m\u001b[0mDc\u001b[0m\u001b[1;33m)\u001b[0m\u001b[1;33m\u001b[0m\u001b[0m\n\u001b[0m\u001b[0;32m      3\u001b[0m \u001b[0mpart1\u001b[0m \u001b[1;33m=\u001b[0m \u001b[1;33m(\u001b[0m\u001b[0mM_s\u001b[0m\u001b[1;33m/\u001b[0m\u001b[1;36m1.989e30\u001b[0m\u001b[1;33m)\u001b[0m\u001b[1;33m**\u001b[0m\u001b[1;36m0.33\u001b[0m \u001b[1;33m*\u001b[0m \u001b[0mf_vrel\u001b[0m\u001b[1;33m**\u001b[0m\u001b[1;36m0.55\u001b[0m\u001b[1;33m\u001b[0m\u001b[0m\n\u001b[0;32m      4\u001b[0m \u001b[0mpart2\u001b[0m \u001b[1;33m=\u001b[0m \u001b[1;33m(\u001b[0m\u001b[0mM_pl\u001b[0m\u001b[1;33m/\u001b[0m\u001b[1;36m5.972e24\u001b[0m\u001b[1;33m)\u001b[0m\u001b[1;33m**\u001b[0m\u001b[1;36m0.06\u001b[0m \u001b[1;33m*\u001b[0m \u001b[0mQd\u001b[0m\u001b[1;33m**\u001b[0m\u001b[1;36m0.15\u001b[0m \u001b[1;33m*\u001b[0m \u001b[0meta\u001b[0m\u001b[1;33m\u001b[0m\u001b[0m\n\u001b[0;32m      5\u001b[0m \u001b[0mpart3\u001b[0m \u001b[1;33m=\u001b[0m \u001b[0mt\u001b[0m \u001b[1;33m*\u001b[0m \u001b[1;33m(\u001b[0m\u001b[0mM0\u001b[0m\u001b[1;33m/\u001b[0m\u001b[1;36m5.972e24\u001b[0m\u001b[1;33m)\u001b[0m \u001b[1;33m/\u001b[0m \u001b[1;33m(\u001b[0m\u001b[0mRHO\u001b[0m \u001b[1;33m*\u001b[0m \u001b[1;33m(\u001b[0m\u001b[0ms\u001b[0m\u001b[1;33m.\u001b[0m\u001b[0mDc\u001b[0m\u001b[1;33m/\u001b[0m\u001b[1;36m1000\u001b[0m\u001b[1;33m)\u001b[0m\u001b[1;33m)\u001b[0m\u001b[1;33m\u001b[0m\u001b[0m\n",
      "\u001b[1;31mNameError\u001b[0m: name 's' is not defined"
     ]
    }
   ],
   "source": [
    "f_vrel = 4/pi\n",
    "Qd = s.computeQd(s.Dc)\n",
    "part1 = (M_s/1.989e30)**0.33 * f_vrel**0.55\n",
    "part2 = (M_pl/5.972e24)**0.06 * Qd**0.15 * eta\n",
    "part3 = t * (M0/5.972e24) / (RHO * (s.Dc/1000)) \n",
    "\n",
    "a_opt = 50 * part1 / part2 * part3**0.24 \n",
    "print(a_opt)"
   ]
  },
  {
   "cell_type": "code",
   "execution_count": 61,
   "metadata": {
    "scrolled": false
   },
   "outputs": [
    {
     "data": {
      "image/png": "[encoded data removed]",
      "text/plain": [
       "<Figure size 432x288 with 1 Axes>"
      ]
     },
     "metadata": {},
     "output_type": "display_data"
    },
    {
     "data": {
      "image/png": "[encoded data removed]",
      "text/plain": [
       "<Figure size 432x288 with 1 Axes>"
      ]
     },
     "metadata": {},
     "output_type": "display_data"
    }
   ],
   "source": [
    "plt.figure(4)\n",
    "plt.loglog(waverange*1e6, flux_plt)\n",
    "plt.title(\"Scattered Emission: Star type \"+str(type_star)+\" and time {0:.2e}\".format(t))\n",
    "plt.xlabel(r\"wavelength [$\\mu$m]\")\n",
    "plt.ylabel(\"F_plt\")\n",
    "plt.show()\n",
    "\n",
    "plt.figure(5)\n",
    "plt.loglog(a_plv/1.496e11, contrast_apl_plt)\n",
    "plt.title(\"Scattered Emission: Star type \"+str(type_star)+\" and time {0:.2e}\".format(t))\n",
    "plt.xlabel(\"a_pl\")\n",
    "plt.ylabel(\"F_plt / F_star\")\n",
    "plt.show()"
   ]
  }
 ],
 "metadata": {
  "kernelspec": {
   "display_name": "Python 3",
   "language": "python",
   "name": "python3"
  },
  "language_info": {
   "codemirror_mode": {
    "name": "ipython",
    "version": 3
   },
   "file_extension": ".py",
   "mimetype": "text/x-python",
   "name": "python",
   "nbconvert_exporter": "python",
   "pygments_lexer": "ipython3",
   "version": "3.6.5"
  }
 },
 "nbformat": 4,
 "nbformat_minor": 2
}
