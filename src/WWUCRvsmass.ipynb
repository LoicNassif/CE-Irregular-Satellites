{
 "cells": [
  {
   "cell_type": "markdown",
   "metadata": {},
   "source": [
    "#### Import Data and Libraries"
   ]
  },
  {
   "cell_type": "code",
   "execution_count": 1,
   "metadata": {},
   "outputs": [],
   "source": [
    "import swarms\n",
    "import matplotlib.pyplot as plt\n",
    "import pandas as pd\n",
    "import pread as pr\n",
    "from numpy import linspace, logspace, pi, array, interp, reshape\n",
    "import numpy as np\n",
    "\n",
    "plt.style.use('paper')"
   ]
  },
  {
   "cell_type": "code",
   "execution_count": 2,
   "metadata": {},
   "outputs": [],
   "source": [
    "\"\"\"Access times with data.ages in years\n",
    "          radii with data.radii in meters\n",
    "          luminosity with data.lumin in watts\n",
    "First entry is the root directory.\n",
    "Second entry is the subdirectory.\n",
    "Third entry is the filename.\n",
    "\"\"\"\n",
    "Mplt_list = np.array([20, 100, 318, 636, 1590]) # mass values in Baraffe table\n",
    "    \n",
    "def data_read(mass):\n",
    "    data = pr.Pread('data', 'Z002', 'pltlum_M'+str(mass)+'Z002.csv') \n",
    "    return data"
   ]
  },
  {
   "cell_type": "markdown",
   "metadata": {},
   "source": [
    "#### Initial Parameters"
   ]
  },
  {
   "cell_type": "code",
   "execution_count": 3,
   "metadata": {},
   "outputs": [
    {
     "data": {
      "text/plain": [
       "0.0010964781961431851"
      ]
     },
     "execution_count": 3,
     "metadata": {},
     "output_type": "execute_result"
    }
   ],
   "source": [
    "10**(-8.25)/10**(-5.29)"
   ]
  },
  {
   "cell_type": "code",
   "execution_count": 4,
   "metadata": {},
   "outputs": [],
   "source": [
    "AU = 1.496e11\n",
    "pc = 3.086e16\n",
    "Msun = 1.989e30\n",
    "Lsun = 3.828e26\n",
    "Mmoon = 7.35e22\n",
    "Mearth = 5.972e24\n",
    "\n",
    "RHO=1500 \n",
    "eta = 0.4; Nstr = 6.; Dt = 100.; Dmax = 150000.; R_pl = 6.9911e7\n",
    "lamb = 1.65e-6\n",
    "\n",
    "Npts = 500\n",
    "GPIIWA = 0.2 # GPI inner working angle in arcsec\n",
    "GPIOWA = 1.2 # Outer working angle"
   ]
  },
  {
   "cell_type": "markdown",
   "metadata": {},
   "source": [
    "#### Helper Functions"
   ]
  },
  {
   "cell_type": "code",
   "execution_count": 5,
   "metadata": {},
   "outputs": [],
   "source": [
    "def a_opt(t, s, M_s, M_plt, M_init):\n",
    "    f_vrel = 4/pi\n",
    "    Qd = s.computeQd(s.Dc)\n",
    "    part1 = (M_s/1.989e30)**0.33 * f_vrel**0.55\n",
    "    part2 = (M_plt/5.972e24)**0.06 * Qd**0.15 * eta\n",
    "    part3 = t * (M_init/5.972e24) / (RHO * (s.Dc/1000)) \n",
    "\n",
    "    return 50 * part1 / part2 * part3**0.24 "
   ]
  },
  {
   "cell_type": "code",
   "execution_count": 6,
   "metadata": {},
   "outputs": [],
   "source": [
    "def Fstar(Ls, Bnu, Ts, apl):\n",
    "    sig = 5.670367e-8 #Stefan-Boltzmann constant\n",
    "    part1 = Ls * Bnu\n",
    "    part2 = 4 * sig * Ts ** 4 * apl ** 2\n",
    "    return part1 / part2"
   ]
  },
  {
   "cell_type": "code",
   "execution_count": 7,
   "metadata": {},
   "outputs": [],
   "source": [
    "def contrast_scat(A, g, Q, a_pl):\n",
    "    return (A*g*Q) / (pi*a_pl**2)"
   ]
  },
  {
   "cell_type": "code",
   "execution_count": 8,
   "metadata": {},
   "outputs": [],
   "source": [
    "def lum_to_temp(L, R):\n",
    "    sig = 5.670367e-8 #Stefan-Boltzmann constant\n",
    "    part1 = L / (4 * pi * sig * R**2)\n",
    "    return (part1)**(1./4.)"
   ]
  },
  {
   "cell_type": "markdown",
   "metadata": {},
   "source": [
    "#### Compute semi-major axis vs. contrast ratio for scattered swarm light"
   ]
  },
  {
   "cell_type": "code",
   "execution_count": 9,
   "metadata": {},
   "outputs": [],
   "source": [
    "def swarm_Mplt_contrast(star, t, M0, a_plt, Mplts):\n",
    "    star_fs_list = []\n",
    "    star_types = []\n",
    "    star_contrast_thresh = []\n",
    "    \n",
    "    M_s = star['Mass'] * Msun\n",
    "    L_s = star['Lum'] * Lsun\n",
    "    T_star = star['Teff']\n",
    "    d_pl = star['Distance_distance'] * pc\n",
    "        \n",
    "    for Mplt in Mplts:\n",
    "        s2 = swarms.CollSwarm(M0, Dt, Dmax, L_s, M_s, Mplt,\n",
    "                                a_plt, R_pl, eta, Nstr, d_pl,\n",
    "                                rho=RHO, fQ=5, f_vrel=4/pi,\n",
    "                                correction=True, alpha=1.2)\n",
    "        s2.updateSwarm(t)\n",
    "\n",
    "        swarm_contrast = contrast_scat(s2.computeAtot(), 0.32, 0.08, a_plt)\n",
    "        star_fs_list.append(swarm_contrast)\n",
    "        \n",
    "    return star_fs_list, Mplts"
   ]
  },
  {
   "cell_type": "code",
   "execution_count": 10,
   "metadata": {
    "scrolled": true
   },
   "outputs": [],
   "source": [
    "def plotting_swarm(fig, ax, star, t, M0, a_plt, Mplts):\n",
    "    star_fs_list, Mplts = swarm_Mplt_contrast(star, t, M0, a_plt, Mplts)\n",
    "    \n",
    "    ax.plot(Mplts/Mearth, star_fs_list, color='b', lw=3, label=\"Initial mass in irregulars: \"+str(M0/Mmoon)+\" Lunar Masses\")          "
   ]
  },
  {
   "cell_type": "code",
   "execution_count": 11,
   "metadata": {},
   "outputs": [
    {
     "data": {
      "text/html": [
       "<div>\n",
       "<style scoped>\n",
       "    .dataframe tbody tr th:only-of-type {\n",
       "        vertical-align: middle;\n",
       "    }\n",
       "\n",
       "    .dataframe tbody tr th {\n",
       "        vertical-align: top;\n",
       "    }\n",
       "\n",
       "    .dataframe thead th {\n",
       "        text-align: right;\n",
       "    }\n",
       "</style>\n",
       "<table border=\"1\" class=\"dataframe\">\n",
       "  <thead>\n",
       "    <tr style=\"text-align: right;\">\n",
       "      <th></th>\n",
       "      <th>TWA</th>\n",
       "      <th>ID</th>\n",
       "      <th>RA_2_A_ICRS_J2017_5_2000</th>\n",
       "      <th>DEC_2_D_ICRS_2017_5_2000</th>\n",
       "      <th>S_Type</th>\n",
       "      <th>Distance_distance</th>\n",
       "      <th>FLUX_I</th>\n",
       "      <th>FLUX_H</th>\n",
       "      <th>Fe_H_Teff</th>\n",
       "      <th>Class</th>\n",
       "      <th>subtype</th>\n",
       "      <th>Mass</th>\n",
       "      <th>Lum</th>\n",
       "      <th>Teff</th>\n",
       "      <th>contrast_thresh</th>\n",
       "      <th>Moving Group</th>\n",
       "      <th>SimbadType</th>\n",
       "      <th>In GPI Sample</th>\n",
       "      <th>Age</th>\n",
       "    </tr>\n",
       "  </thead>\n",
       "  <tbody>\n",
       "    <tr>\n",
       "      <th>0</th>\n",
       "      <td>1</td>\n",
       "      <td>V* TW Hya</td>\n",
       "      <td>11 01 51.8083</td>\n",
       "      <td>-34 42 17.031</td>\n",
       "      <td>K6Ve</td>\n",
       "      <td>60.0860</td>\n",
       "      <td>9.180</td>\n",
       "      <td>7.558</td>\n",
       "      <td>4057</td>\n",
       "      <td>K</td>\n",
       "      <td>6</td>\n",
       "      <td>0.667</td>\n",
       "      <td>0.1200</td>\n",
       "      <td>4057</td>\n",
       "      <td>3.000000e-06</td>\n",
       "      <td>TWA</td>\n",
       "      <td>T Tau-type Star</td>\n",
       "      <td>False</td>\n",
       "      <td>7500000.0</td>\n",
       "    </tr>\n",
       "    <tr>\n",
       "      <th>1</th>\n",
       "      <td>2</td>\n",
       "      <td>CD-29  8887</td>\n",
       "      <td>11 09 13.6749</td>\n",
       "      <td>-30 01 40.070</td>\n",
       "      <td>M2Ve</td>\n",
       "      <td>46.0806</td>\n",
       "      <td>8.875</td>\n",
       "      <td>6.927</td>\n",
       "      <td>3704</td>\n",
       "      <td>M</td>\n",
       "      <td>2</td>\n",
       "      <td>0.440</td>\n",
       "      <td>0.0230</td>\n",
       "      <td>3704</td>\n",
       "      <td>2.000000e-06</td>\n",
       "      <td>TWA</td>\n",
       "      <td>T Tau-type Star</td>\n",
       "      <td>False</td>\n",
       "      <td>7500000.0</td>\n",
       "    </tr>\n",
       "    <tr>\n",
       "      <th>2</th>\n",
       "      <td>3</td>\n",
       "      <td>Hen 3-600</td>\n",
       "      <td>11 10 27.738</td>\n",
       "      <td>-37 31 51.97</td>\n",
       "      <td>M4Ve+M4Ve</td>\n",
       "      <td>42.0000</td>\n",
       "      <td>9.290</td>\n",
       "      <td>7.041</td>\n",
       "      <td>0</td>\n",
       "      <td>M</td>\n",
       "      <td>4</td>\n",
       "      <td>0.200</td>\n",
       "      <td>0.0055</td>\n",
       "      <td>3100</td>\n",
       "      <td>3.000000e-06</td>\n",
       "      <td>TWA</td>\n",
       "      <td>T Tau-type Star</td>\n",
       "      <td>False</td>\n",
       "      <td>7500000.0</td>\n",
       "    </tr>\n",
       "    <tr>\n",
       "      <th>3</th>\n",
       "      <td>4</td>\n",
       "      <td>HD  98800</td>\n",
       "      <td>11 22 05.1800</td>\n",
       "      <td>-24 46 39.757</td>\n",
       "      <td>K5V(e)</td>\n",
       "      <td>46.7000</td>\n",
       "      <td>7.386</td>\n",
       "      <td>5.759</td>\n",
       "      <td>4434</td>\n",
       "      <td>K</td>\n",
       "      <td>5</td>\n",
       "      <td>0.700</td>\n",
       "      <td>0.1900</td>\n",
       "      <td>4434</td>\n",
       "      <td>7.000000e-07</td>\n",
       "      <td>TWA</td>\n",
       "      <td>Variable of RS CVn type</td>\n",
       "      <td>False</td>\n",
       "      <td>7500000.0</td>\n",
       "    </tr>\n",
       "    <tr>\n",
       "      <th>4</th>\n",
       "      <td>5A</td>\n",
       "      <td>CD-33  7795</td>\n",
       "      <td>11 31 55.1407</td>\n",
       "      <td>-34 36 27.214</td>\n",
       "      <td>M2Ve</td>\n",
       "      <td>49.3786</td>\n",
       "      <td>9.150</td>\n",
       "      <td>6.987</td>\n",
       "      <td>3650</td>\n",
       "      <td>M</td>\n",
       "      <td>2</td>\n",
       "      <td>0.440</td>\n",
       "      <td>0.0230</td>\n",
       "      <td>3650</td>\n",
       "      <td>3.000000e-06</td>\n",
       "      <td>TWA</td>\n",
       "      <td>T Tau-type Star</td>\n",
       "      <td>False</td>\n",
       "      <td>7500000.0</td>\n",
       "    </tr>\n",
       "    <tr>\n",
       "      <th>6</th>\n",
       "      <td>6</td>\n",
       "      <td>V* BX Ant</td>\n",
       "      <td>10 18 28.6211</td>\n",
       "      <td>-31 50 02.826</td>\n",
       "      <td>M0Ve</td>\n",
       "      <td>65.6444</td>\n",
       "      <td>9.325</td>\n",
       "      <td>8.180</td>\n",
       "      <td>0</td>\n",
       "      <td>M</td>\n",
       "      <td>0</td>\n",
       "      <td>0.600</td>\n",
       "      <td>0.0720</td>\n",
       "      <td>3800</td>\n",
       "      <td>3.000000e-06</td>\n",
       "      <td>TWA</td>\n",
       "      <td>T Tau-type Star</td>\n",
       "      <td>False</td>\n",
       "      <td>7500000.0</td>\n",
       "    </tr>\n",
       "    <tr>\n",
       "      <th>7</th>\n",
       "      <td>7</td>\n",
       "      <td>V* CE Ant</td>\n",
       "      <td>10 42 29.9354</td>\n",
       "      <td>-33 40 16.226</td>\n",
       "      <td>M2Ve</td>\n",
       "      <td>34.0290</td>\n",
       "      <td>9.100</td>\n",
       "      <td>7.125</td>\n",
       "      <td>0</td>\n",
       "      <td>M</td>\n",
       "      <td>2</td>\n",
       "      <td>0.440</td>\n",
       "      <td>0.0230</td>\n",
       "      <td>3400</td>\n",
       "      <td>3.000000e-06</td>\n",
       "      <td>TWA</td>\n",
       "      <td>T Tau-type Star</td>\n",
       "      <td>True</td>\n",
       "      <td>7500000.0</td>\n",
       "    </tr>\n",
       "    <tr>\n",
       "      <th>13</th>\n",
       "      <td>13</td>\n",
       "      <td>CD-34  7390</td>\n",
       "      <td>11 21 17.24</td>\n",
       "      <td>-34 46 45.5</td>\n",
       "      <td>M1Ve+M1Ve</td>\n",
       "      <td>38.0000</td>\n",
       "      <td>9.038</td>\n",
       "      <td>NaN</td>\n",
       "      <td>0</td>\n",
       "      <td>M</td>\n",
       "      <td>1</td>\n",
       "      <td>0.490</td>\n",
       "      <td>0.0350</td>\n",
       "      <td>3600</td>\n",
       "      <td>3.000000e-06</td>\n",
       "      <td>TWA</td>\n",
       "      <td>Double or multiple star</td>\n",
       "      <td>False</td>\n",
       "      <td>7500000.0</td>\n",
       "    </tr>\n",
       "    <tr>\n",
       "      <th>17</th>\n",
       "      <td>21</td>\n",
       "      <td>HD 298936</td>\n",
       "      <td>10 13 14.6518</td>\n",
       "      <td>-52 30 54.000</td>\n",
       "      <td>K3Ve</td>\n",
       "      <td>53.3504</td>\n",
       "      <td>8.687</td>\n",
       "      <td>7.353</td>\n",
       "      <td>4834</td>\n",
       "      <td>K</td>\n",
       "      <td>3</td>\n",
       "      <td>0.810</td>\n",
       "      <td>0.2600</td>\n",
       "      <td>4834</td>\n",
       "      <td>2.000000e-06</td>\n",
       "      <td>TWA</td>\n",
       "      <td>T Tau-type Star</td>\n",
       "      <td>False</td>\n",
       "      <td>7500000.0</td>\n",
       "    </tr>\n",
       "  </tbody>\n",
       "</table>\n",
       "</div>"
      ],
      "text/plain": [
       "   TWA           ID RA_2_A_ICRS_J2017_5_2000 DEC_2_D_ICRS_2017_5_2000  \\\n",
       "0    1    V* TW Hya            11 01 51.8083            -34 42 17.031   \n",
       "1    2  CD-29  8887            11 09 13.6749            -30 01 40.070   \n",
       "2    3    Hen 3-600             11 10 27.738             -37 31 51.97   \n",
       "3    4    HD  98800            11 22 05.1800            -24 46 39.757   \n",
       "4   5A  CD-33  7795            11 31 55.1407            -34 36 27.214   \n",
       "6    6    V* BX Ant            10 18 28.6211            -31 50 02.826   \n",
       "7    7    V* CE Ant            10 42 29.9354            -33 40 16.226   \n",
       "13  13  CD-34  7390              11 21 17.24              -34 46 45.5   \n",
       "17  21    HD 298936            10 13 14.6518            -52 30 54.000   \n",
       "\n",
       "       S_Type  Distance_distance  FLUX_I  FLUX_H  Fe_H_Teff Class  subtype  \\\n",
       "0        K6Ve            60.0860   9.180   7.558       4057     K        6   \n",
       "1        M2Ve            46.0806   8.875   6.927       3704     M        2   \n",
       "2   M4Ve+M4Ve            42.0000   9.290   7.041          0     M        4   \n",
       "3      K5V(e)            46.7000   7.386   5.759       4434     K        5   \n",
       "4        M2Ve            49.3786   9.150   6.987       3650     M        2   \n",
       "6        M0Ve            65.6444   9.325   8.180          0     M        0   \n",
       "7        M2Ve            34.0290   9.100   7.125          0     M        2   \n",
       "13  M1Ve+M1Ve            38.0000   9.038     NaN          0     M        1   \n",
       "17       K3Ve            53.3504   8.687   7.353       4834     K        3   \n",
       "\n",
       "     Mass     Lum  Teff  contrast_thresh Moving Group  \\\n",
       "0   0.667  0.1200  4057     3.000000e-06          TWA   \n",
       "1   0.440  0.0230  3704     2.000000e-06          TWA   \n",
       "2   0.200  0.0055  3100     3.000000e-06          TWA   \n",
       "3   0.700  0.1900  4434     7.000000e-07          TWA   \n",
       "4   0.440  0.0230  3650     3.000000e-06          TWA   \n",
       "6   0.600  0.0720  3800     3.000000e-06          TWA   \n",
       "7   0.440  0.0230  3400     3.000000e-06          TWA   \n",
       "13  0.490  0.0350  3600     3.000000e-06          TWA   \n",
       "17  0.810  0.2600  4834     2.000000e-06          TWA   \n",
       "\n",
       "                 SimbadType  In GPI Sample        Age  \n",
       "0           T Tau-type Star          False  7500000.0  \n",
       "1           T Tau-type Star          False  7500000.0  \n",
       "2           T Tau-type Star          False  7500000.0  \n",
       "3   Variable of RS CVn type          False  7500000.0  \n",
       "4           T Tau-type Star          False  7500000.0  \n",
       "6           T Tau-type Star          False  7500000.0  \n",
       "7           T Tau-type Star           True  7500000.0  \n",
       "13  Double or multiple star          False  7500000.0  \n",
       "17          T Tau-type Star          False  7500000.0  "
      ]
     },
     "execution_count": 11,
     "metadata": {},
     "output_type": "execute_result"
    }
   ],
   "source": [
    "TWA = pd.read_csv(\"../twatargets.csv\", index_col=0)\n",
    "TWA"
   ]
  },
  {
   "cell_type": "markdown",
   "metadata": {},
   "source": [
    "#### Compute planet mass vs. contrast ratio for scattered swarm light"
   ]
  },
  {
   "cell_type": "code",
   "execution_count": 12,
   "metadata": {},
   "outputs": [],
   "source": [
    "def swarm_mass_contrast(t, M_init, star, a_plt):\n",
    "    # Fix the mass of the planet at 1 M_jup\n",
    "\n",
    "    star_types = []\n",
    "    star_cr_list = []\n",
    "    star_contrast_thresh = []\n",
    "    for j in range(10):\n",
    "        cr_list = []\n",
    "        cr_plt_list = []\n",
    "        \n",
    "        star_types.append(star.subtype)\n",
    "        \n",
    "        M_s = star['Mass'] * Msun\n",
    "        L_s = star['Lum'] * Lsun\n",
    "        T_star = star['Fe_H_Teff']\n",
    "        d_pl = star['Distance_distance'] * pc\n",
    "        contrast_thresh = star['contrast_thresh']\n",
    "        star_contrast_thresh.append(contrast_thresh)\n",
    "        \n",
    "        for i in range(len(Mplt_list)):\n",
    "            plt_data = data_read(str(Mplt_list[i]))\n",
    "            Mplt = Mplt_list[i]*Mearth\n",
    "\n",
    "            s2 = swarms.CollSwarm(M_init, Dt, Dmax, L_s, M_s, Mplt, a_plt, R_pl, eta, Nstr,\n",
    "                                d_pl, correction=True, alpha=1.2)\n",
    "\n",
    "            s2.updateSwarm(t)\n",
    "\n",
    "            # Fix the semi-major axis at a_opt\n",
    "            #aopt = a_opt(t, s, M_s, Mplt, M_init)\n",
    "            B_nu_list = s2.computeBmu(array([lamb]), T_star)\n",
    "            F_star = Fstar(L_s, B_nu_list, T_star, d_pl)/1e-26\n",
    "\n",
    "            #s2 = swarms.CollSwarm(M_init, Dt, Dmax, L_s, M_s, Mplt, a_plt, R_pl, eta, Nstr, d_pl, rho=RHO, fQ=5, f_vrel=4/pi, correction=True, alpha=1.2)\n",
    "\n",
    "            #s2.updateSwarm(t)\n",
    "\n",
    "            # Planet Emissions\n",
    "            index = plt_data.find_time_index(t)\n",
    "            if (index > -1):\n",
    "                T_plt = lum_to_temp(plt_data.lumin[index], plt_data.radii[index])\n",
    "                #print(\"Mplt = {0}, T = {1}, lambda = {2}\".format(Mplt/Mearth, T_plt, 2900/T_plt))\n",
    "                B_nu_plt = s2.computeBmu(array([lamb]), T_plt)\n",
    "                F_plt = Fstar(plt_data.lumin[index], B_nu_plt, T_plt, d_pl)\n",
    "                F_plt = F_plt/1e-26\n",
    "                cr_plt_list.append(F_plt/F_star)\n",
    "                #print(\"F_plt: \"+\"{0:.3e}\".format(F_plt[0])+\"\\t F_star: \"+ \"{0:.3e}\".format(F_star[0]))\n",
    "            # swarm scattered light\n",
    "            contrast_swarm = contrast_scat(s2.computeAtot(), 0.32, 0.08, a_plt)\n",
    "            cr_list.append(contrast_swarm)\n",
    "        star_cr_list.append(cr_plt_list)\n",
    "    return star_cr_list, star_types, star_contrast_thresh, Mplt_list"
   ]
  },
  {
   "cell_type": "code",
   "execution_count": 13,
   "metadata": {},
   "outputs": [],
   "source": [
    "def swarm_time_contrast(time, star, a_plt, Minit):\n",
    "    # Fix the mass of the planet at x M_jup\n",
    "    x = 636\n",
    "    \n",
    "    plt_data = data_read(str(x))\n",
    "    Mplt = x*Mearth\n",
    "    \n",
    "    cr_list = []\n",
    "    cr_plt_list = []\n",
    "    visited_index = []\n",
    "    M_s = star['Mass'] * Msun\n",
    "    L_s = star['Lum'] * Lsun\n",
    "    T_star = star['Fe_H_Teff']\n",
    "    d_pl = star['Distance_distance'] * pc\n",
    "\n",
    "    for i in range(len(time)):\n",
    "        s2 = swarms.CollSwarm(Minit, Dt, Dmax, L_s, M_s, Mplt, a_plt, R_pl, eta, Nstr,\n",
    "                            d_pl, correction=True, alpha=1.2)\n",
    "\n",
    "        s2.updateSwarm(time[i])\n",
    "\n",
    "        # Fix the semi-major axis at a_opt\n",
    "        #aopt = a_opt(time[i], s, M_s, Mplt, Minit)\n",
    "\n",
    "        B_nu_list = s2.computeBmu(array([lamb]), T_star)\n",
    "        F_star = Fstar(L_s, B_nu_list, T_star, d_pl)/1e-26\n",
    "        \n",
    "        #s2 = swarms.CollSwarm(Minit, Dt, Dmax, L_s, M_s, Mplt, aopt*AU, R_pl, eta, Nstr, d_pl, rho=RHO, fQ=5, f_vrel=4/pi, correction=True, alpha=1.2)\n",
    "\n",
    "        s2.updateSwarm(time[i])\n",
    "        \n",
    "        # Planet Emissions\n",
    "        index = plt_data.find_time_index(time[i])\n",
    "        if (index > -1 and (index not in visited_index)):\n",
    "            T_plt = lum_to_temp(plt_data.lumin[index], plt_data.radii[index])\n",
    "            B_nu_plt = s2.computeBmu(array([lamb]), T_plt)\n",
    "            F_plt = Fstar(plt_data.lumin[index], B_nu_plt, T_plt, d_pl)\n",
    "            F_plt = F_plt/1e-26\n",
    "            cr_plt_list.append(F_plt/F_star)\n",
    "            visited_index.append(index)\n",
    "            #print(\"F_plt: \"+\"{0:.3e}\".format(F_plt[0])+\"\\t F_star: \"+ \"{0:.3e}\".format(F_star[0]))\n",
    "        # swarm scattered light\n",
    "        contrast_swarm = contrast_scat(s2.computeAtot(), 0.32, 0.08, a_plt)\n",
    "        cr_list.append(contrast_swarm)\n",
    "    return cr_list, cr_plt_list, Mplt"
   ]
  },
  {
   "cell_type": "code",
   "execution_count": 14,
   "metadata": {},
   "outputs": [],
   "source": [
    "from scipy.interpolate import interp1d\n",
    "\n",
    "def plot_planet_thermal(fig, ax, t, M_init, star, a_plt, Mplts):\n",
    "    star_cr_list, star_types, star_contrast_thresh, Mplt_list = swarm_mass_contrast(t, M_init, star, a_plt)\n",
    "    visited_types = []\n",
    "    color_map = ['r', 'b', 'g', 'y', 'c']\n",
    "    for i in range(len(star_cr_list)):\n",
    "        cr_plt_list = array(star_cr_list[i]).flatten()\n",
    "        cr = interp1d(np.log10(Mplt_list), np.log10(cr_plt_list), kind='linear')\n",
    "        star_cr = cr(np.log10(Mplts/Mearth))\n",
    "        ax.plot(Mplts/Mearth, 10**star_cr, color='r', lw=3)  "
   ]
  },
  {
   "cell_type": "code",
   "execution_count": 15,
   "metadata": {},
   "outputs": [
    {
     "data": {
      "text/plain": [
       "TWA                                       2\n",
       "ID                              CD-29  8887\n",
       "RA_2_A_ICRS_J2017_5_2000      11 09 13.6749\n",
       "DEC_2_D_ICRS_2017_5_2000      -30 01 40.070\n",
       "S_Type                                 M2Ve\n",
       "Distance_distance                   46.0806\n",
       "FLUX_I                                8.875\n",
       "FLUX_H                                6.927\n",
       "Fe_H_Teff                              3704\n",
       "Class                                     M\n",
       "subtype                                   2\n",
       "Mass                                   0.44\n",
       "Lum                                   0.023\n",
       "Teff                                   3704\n",
       "contrast_thresh                       2e-06\n",
       "Moving Group                            TWA\n",
       "SimbadType                  T Tau-type Star\n",
       "In GPI Sample                         False\n",
       "Age                                 7.5e+06\n",
       "Name: 1, dtype: object"
      ]
     },
     "execution_count": 15,
     "metadata": {},
     "output_type": "execute_result"
    }
   ],
   "source": [
    "star = TWA.loc[1]\n",
    "star"
   ]
  },
  {
   "cell_type": "code",
   "execution_count": 23,
   "metadata": {},
   "outputs": [
    {
     "data": {
      "text/plain": [
       "(1e-10, 0.0001)"
      ]
     },
     "execution_count": 23,
     "metadata": {},
     "output_type": "execute_result"
    },
    {
     "name": "stderr",
     "output_type": "stream",
     "text": [
      "/Users/dtamayo/miniconda3/envs/p3/lib/python3.7/site-packages/matplotlib/font_manager.py:1331: UserWarning: findfont: Font family ['serif'] not found. Falling back to DejaVu Sans\n",
      "  (prop.get_family(), self.defaultFamily[fontext]))\n"
     ]
    },
    {
     "data": {
      "image/png": "[encoded data removed]",
      "text/plain": [
       "<Figure size 864x576 with 1 Axes>"
      ]
     },
     "metadata": {
      "needs_background": "light"
     },
     "output_type": "display_data"
    }
   ],
   "source": [
    "fig, ax = plt.subplots(figsize=(12,8))\n",
    "plt.subplots_adjust(wspace=0)\n",
    "    \n",
    "M0 = Mearth\n",
    "age = 1.e7 # yrs\n",
    "a_plt = 0.7*star['Distance_distance']*AU # middle of GPI FOV\n",
    "Mplts = logspace(np.log10(20), np.log10(1590), Npts)*Mearth # ~Neptune to 5 Mj\n",
    "        \n",
    "plotting_swarm(fig, ax, star, age, M0, a_plt, Mplts)#, age, color='red', label='TWA Targets (Age={0}Myr)'.format(age/1.e6))\n",
    "plotting_swarm(fig, ax, star, age, M0/10, a_plt, Mplts)\n",
    "#plotting_swarm(fig, axarr[0], star, age, M0/100, a_plt, Mplts)\n",
    "\n",
    "plot_planet_thermal(fig, ax, 1.1e7, 100*Mmoon, star, a_plt, Mplts)\n",
    "\n",
    "contrast_thresh = 1.e-6    \n",
    "#ax.hlines(contrast_thresh, GPIIWA, GPIOWA, linestyle='--', label=\"contrast threshold\")\n",
    "ax.vlines(17, 1.e-16, 1, lw=1, color='k')\n",
    "ax.vlines(318, 1.e-16, 1, lw=1, color='k')\n",
    "\n",
    "ax.text(18, 2.e-9, \"Nep\", color='k', fontsize=18)\n",
    "ax.text(375, 2.e-9, \"Jup\", color='k', fontsize=18)\n",
    "ax.text(18, 1.e-8, \"Planet Thermal Emission\", color='r', fontsize=18)\n",
    "ax.text(18, 3.e-6, \"Irregular Satellite Disks\", color='b', fontsize=18)\n",
    "ax.text(700, 4.e-6, r\"$1 M_\\oplus$\", color='b', fontsize=18)\n",
    "ax.text(700, 3.e-7, r\"$0.1 M_\\oplus$\", color='b', fontsize=18)\n",
    "#a].text(700, 3.e-8, r\"$0.01 M_\\oplus$\", color='b', fontsize=18)\n",
    "#a].set_title(\"              M2 star at 45 pc\", fontsize=24)\n",
    "ax.set_xlabel(\"Planet Mass [Earth Masses]\", fontsize=18)\n",
    "ax.set_ylabel(\"Contrast Ratio\", fontsize=18)\n",
    "ax.set_yscale('log')\n",
    "ax.set_xscale('log')\n",
    "ax.set_ylim([1e-10, 1e-4])"
   ]
  },
  {
   "cell_type": "code",
   "execution_count": 17,
   "metadata": {},
   "outputs": [
    {
     "ename": "NameError",
     "evalue": "name 'Baraffe' is not defined",
     "output_type": "error",
     "traceback": [
      "\u001b[0;31m---------------------------------------------------------------------------\u001b[0m",
      "\u001b[0;31mNameError\u001b[0m                                 Traceback (most recent call last)",
      "\u001b[0;32m<ipython-input-17-666f6f15ff28>\u001b[0m in \u001b[0;36m<module>\u001b[0;34m()\u001b[0m\n\u001b[0;32m----> 1\u001b[0;31m \u001b[0mBaraffe\u001b[0m\u001b[0;34m,\u001b[0m \u001b[0mChabrier\u001b[0m\u001b[0;34m,\u001b[0m \u001b[0mBarman\u001b[0m\u001b[0;34m,\u001b[0m \u001b[0;36m2008\u001b[0m\u001b[0;34m,\u001b[0m \u001b[0mA\u001b[0m\u001b[0;34m&\u001b[0m\u001b[0mA\u001b[0m\u001b[0;34m\u001b[0m\u001b[0;34m\u001b[0m\u001b[0m\n\u001b[0m",
      "\u001b[0;31mNameError\u001b[0m: name 'Baraffe' is not defined"
     ]
    }
   ],
   "source": [
    "Baraffe, Chabrier, Barman, 2008, A&A"
   ]
  },
  {
   "cell_type": "markdown",
   "metadata": {},
   "source": [
    "#### Compute time vs. contrast ratio for scattered swarm light"
   ]
  },
  {
   "cell_type": "code",
   "execution_count": 18,
   "metadata": {},
   "outputs": [],
   "source": [
    "def swarm_time_contrast(M_init, time):\n",
    "    # Fix the mass of the planet at 1 M_jup\n",
    "    plt_data = data_read(\"636\")\n",
    "    Mplt = 636*Mearth\n",
    "\n",
    "    star_types = []\n",
    "    star_cr_list = []\n",
    "    star_contrast_thresh = []\n",
    "    for j in range(9):\n",
    "        cr_list = []\n",
    "        cr_plt_list = []\n",
    "        \n",
    "        star = TWA.iloc[j]\n",
    "        star_types.append(star.subtype)\n",
    "        \n",
    "        M_s = star['Mass'] * Msun\n",
    "        L_s = star['Lum'] * Lsun\n",
    "        T_star = star['Fe_H_Teff']\n",
    "        d_pl = star['Distance_distance'] * pc\n",
    "        contrast_thresh = star['contrast_thresh']\n",
    "        star_contrast_thresh.append(contrast_thresh)\n",
    "        \n",
    "        for i in range(len(time)):\n",
    "            s = swarms.CollSwarm(M_init, Dt, Dmax, L_s, M_s, Mplt, a_plt, R_pl, eta, Nstr,\n",
    "                                d_pl, correction=True, alpha=1.2)\n",
    "\n",
    "            s.updateSwarm(time[i])\n",
    "\n",
    "            # Fix the semi-major axis at a_opt\n",
    "            aopt = a_opt(time[i], s, M_s, Mplt, M_init)\n",
    "\n",
    "            B_nu_list = s.computeBmu(array([lamb]), T_star)\n",
    "            F_star = Fstar(L_s, B_nu_list, T_star, d_pl)/1e-26\n",
    "\n",
    "            s2 = swarms.CollSwarm(M_init, Dt, Dmax, L_s, M_s, Mplt,\n",
    "                                    aopt*AU, R_pl, eta, Nstr, d_pl,\n",
    "                                    rho=RHO, fQ=5, f_vrel=4/pi,\n",
    "                                    correction=True, alpha=1.2)\n",
    "\n",
    "            s2.updateSwarm(time[i])\n",
    "\n",
    "            # Planet Emissions\n",
    "            index = plt_data.find_time_index(time[i])\n",
    "            if (index > -1):\n",
    "                T_plt = lum_to_temp(plt_data.lumin[index], plt_data.radii[index])\n",
    "                B_nu_plt = s2.computeBmu(array([lamb]), T_plt)\n",
    "                F_plt = Fstar(plt_data.lumin[index], B_nu_plt, T_plt, d_pl)\n",
    "                F_plt = F_plt/1e-26\n",
    "                cr_plt_list.append(F_plt/F_star)\n",
    "                #print(\"F_plt: \"+\"{0:.3e}\".format(F_plt[0])+\"\\t F_star: \"+ \"{0:.3e}\".format(F_star[0]))\n",
    "            # swarm scattered light\n",
    "            contrast_swarm = contrast_scat(s2.computeAtot(), 0.32, 0.08, aopt*AU)\n",
    "            cr_list.append(contrast_swarm)\n",
    "        star_cr_list.append(cr_list)\n",
    "    return star_cr_list, star_types, star_contrast_thresh, Mplt"
   ]
  },
  {
   "cell_type": "code",
   "execution_count": 69,
   "metadata": {},
   "outputs": [],
   "source": [
    "def plotting(M_init, time):\n",
    "    star_cr_list, star_types, star_contrast_thresh, Mplt = swarm_time_contrast(M_init, time)\n",
    "    visited_types = []\n",
    "    #color_map = ['r', 'b', 'g', 'y', 'c']\n",
    "    plt.figure(2)\n",
    "    \n",
    "    # Hash map to order elements\n",
    "    hmap = {}\n",
    "    for i in range(len(star_types)):\n",
    "        hmap[str(star_types[i])] = star_cr_list[i]\n",
    "    star_types.sort()\n",
    "    \n",
    "    for i in range(len(star_types)):\n",
    "        if not (star_types[i] in visited_types):\n",
    "            plt.loglog(time, hmap[str(star_types[i])], 'r', alpha=1.0 - i*0.1, label=\"M\"+str(star_types[i]))\n",
    "            visited_types.append(star_types[i])\n",
    "        else:\n",
    "            plt.loglog(time, hmap[str(star_types[i])], 'r', alpha=1.0 - i*0.1)\n",
    "\n",
    "    for i in range(len(star_contrast_thresh)):\n",
    "        plt.hlines(star_contrast_thresh[i], time[0], time[-1], alpha=1.0 - i*0.1, linestyles='--')\n",
    "\n",
    "\n",
    "    #plt.hlines(contrast_thresh, time[0], time[-1], label=\"contrast threshold\")\n",
    "    plt.title(r\"planet mass \"+\"{0:.2e}\".format(Mplt/Mearth)+\"$M_{\\oplus}$\"+\n",
    "              \" and init swarm mass \"+\"{0:.2e}\".format(M_init/Mmoon)+\"$M_{moon}$\")\n",
    "    plt.ylabel(\"contrast ratio\")\n",
    "    plt.xlabel(\"time [years]\")\n",
    "    plt.ylim(1e-7, 1e-6)\n",
    "    plt.legend()\n",
    "    plt.show()"
   ]
  },
  {
   "cell_type": "code",
   "execution_count": 70,
   "metadata": {},
   "outputs": [
    {
     "name": "stderr",
     "output_type": "stream",
     "text": [
      "C:\\Users\\loloynage\\Documents\\CE-Irregular-Satellites\\src\\swarms.py:277: RuntimeWarning: divide by zero encountered in true_divide\n",
      "  b = 1/(exp(h*(c/lamb)/(k_B*T)) - 1)\n",
      "c:\\users\\loloynage\\this_is_python\\lib\\site-packages\\ipykernel_launcher.py:5: RuntimeWarning: invalid value encountered in true_divide\n",
      "  \"\"\"\n"
     ]
    },
    {
     "data": {
      "image/png": "[encoded data removed]",
      "text/plain": [
       "<Figure size 432x288 with 1 Axes>"
      ]
     },
     "metadata": {},
     "output_type": "display_data"
    },
    {
     "data": {
      "image/png": "[encoded data removed]",
      "text/plain": [
       "<Figure size 432x288 with 1 Axes>"
      ]
     },
     "metadata": {},
     "output_type": "display_data"
    },
    {
     "data": {
      "image/png": "[encoded data removed]",
      "text/plain": [
       "<Figure size 432x288 with 1 Axes>"
      ]
     },
     "metadata": {},
     "output_type": "display_data"
    }
   ],
   "source": [
    "time = linspace(1e7, 1e8, 1000)\n",
    "\n",
    "plotting(1*Mmoon, time)\n",
    "plotting(10*Mmoon, time)\n",
    "plotting(100*Mmoon, time)"
   ]
  },
  {
   "cell_type": "code",
   "execution_count": null,
   "metadata": {},
   "outputs": [],
   "source": []
  }
 ],
 "metadata": {
  "kernelspec": {
   "display_name": "Python 3",
   "language": "python",
   "name": "python3"
  },
  "language_info": {
   "codemirror_mode": {
    "name": "ipython",
    "version": 3
   },
   "file_extension": ".py",
   "mimetype": "text/x-python",
   "name": "python",
   "nbconvert_exporter": "python",
   "pygments_lexer": "ipython3",
   "version": "3.7.1"
  }
 },
 "nbformat": 4,
 "nbformat_minor": 2
}
