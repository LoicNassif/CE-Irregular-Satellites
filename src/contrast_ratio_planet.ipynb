{
 "cells": [
  {
   "cell_type": "code",
   "execution_count": 1,
   "metadata": {},
   "outputs": [],
   "source": [
    "import swarms\n",
    "import pread as pd\n",
    "from numpy import linspace, logspace, pi, array, exp\n",
    "import matplotlib.pyplot as plt"
   ]
  },
  {
   "cell_type": "code",
   "execution_count": 69,
   "metadata": {},
   "outputs": [],
   "source": [
    "RHO=1500\n",
    "M0 = 10 * 7.34767309e22; Dt = 100.; Dmax = 250000.; L_s = 10 * 3.828e26;\n",
    "M_s = 1.86 * 1.989e30; M_pl = 20 * 1.89587112e27; a_pl = 50 * 1.496e11\n",
    "R_pl = 6.9911e7; eta = 0.4; Nstr = 6.; d_pl = 10 * 3.086e16\n",
    "argv = [M0, Dt, Dmax, L_s, M_s, M_pl, a_pl, R_pl, eta, Nstr, d_pl]"
   ]
  },
  {
   "cell_type": "code",
   "execution_count": 83,
   "metadata": {},
   "outputs": [],
   "source": [
    "t = 1e9\n",
    "waverange = logspace(-7, -3, 200)\n",
    "lamb = 1.65e-6\n",
    "a_plv = linspace(2 * 1.496e11, 80 * 1.496e11, 500)\n",
    "type_star = \"M\""
   ]
  },
  {
   "cell_type": "code",
   "execution_count": 84,
   "metadata": {},
   "outputs": [],
   "source": [
    "def Fstar(Ls, Bnu, Ts, dpl):\n",
    "    sig = 5.670367e-8 #Stefan-Boltzmann constant\n",
    "    part1 = Ls * Bnu\n",
    "    part2 = 4 * sig * Ts ** 4 * dpl ** 2\n",
    "    return part1 / part2"
   ]
  },
  {
   "cell_type": "code",
   "execution_count": 85,
   "metadata": {},
   "outputs": [],
   "source": [
    "def Fplt(B_nu_plt, R_plt, d_plt):\n",
    "    return B_nu_plt * pi * R_plt ** 2 / d_plt ** 2"
   ]
  },
  {
   "cell_type": "code",
   "execution_count": 86,
   "metadata": {},
   "outputs": [],
   "source": [
    "\"\"\"Access times with data.ages in years\n",
    "          radii with data.radii in meters\n",
    "          luminosity with data.lumin in watts\n",
    "First entry is the root directory.\n",
    "Second entry is the subdirectory.\n",
    "Third entry is the filename.\n",
    "\"\"\"\n",
    "data = pd.Pread('data', 'Z002', 'pltlum_M20Z002.csv') "
   ]
  },
  {
   "cell_type": "code",
   "execution_count": 87,
   "metadata": {},
   "outputs": [],
   "source": [
    "def lum_to_temp(L, R):\n",
    "    sig = 5.670367e-8 #Stefan-Boltzmann constant\n",
    "    part1 = L / (4 * pi * sig * R**2)\n",
    "    return (part1)**(1./4.)"
   ]
  },
  {
   "cell_type": "code",
   "execution_count": 100,
   "metadata": {},
   "outputs": [],
   "source": [
    "def waverange_plt():\n",
    "    if type_star == \"A\":\n",
    "        M_s = 2.1 * 1.989e30\n",
    "        L_s = 20 * 3.828e26\n",
    "    elif type_star == \"G\":\n",
    "        M_s = 1 * 1.989e30\n",
    "        L_s = 1 * 3.828e26\n",
    "    elif type_star == \"M\":\n",
    "        M_s = 0.21 * 1.989e30\n",
    "        L_s = 0.0079 * 3.828e26\n",
    "\n",
    "    fplt_list = []\n",
    "\n",
    "    s = swarms.CollSwarm(M0, Dt, Dmax, L_s, M_s, M_pl, a_pl, R_pl, eta, Nstr,\n",
    "                        d_pl, correction=True, alpha=1./1.2)\n",
    "    s.updateSwarm(t)\n",
    "    T_star = s.stellarTemp()\n",
    "    B_nu = s.computeBmu(waverange, T_star)\n",
    "    F_star = Fstar(L_s, B_nu, T_star, d_pl)/1e-26\n",
    "\n",
    "    for i in range(len(waverange)):\n",
    "        s2 = swarms.CollSwarm(M0, Dt, Dmax, L_s, M_s, M_pl,\n",
    "                                a_pl, R_pl, eta, Nstr, d_pl,\n",
    "                                rho=RHO, fQ=5, f_vrel=4/pi,\n",
    "                                correction=True, alpha=1.2)\n",
    "\n",
    "        s2.updateSwarm(t)\n",
    "\n",
    "        index = data.find_time_index(t)\n",
    "        if (index > -1):\n",
    "            T_plt = lum_to_temp(data.lumin[index], data.radii[index])\n",
    "            B_nu_plt = s2.computeBmu(waverange[i], T_plt)\n",
    "            F_plt = Fplt(B_nu_plt, data.radii[index], d_pl)\n",
    "            fplt_list.append(F_plt/1e-26)\n",
    "\n",
    "    contrast_rat_plt = array(fplt_list) / F_star\n",
    "    return contrast_rat_plt"
   ]
  },
  {
   "cell_type": "code",
   "execution_count": 101,
   "metadata": {},
   "outputs": [],
   "source": [
    "def apl_plt():\n",
    "    if type_star == \"A\":\n",
    "        M_s = 2.1 * 1.989e30\n",
    "        L_s = 20 * 3.828e26\n",
    "    elif type_star == \"G\":\n",
    "        M_s = 1 * 1.989e30\n",
    "        L_s = 1 * 3.828e26\n",
    "    elif type_star == \"M\":\n",
    "        M_s = 0.21 * 1.989e30\n",
    "        L_s = 0.0079 * 3.828e26\n",
    "\n",
    "    fplt_list = []\n",
    "\n",
    "    s = swarms.CollSwarm(M0, Dt, Dmax, L_s, M_s, M_pl, a_pl, R_pl, eta, Nstr,\n",
    "                        d_pl, correction=True, alpha=1./1.2)\n",
    "    s.updateSwarm(t)\n",
    "    T_star = s.stellarTemp()\n",
    "    B_nu = s.computeBmu(lamb, T_star)\n",
    "    F_star = Fstar(L_s, B_nu, T_star, d_pl)/1e-26\n",
    "\n",
    "\n",
    "    for i in range(len(a_plv)):\n",
    "        s2 = swarms.CollSwarm(M0, Dt, Dmax, L_s, M_s, M_pl,\n",
    "                                a_plv[i], R_pl, eta, Nstr, d_pl,\n",
    "                                rho=RHO, fQ=5, f_vrel=4/pi,\n",
    "                                correction=True, alpha=1.2)\n",
    "\n",
    "        s2.updateSwarm(t)\n",
    "\n",
    "        index = data.find_time_index(t)\n",
    "        if (index > -1):\n",
    "            T_plt = lum_to_temp(data.lumin[index], data.radii[index])\n",
    "            B_nu_plt = s2.computeBmu(lamb, T_plt)\n",
    "            F_plt = Fplt(B_nu_plt, data.radii[index], d_pl)\n",
    "            fplt_list.append(F_plt/1e-26)\n",
    "\n",
    "    contrast_rat_plt = array(fplt_list) / F_star\n",
    "    return contrast_rat_plt"
   ]
  },
  {
   "cell_type": "code",
   "execution_count": 102,
   "metadata": {},
   "outputs": [],
   "source": [
    "contrast_wave_plt = waverange_plt()\n",
    "contrast_apl_plt = apl_plt()"
   ]
  },
  {
   "cell_type": "code",
   "execution_count": 103,
   "metadata": {},
   "outputs": [
    {
     "name": "stdout",
     "output_type": "stream",
     "text": [
      "42.83913147638353\n"
     ]
    }
   ],
   "source": [
    "f_vrel = 4/pi\n",
    "Qd = s.computeQd(s.Dc)\n",
    "part1 = (M_s/1.989e30)**0.33 * f_vrel**0.55\n",
    "part2 = (M_pl/5.972e24)**0.06 * Qd**0.15 * eta\n",
    "part3 = t * (M0/5.972e24) / (RHO * (s.Dc/1000)) \n",
    "\n",
    "a_opt = 50 * part1 / part2 * part3**0.24 \n",
    "print(a_opt)"
   ]
  },
  {
   "cell_type": "code",
   "execution_count": 106,
   "metadata": {
    "scrolled": false
   },
   "outputs": [
    {
     "data": {
      "image/png": "[encoded data removed]",
      "text/plain": [
       "<Figure size 432x288 with 1 Axes>"
      ]
     },
     "metadata": {},
     "output_type": "display_data"
    },
    {
     "name": "stderr",
     "output_type": "stream",
     "text": [
      "No handles with labels found to put in legend.\n"
     ]
    },
    {
     "data": {
      "image/png": "[encoded data removed]",
      "text/plain": [
       "<Figure size 432x288 with 1 Axes>"
      ]
     },
     "metadata": {},
     "output_type": "display_data"
    }
   ],
   "source": [
    "plt.figure(4)\n",
    "plt.loglog(waverange*1e6, contrast_wave_plt)\n",
    "plt.title(\"Scattered Emission: Star type \"+str(type_star)+\" and time {0:.2e}\".format(t))\n",
    "plt.xlabel(r\"wavelength [$\\mu$m]\")\n",
    "plt.ylabel(\"F_plt / F_star\")\n",
    "plt.show()\n",
    "\n",
    "plt.figure(5)\n",
    "plt.loglog(a_plv, contrast_apl_plt)\n",
    "#plt.axvline(a_opt, ls='--',label=\"a_opt eq.(16)\")\n",
    "#plt.axvline(12, color='r', ls='--',label=\"12 AU\")\n",
    "#plt.axhline(1e-7, color='g', ls='--',label=\"Detectable\")\n",
    "plt.legend()\n",
    "plt.title(\"Scattered Emission: Star type \"+str(type_star)+\" and time {0:.2e}\".format(t))\n",
    "plt.xlabel(\"a_pl\")\n",
    "plt.ylabel(\"F_plt / F_star\")\n",
    "plt.show()"
   ]
  }
 ],
 "metadata": {
  "kernelspec": {
   "display_name": "Python 3",
   "language": "python",
   "name": "python3"
  },
  "language_info": {
   "codemirror_mode": {
    "name": "ipython",
    "version": 3
   },
   "file_extension": ".py",
   "mimetype": "text/x-python",
   "name": "python",
   "nbconvert_exporter": "python",
   "pygments_lexer": "ipython3",
   "version": "3.6.5"
  }
 },
 "nbformat": 4,
 "nbformat_minor": 2
}
