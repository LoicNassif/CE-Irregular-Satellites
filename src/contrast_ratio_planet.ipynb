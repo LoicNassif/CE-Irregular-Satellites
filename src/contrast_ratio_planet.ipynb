{
 "cells": [
  {
   "cell_type": "code",
   "execution_count": 3,
   "metadata": {},
   "outputs": [],
   "source": [
    "import swarms\n",
    "import pread as pd\n",
    "from numpy import linspace, logspace, pi, array, exp\n",
    "import matplotlib.pyplot as plt"
   ]
  },
  {
   "cell_type": "code",
   "execution_count": 4,
   "metadata": {},
   "outputs": [],
   "source": [
    "RHO=1500\n",
    "M0 = 10 * 7.34767309e22; Dt = 100.; Dmax = 650000.; L_s = 10 * 3.828e26;\n",
    "M_s = 1.86 * 1.989e30; M_pl = 1 * 1.89587112e27; a_pl = 50 * 1.496e11\n",
    "R_pl = 6.9911e7; eta = 0.4; Nstr = 6.; d_pl = 10 * 3.086e16\n",
    "argv = [M0, Dt, Dmax, L_s, M_s, M_pl, a_pl, R_pl, eta, Nstr, d_pl]"
   ]
  },
  {
   "cell_type": "code",
   "execution_count": 21,
   "metadata": {},
   "outputs": [],
   "source": [
    "t = 1e8\n",
    "lamb = 1.65e-6\n",
    "a_plv = linspace(2 * 1.496e11, 80 * 1.496e11, 500)\n",
    "type_star = \"M\""
   ]
  },
  {
   "cell_type": "code",
   "execution_count": 22,
   "metadata": {},
   "outputs": [],
   "source": [
    "def Fstar(Ls, Bnu, Ts, dpl):\n",
    "    sig = 5.670367e-8 #Stefan-Boltzmann constant\n",
    "    part1 = Ls * Bnu\n",
    "    part2 = 4 * sig * Ts ** 4 * dpl ** 2\n",
    "    return part1 / part2"
   ]
  },
  {
   "cell_type": "code",
   "execution_count": 32,
   "metadata": {},
   "outputs": [],
   "source": [
    "def Fplt(B_nu_plt, R_plt, d_plt):\n",
    "    return B_nu_plt * pi * R_plt ** 2 / d_plt ** 2"
   ]
  },
  {
   "cell_type": "code",
   "execution_count": 24,
   "metadata": {},
   "outputs": [
    {
     "name": "stdout",
     "output_type": "stream",
     "text": [
      "[10780000.0, 11670000.0, 12610000.0, 14710000.0, 15879999.999999998, 18490000.0, 21520000.0, 23230000.0, 27060000.0, 29230000.0, 34160000.0, 36960000.0, 40030000.0, 47070000.0, 51130000.0, 60540000.0, 66010000.0, 72090000.0, 86420000.0, 94900000.0, 104410000.0, 115150000.0, 127289999.99999999, 156840000.0, 174880000.0, 195660000.0, 219700000.0, 247670000.0, 279350000.0, 311040000.0, 342730000.0, 374420000.0, 406110000.0, 469480000.0, 532860000.0, 564550000.0, 659610000.0, 722990000.0, 818050000.0, 913120000.0, 1008180000.0000001, 1134930000.0, 1261680000.0, 1420130000.0, 1610250000.0, 1800380000.0, 2022200000.0000002, 2244020000.0, 2529210000.0, 2846090000.0, 3162970000.0, 3574920000.0, 3986860000.0, 4493870000.0, 5032570000.0, 5634640000.0, 6331780000.0, 7092290000.0, 7947870000.0, 8930200000.0, 10007600000.0]\n"
     ]
    }
   ],
   "source": [
    "\"\"\"Access times with data.ages in years\n",
    "          radii with data.radii in meters\n",
    "          luminosity with data.lumin in watts\n",
    "First entry is the root directory.\n",
    "Second entry is the subdirectory.\n",
    "Third entry is the filename.\n",
    "\"\"\"\n",
    "data = pd.Pread('data', 'Z002', 'pltlum_M20Z002.csv') \n",
    "print(data.ages)"
   ]
  },
  {
   "cell_type": "code",
   "execution_count": 25,
   "metadata": {},
   "outputs": [],
   "source": [
    "def lum_to_temp(L, R):\n",
    "    sig = 5.670367e-8 #Stefan-Boltzmann constant\n",
    "    part1 = L / (4 * pi * sig * R**2)\n",
    "    return (part1)**(1./4.)"
   ]
  },
  {
   "cell_type": "code",
   "execution_count": 41,
   "metadata": {},
   "outputs": [
    {
     "name": "stdout",
     "output_type": "stream",
     "text": [
      "Fstar\n",
      "0.8838701793835033\n",
      "0.012177054064046703\n"
     ]
    }
   ],
   "source": [
    "if type_star == \"A\":\n",
    "    M_s = 2.1 * 1.989e30\n",
    "    L_s = 20 * 3.828e26\n",
    "elif type_star == \"G\":\n",
    "    M_s = 1 * 1.989e30\n",
    "    L_s = 1 * 3.828e26\n",
    "elif type_star == \"M\":\n",
    "    M_s = 0.21 * 1.989e30\n",
    "    L_s = 0.0079 * 3.828e26\n",
    "    \n",
    "fplt_list = []\n",
    "    \n",
    "s = swarms.CollSwarm(M0, Dt, Dmax, L_s, M_s, M_pl, a_pl, R_pl, eta, Nstr,\n",
    "                    d_pl, correction=True, alpha=1./1.2)\n",
    "s.updateSwarm(t)\n",
    "T_star = s.stellarTemp()\n",
    "B_nu = s.computeBmu(lamb, T_star)\n",
    "F_star = Fstar(L_s, B_nu, T_star, d_pl)/1e-26\n",
    "print(\"Fstar\")\n",
    "print(F_star)\n",
    "\n",
    "for i in range(len(a_plv)):\n",
    "    s2 = swarms.CollSwarm(M0, Dt, Dmax, L_s, M_s, M_pl,\n",
    "                            a_plv[i], R_pl, eta, Nstr, d_pl,\n",
    "                            rho=RHO, fQ=5, f_vrel=4/pi,\n",
    "                            correction=True, alpha=1.2)\n",
    "\n",
    "    s2.updateSwarm(t)\n",
    "    \n",
    "    index = data.find_time_index(t)\n",
    "    if (index > -1):\n",
    "        T_plt = lum_to_temp(data.lumin[index], data.radii[index])\n",
    "        B_nu_plt = s2.computeBmu(lamb, T_plt)\n",
    "        F_plt = Fplt(B_nu_plt, data.radii[index], d_pl)\n",
    "        fplt_list.append(F_plt/1e-26)\n",
    "\n",
    "print(fplt_list[0])\n",
    "contrast_rat_plt = array(fplt_list) / F_star"
   ]
  },
  {
   "cell_type": "code",
   "execution_count": 39,
   "metadata": {},
   "outputs": [
    {
     "name": "stdout",
     "output_type": "stream",
     "text": [
      "19.582984978997175\n"
     ]
    }
   ],
   "source": [
    "f_vrel = 4/pi\n",
    "Qd = s.computeQd(s.Dc)\n",
    "part1 = (M_s/1.989e30)**0.33 * f_vrel**0.55\n",
    "part2 = (M_pl/5.972e24)**0.06 * Qd**0.15 * eta\n",
    "part3 = t * (M0/5.972e24) / (RHO * (s.Dc/1000)) \n",
    "\n",
    "a_opt = 50 * part1 / part2 * part3**0.24 \n",
    "print(a_opt)"
   ]
  },
  {
   "cell_type": "code",
   "execution_count": 40,
   "metadata": {
    "scrolled": false
   },
   "outputs": [
    {
     "data": {
      "image/png": "[encoded data removed]",
      "text/plain": [
       "<Figure size 432x288 with 1 Axes>"
      ]
     },
     "metadata": {},
     "output_type": "display_data"
    }
   ],
   "source": [
    "plt.figure(4)\n",
    "plt.loglog(a_plv/1.496e11, contrast_rat_plt)\n",
    "plt.axvline(a_opt, ls='--',label=\"a_opt eq.(16)\")\n",
    "plt.axvline(12, color='r', ls='--',label=\"12 AU\")\n",
    "plt.axhline(1e-7, color='g', ls='--',label=\"Detectable\")\n",
    "plt.legend()\n",
    "plt.title(\"Scattered Emission: Star type \"+str(type_star)+\" and time {0:.2e}\".format(t))\n",
    "plt.xlabel(\"a_pl [au]\")\n",
    "plt.ylabel(\"F_swarm / F_star\")\n",
    "plt.show()"
   ]
  }
 ],
 "metadata": {
  "kernelspec": {
   "display_name": "Python 3",
   "language": "python",
   "name": "python3"
  },
  "language_info": {
   "codemirror_mode": {
    "name": "ipython",
    "version": 3
   },
   "file_extension": ".py",
   "mimetype": "text/x-python",
   "name": "python",
   "nbconvert_exporter": "python",
   "pygments_lexer": "ipython3",
   "version": "3.6.5"
  }
 },
 "nbformat": 4,
 "nbformat_minor": 2
}
