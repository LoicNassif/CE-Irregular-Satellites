{
 "cells": [
  {
   "cell_type": "code",
   "execution_count": 1,
   "metadata": {},
   "outputs": [],
   "source": [
    "import swarms\n",
    "import pread as pd\n",
    "from numpy import linspace, logspace, pi, array\n",
    "import matplotlib.pyplot as plt\n",
    "import pandas"
   ]
  },
  {
   "cell_type": "code",
   "execution_count": 9,
   "metadata": {},
   "outputs": [
    {
     "data": {
      "text/html": [
       "<div>\n",
       "<style scoped>\n",
       "    .dataframe tbody tr th:only-of-type {\n",
       "        vertical-align: middle;\n",
       "    }\n",
       "\n",
       "    .dataframe tbody tr th {\n",
       "        vertical-align: top;\n",
       "    }\n",
       "\n",
       "    .dataframe thead th {\n",
       "        text-align: right;\n",
       "    }\n",
       "</style>\n",
       "<table border=\"1\" class=\"dataframe\">\n",
       "  <thead>\n",
       "    <tr style=\"text-align: right;\">\n",
       "      <th></th>\n",
       "      <th>TWA</th>\n",
       "      <th>ID</th>\n",
       "      <th>RA_2_A_ICRS_J2017_5_2000</th>\n",
       "      <th>DEC_2_D_ICRS_2017_5_2000</th>\n",
       "      <th>S_Type</th>\n",
       "      <th>Distance_distance</th>\n",
       "      <th>FLUX_I</th>\n",
       "      <th>FLUX_H</th>\n",
       "      <th>Fe_H_Teff</th>\n",
       "      <th>Class</th>\n",
       "      <th>subtype</th>\n",
       "      <th>Mass</th>\n",
       "      <th>Lum</th>\n",
       "      <th>Teff</th>\n",
       "      <th>contrast_thresh</th>\n",
       "    </tr>\n",
       "  </thead>\n",
       "  <tbody>\n",
       "    <tr>\n",
       "      <th>2</th>\n",
       "      <td>3</td>\n",
       "      <td>Hen 3-600</td>\n",
       "      <td>11 10 27.738</td>\n",
       "      <td>-37 31 51.97</td>\n",
       "      <td>M4Ve+M4Ve</td>\n",
       "      <td>5.0000</td>\n",
       "      <td>9.290</td>\n",
       "      <td>7.041</td>\n",
       "      <td>0</td>\n",
       "      <td>M</td>\n",
       "      <td>4</td>\n",
       "      <td>0.200</td>\n",
       "      <td>0.0055</td>\n",
       "      <td>3100</td>\n",
       "      <td>3.000000e-06</td>\n",
       "    </tr>\n",
       "    <tr>\n",
       "      <th>7</th>\n",
       "      <td>7</td>\n",
       "      <td>V* CE Ant</td>\n",
       "      <td>10 42 29.9354</td>\n",
       "      <td>-33 40 16.226</td>\n",
       "      <td>M2Ve</td>\n",
       "      <td>34.0290</td>\n",
       "      <td>9.100</td>\n",
       "      <td>7.125</td>\n",
       "      <td>0</td>\n",
       "      <td>M</td>\n",
       "      <td>2</td>\n",
       "      <td>0.440</td>\n",
       "      <td>0.0230</td>\n",
       "      <td>3400</td>\n",
       "      <td>3.000000e-06</td>\n",
       "    </tr>\n",
       "    <tr>\n",
       "      <th>13</th>\n",
       "      <td>13</td>\n",
       "      <td>CD-34  7390</td>\n",
       "      <td>11 21 17.24</td>\n",
       "      <td>-34 46 45.5</td>\n",
       "      <td>M1Ve+M1Ve</td>\n",
       "      <td>38.0000</td>\n",
       "      <td>9.038</td>\n",
       "      <td>NaN</td>\n",
       "      <td>0</td>\n",
       "      <td>M</td>\n",
       "      <td>1</td>\n",
       "      <td>0.490</td>\n",
       "      <td>0.0350</td>\n",
       "      <td>3600</td>\n",
       "      <td>3.000000e-06</td>\n",
       "    </tr>\n",
       "    <tr>\n",
       "      <th>1</th>\n",
       "      <td>2</td>\n",
       "      <td>CD-29  8887</td>\n",
       "      <td>11 09 13.6749</td>\n",
       "      <td>-30 01 40.070</td>\n",
       "      <td>M2Ve</td>\n",
       "      <td>46.0806</td>\n",
       "      <td>8.875</td>\n",
       "      <td>6.927</td>\n",
       "      <td>3704</td>\n",
       "      <td>M</td>\n",
       "      <td>2</td>\n",
       "      <td>0.440</td>\n",
       "      <td>0.0230</td>\n",
       "      <td>3704</td>\n",
       "      <td>2.000000e-06</td>\n",
       "    </tr>\n",
       "    <tr>\n",
       "      <th>3</th>\n",
       "      <td>4</td>\n",
       "      <td>HD  98800</td>\n",
       "      <td>11 22 05.1800</td>\n",
       "      <td>-24 46 39.757</td>\n",
       "      <td>K5V(e)</td>\n",
       "      <td>46.7000</td>\n",
       "      <td>7.386</td>\n",
       "      <td>5.759</td>\n",
       "      <td>4434</td>\n",
       "      <td>K</td>\n",
       "      <td>5</td>\n",
       "      <td>0.700</td>\n",
       "      <td>0.1900</td>\n",
       "      <td>4434</td>\n",
       "      <td>7.000000e-07</td>\n",
       "    </tr>\n",
       "    <tr>\n",
       "      <th>4</th>\n",
       "      <td>5A</td>\n",
       "      <td>CD-33  7795</td>\n",
       "      <td>11 31 55.1407</td>\n",
       "      <td>-34 36 27.214</td>\n",
       "      <td>M2Ve</td>\n",
       "      <td>49.3786</td>\n",
       "      <td>9.150</td>\n",
       "      <td>6.987</td>\n",
       "      <td>3650</td>\n",
       "      <td>M</td>\n",
       "      <td>2</td>\n",
       "      <td>0.440</td>\n",
       "      <td>0.0230</td>\n",
       "      <td>3650</td>\n",
       "      <td>3.000000e-06</td>\n",
       "    </tr>\n",
       "    <tr>\n",
       "      <th>17</th>\n",
       "      <td>21</td>\n",
       "      <td>HD 298936</td>\n",
       "      <td>10 13 14.6518</td>\n",
       "      <td>-52 30 54.000</td>\n",
       "      <td>K3Ve</td>\n",
       "      <td>53.3504</td>\n",
       "      <td>8.687</td>\n",
       "      <td>7.353</td>\n",
       "      <td>4834</td>\n",
       "      <td>K</td>\n",
       "      <td>3</td>\n",
       "      <td>0.810</td>\n",
       "      <td>0.2600</td>\n",
       "      <td>4834</td>\n",
       "      <td>2.000000e-06</td>\n",
       "    </tr>\n",
       "    <tr>\n",
       "      <th>0</th>\n",
       "      <td>1</td>\n",
       "      <td>V* TW Hya</td>\n",
       "      <td>11 01 51.8083</td>\n",
       "      <td>-34 42 17.031</td>\n",
       "      <td>K6Ve</td>\n",
       "      <td>60.0860</td>\n",
       "      <td>9.180</td>\n",
       "      <td>7.558</td>\n",
       "      <td>4057</td>\n",
       "      <td>K</td>\n",
       "      <td>6</td>\n",
       "      <td>0.667</td>\n",
       "      <td>0.1200</td>\n",
       "      <td>4057</td>\n",
       "      <td>3.000000e-06</td>\n",
       "    </tr>\n",
       "    <tr>\n",
       "      <th>6</th>\n",
       "      <td>6</td>\n",
       "      <td>V* BX Ant</td>\n",
       "      <td>10 18 28.6211</td>\n",
       "      <td>-31 50 02.826</td>\n",
       "      <td>M0Ve</td>\n",
       "      <td>65.6444</td>\n",
       "      <td>9.325</td>\n",
       "      <td>8.180</td>\n",
       "      <td>0</td>\n",
       "      <td>M</td>\n",
       "      <td>0</td>\n",
       "      <td>0.600</td>\n",
       "      <td>0.0720</td>\n",
       "      <td>3800</td>\n",
       "      <td>3.000000e-06</td>\n",
       "    </tr>\n",
       "  </tbody>\n",
       "</table>\n",
       "</div>"
      ],
      "text/plain": [
       "   TWA           ID RA_2_A_ICRS_J2017_5_2000 DEC_2_D_ICRS_2017_5_2000  \\\n",
       "2    3    Hen 3-600             11 10 27.738             -37 31 51.97   \n",
       "7    7    V* CE Ant            10 42 29.9354            -33 40 16.226   \n",
       "13  13  CD-34  7390              11 21 17.24              -34 46 45.5   \n",
       "1    2  CD-29  8887            11 09 13.6749            -30 01 40.070   \n",
       "3    4    HD  98800            11 22 05.1800            -24 46 39.757   \n",
       "4   5A  CD-33  7795            11 31 55.1407            -34 36 27.214   \n",
       "17  21    HD 298936            10 13 14.6518            -52 30 54.000   \n",
       "0    1    V* TW Hya            11 01 51.8083            -34 42 17.031   \n",
       "6    6    V* BX Ant            10 18 28.6211            -31 50 02.826   \n",
       "\n",
       "       S_Type  Distance_distance  FLUX_I  FLUX_H  Fe_H_Teff Class  subtype  \\\n",
       "2   M4Ve+M4Ve             5.0000   9.290   7.041          0     M        4   \n",
       "7        M2Ve            34.0290   9.100   7.125          0     M        2   \n",
       "13  M1Ve+M1Ve            38.0000   9.038     NaN          0     M        1   \n",
       "1        M2Ve            46.0806   8.875   6.927       3704     M        2   \n",
       "3      K5V(e)            46.7000   7.386   5.759       4434     K        5   \n",
       "4        M2Ve            49.3786   9.150   6.987       3650     M        2   \n",
       "17       K3Ve            53.3504   8.687   7.353       4834     K        3   \n",
       "0        K6Ve            60.0860   9.180   7.558       4057     K        6   \n",
       "6        M0Ve            65.6444   9.325   8.180          0     M        0   \n",
       "\n",
       "     Mass     Lum  Teff  contrast_thresh  \n",
       "2   0.200  0.0055  3100     3.000000e-06  \n",
       "7   0.440  0.0230  3400     3.000000e-06  \n",
       "13  0.490  0.0350  3600     3.000000e-06  \n",
       "1   0.440  0.0230  3704     2.000000e-06  \n",
       "3   0.700  0.1900  4434     7.000000e-07  \n",
       "4   0.440  0.0230  3650     3.000000e-06  \n",
       "17  0.810  0.2600  4834     2.000000e-06  \n",
       "0   0.667  0.1200  4057     3.000000e-06  \n",
       "6   0.600  0.0720  3800     3.000000e-06  "
      ]
     },
     "execution_count": 9,
     "metadata": {},
     "output_type": "execute_result"
    }
   ],
   "source": [
    "df = pandas.read_csv(\"../twatargets.csv\", index_col=0)\n",
    "df.sort_values(by='Distance_distance')"
   ]
  },
  {
   "cell_type": "code",
   "execution_count": 5,
   "metadata": {},
   "outputs": [],
   "source": [
    "df.loc[2, 'Distance_distance'] = 42.0"
   ]
  },
  {
   "cell_type": "code",
   "execution_count": 7,
   "metadata": {},
   "outputs": [],
   "source": [
    "df.to_csv('../twatargets.csv', encoding='ascii')"
   ]
  },
  {
   "cell_type": "code",
   "execution_count": 54,
   "metadata": {},
   "outputs": [],
   "source": [
    "\"\"\"Access times with data.ages in years\n",
    "          radii with data.radii in meters\n",
    "          luminosity with data.lumin in watts\n",
    "First entry is the root directory.\n",
    "Second entry is the subdirectory.\n",
    "Third entry is the filename.\n",
    "\"\"\"\n",
    "def data_read(mass):\n",
    "    data = pd.Pread('data', 'Z002', 'pltlum_M'+str(mass)+'Z002.csv') \n",
    "    return data"
   ]
  },
  {
   "cell_type": "code",
   "execution_count": 115,
   "metadata": {},
   "outputs": [],
   "source": [
    "AU = 1.496e11\n",
    "pc = 3.086e16\n",
    "Msun = 1.989e30\n",
    "Lsun = 3.828e26\n",
    "Mmoon = 7.35e22\n",
    "\n",
    "RHO=1500 \n",
    "eta = 0.4; Nstr = 6.; Dt = 100.; Dmax = 150000.; R_pl = 6.9911e7\n",
    "lamb = 1.65e-6\n",
    "\n",
    "M_jup = [20, 100, 318, 636]\n",
    "M0 = 100 * Mmoon"
   ]
  },
  {
   "cell_type": "code",
   "execution_count": 116,
   "metadata": {},
   "outputs": [],
   "source": [
    "def Fstar(Ls, Bnu, Ts, dpl):\n",
    "    sig = 5.670367e-8 #Stefan-Boltzmann constant\n",
    "    part1 = Ls * Bnu\n",
    "    part2 = 4 * sig * Ts ** 4 * dpl ** 2\n",
    "    return part1 / part2"
   ]
  },
  {
   "cell_type": "code",
   "execution_count": 117,
   "metadata": {},
   "outputs": [],
   "source": [
    "def lum_to_temp(L, R):\n",
    "    sig = 5.670367e-8 #Stefan-Boltzmann constant\n",
    "    part1 = L / (4 * pi * sig * R**2)\n",
    "    return (part1)**(1./4.)"
   ]
  },
  {
   "cell_type": "code",
   "execution_count": 138,
   "metadata": {},
   "outputs": [
    {
     "data": {
      "text/plain": [
       "TWA                                       1\n",
       "ID                                V* TW Hya\n",
       "RA_2_A_ICRS_J2017_5_2000      11 01 51.8083\n",
       "DEC_2_D_ICRS_2017_5_2000      -34 42 17.031\n",
       "S_Type                                 K6Ve\n",
       "Distance_distance                    60.086\n",
       "FLUX_I                                 9.18\n",
       "FLUX_H                                7.558\n",
       "Fe_H_Teff                              4057\n",
       "Class                                     K\n",
       "subtype                                   6\n",
       "Mass                                  0.667\n",
       "Lum                                    0.12\n",
       "Teff                                   4057\n",
       "contrast_thresh                       3e-06\n",
       "Moving Group                            TWA\n",
       "SimbadType                  T Tau-type Star\n",
       "In GPI Sample                         False\n",
       "Age                                 7.5e+06\n",
       "Name: 0, dtype: object"
      ]
     },
     "execution_count": 138,
     "metadata": {},
     "output_type": "execute_result"
    }
   ],
   "source": [
    "star = df.loc[0] # could do for i in range(24): star = Mdwarfs.iloc[i]\n",
    "star"
   ]
  },
  {
   "cell_type": "code",
   "execution_count": 139,
   "metadata": {},
   "outputs": [
    {
     "name": "stdout",
     "output_type": "stream",
     "text": [
      "9.352082245102533e+21\n",
      "1.9420349839261756e-06\n"
     ]
    }
   ],
   "source": [
    "M_s = star['Mass'] * Msun\n",
    "L_s = star['Lum'] * Lsun\n",
    "T_star = star['Fe_H_Teff']\n",
    "d_pl = star['Distance_distance'] * pc\n",
    "contrast_thresh = 1.e-6#star['contrast_thresh'] # This is the rough contrast threshold I interpolated by eye using the I band magnitude and the GPI contrast ratio figure on their website.\n",
    "time = star['Age']\n",
    "\n",
    "GPIIWA = 0.2 # GPI inner working angle in arcsec\n",
    "GPIOWA = 1.2 # Outer working angle\n",
    "\n",
    "# Convert the inner and outer working angles into AU, using the distance to the system\n",
    "a_plv = linspace(GPIIWA*d_pl/pc * AU, GPIOWA*d_pl/pc * AU, 500)\n",
    "\n",
    "s = swarms.CollSwarm(M0, Dt, Dmax, L_s, M_s, 318*5.972e24, a_plv[250], R_pl, eta, Nstr,\n",
    "                    d_pl, correction=True, alpha=1.2)\n",
    "\n",
    "s.updateSwarm(time)\n",
    "print(s.computeAtot())\n",
    "print(s.swarm.Dmin)"
   ]
  },
  {
   "cell_type": "code",
   "execution_count": 140,
   "metadata": {},
   "outputs": [
    {
     "data": {
      "text/plain": [
       "0"
      ]
     },
     "execution_count": 140,
     "metadata": {},
     "output_type": "execute_result"
    }
   ],
   "source": [
    "data.find_time_index(1.1e7)"
   ]
  },
  {
   "cell_type": "code",
   "execution_count": 141,
   "metadata": {},
   "outputs": [
    {
     "data": {
      "text/plain": [
       "<Figure size 432x288 with 0 Axes>"
      ]
     },
     "metadata": {},
     "output_type": "display_data"
    },
    {
     "name": "stderr",
     "output_type": "stream",
     "text": [
      "/Users/dtamayo/miniconda3/envs/p3/lib/python3.7/site-packages/matplotlib/font_manager.py:1331: UserWarning: findfont: Font family ['serif'] not found. Falling back to DejaVu Sans\n",
      "  (prop.get_family(), self.defaultFamily[fontext]))\n"
     ]
    },
    {
     "data": {
      "image/png": "[encoded data removed]",
      "text/plain": [
       "<Figure size 360x720 with 4 Axes>"
      ]
     },
     "metadata": {
      "needs_background": "light"
     },
     "output_type": "display_data"
    }
   ],
   "source": [
    "plt.figure(1)\n",
    "fig, axes = plt.subplots(len(M_jup), subplot_kw=dict(), figsize=(5, 10))\n",
    "for w in range(len(M_jup)):\n",
    "    data = data_read(M_jup[w])\n",
    "    fth_list = []\n",
    "    fs_list = []\n",
    "    fth_plt_list = []\n",
    "    for i in range(len(a_plv)):\n",
    "\n",
    "        s = swarms.CollSwarm(M0, Dt, Dmax, L_s, M_s, M_jup[w]*5.972e24, a_plv[i], R_pl, eta, Nstr,\n",
    "                    d_pl, correction=True, alpha=1.2)\n",
    "\n",
    "        s.updateSwarm(time)\n",
    "            \n",
    "        T_star = s.stellarTemp()\n",
    "        B_nu_list = s.computeBmu(array([lamb]), T_star)\n",
    "        F_star = Fstar(L_s, B_nu_list, T_star, d_pl)/1e-26\n",
    "\n",
    "        f_vrel = 4/pi\n",
    "        Qd = s.computeQd(s.Dc)\n",
    "        part1 = (M_s/1.989e30)**0.33 * f_vrel**0.55\n",
    "        part2 = (M_jup[w])**0.06 * Qd**0.15 * eta\n",
    "        part3 = time * (M0/5.972e24) / (RHO * (s.Dc/1000)) \n",
    "\n",
    "        a_opt = 50 * part1 / part2 * part3**0.24 \n",
    "\n",
    "\n",
    "        s2 = swarms.CollSwarm(M0, Dt, Dmax, L_s, M_s, M_jup[w]*5.972e24,\n",
    "                                a_plv[i], R_pl, eta, Nstr, d_pl,\n",
    "                                rho=RHO, fQ=5, f_vrel=4/pi,\n",
    "                                correction=True, alpha=1.2)\n",
    "\n",
    "        s2.updateSwarm(time)\n",
    "\n",
    "        # Planet Emissions\n",
    "        index = data.find_time_index(time)\n",
    "        if (index == -1):\n",
    "            index = 0\n",
    "            \n",
    "        T_plt = lum_to_temp(data.lumin[index], data.radii[index])\n",
    "        B_nu_plt = s2.computeBmu(array([lamb]), T_plt)\n",
    "        F_plt = Fstar(data.lumin[index], B_nu_plt, T_plt, d_pl)\n",
    "        fth_plt_list.append(F_plt/1e-26)\n",
    "\n",
    "        # Swarm Emissions\n",
    "        F_th = s2.computeFth(array([lamb]), swarm=True)\n",
    "        F_s = s2.computeFs(array([lamb]), 0.32, 0.08, swarm=True)\n",
    "\n",
    "        fth_list.append(F_th[0]/1e-26)\n",
    "        fs_list.append(F_s[0]/1e-26)\n",
    "\n",
    "    contrast_ratio_apl_th = array(fth_list) / F_star\n",
    "    contrast_ratio_apl_s = array(fs_list) / F_star\n",
    "    contrast_ratio_apl_plt_th = array(fth_plt_list) / F_star\n",
    "\n",
    "    axes[w].plot(a_plv/1.496e11, contrast_ratio_apl_s, label=\"swarm scattered\")\n",
    "    axes[w].plot(a_plv/1.496e11, contrast_ratio_apl_plt_th, label=\"planet thermal\")\n",
    "    axes[w].axvline(a_opt, ls='--',label=\"a_opt eq.(16)\")\n",
    "    axes[w].axvline(a_plv[-1]/AU, color='r', ls='--',label=\"OWA\")\n",
    "    axes[w].axhline(contrast_thresh, color='g', ls='--',label=\"Detectable\")\n",
    "    axes[w].text(0, 0, 'mass={0:.3e}'.format(M_jup[w])+'\\n'+'time={0:.3e}'.format(time), transform=axes[w].transAxes) \n",
    "    if w == 0:\n",
    "        axes[w].legend(prop={'size': 9})\n",
    "        #axes[w, k].xlabel(\"a_pl [au]\")\n",
    "        #axes[w, k].ylabel(\"F_swarm / F_star\")\n",
    "    axes[w].set_ylim([1.e-8, 1.e-5])\n",
    "    axes[w].set_yscale('log')\n",
    "plt.show()"
   ]
  },
  {
   "cell_type": "markdown",
   "metadata": {},
   "source": [
    "Sweet spot seems to be d ~40-50 pc and young in order not to put planet too close to star accelerating collisional cascade (puts aopt close to middle of GPI FOV)"
   ]
  },
  {
   "cell_type": "markdown",
   "metadata": {},
   "source": [
    "Analytically estimate aopt and set parameters that way?"
   ]
  },
  {
   "cell_type": "code",
   "execution_count": null,
   "metadata": {},
   "outputs": [],
   "source": []
  }
 ],
 "metadata": {
  "kernelspec": {
   "display_name": "Python 3",
   "language": "python",
   "name": "python3"
  },
  "language_info": {
   "codemirror_mode": {
    "name": "ipython",
    "version": 3
   },
   "file_extension": ".py",
   "mimetype": "text/x-python",
   "name": "python",
   "nbconvert_exporter": "python",
   "pygments_lexer": "ipython3",
   "version": "3.7.1"
  }
 },
 "nbformat": 4,
 "nbformat_minor": 2
}
