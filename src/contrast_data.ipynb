{
 "cells": [
  {
   "cell_type": "markdown",
   "metadata": {},
   "source": [
    "#### Import Data and Libraries"
   ]
  },
  {
   "cell_type": "code",
   "execution_count": 1,
   "metadata": {},
   "outputs": [],
   "source": [
    "import swarms\n",
    "import matplotlib.pyplot as plt\n",
    "import pandas as pd\n",
    "import pread as pr\n",
    "from numpy import linspace, pi, array"
   ]
  },
  {
   "cell_type": "code",
   "execution_count": 2,
   "metadata": {},
   "outputs": [],
   "source": [
    "Mdwarfs = pd.read_csv(\"../GPIMdwarfs.csv\", index_col=0)"
   ]
  },
  {
   "cell_type": "code",
   "execution_count": 3,
   "metadata": {},
   "outputs": [],
   "source": [
    "\"\"\"Access times with data.ages in years\n",
    "          radii with data.radii in meters\n",
    "          luminosity with data.lumin in watts\n",
    "First entry is the root directory.\n",
    "Second entry is the subdirectory.\n",
    "Third entry is the filename.\n",
    "\"\"\"\n",
    "def data_read(mass):\n",
    "    data = pr.Pread('data', 'Z002', 'pltlum_M'+str(mass)+'Z002.csv') \n",
    "    return data"
   ]
  },
  {
   "cell_type": "markdown",
   "metadata": {},
   "source": [
    "#### Initial Parameters"
   ]
  },
  {
   "cell_type": "code",
   "execution_count": 4,
   "metadata": {},
   "outputs": [],
   "source": [
    "AU = 1.496e11\n",
    "pc = 3.086e16\n",
    "Msun = 1.989e30\n",
    "Lsun = 3.828e26\n",
    "Mmoon = 7.35e22\n",
    "Mearth = 5.972e24\n",
    "\n",
    "RHO=1500 \n",
    "eta = 0.4; Nstr = 6.; Dt = 100.; Dmax = 150000.; R_pl = 6.9911e7\n",
    "lamb = 1.65e-6\n",
    "\n",
    "time = linspace(1.1e7, 1e8, 500)\n",
    "#M_jup = [20, 100, 318, 636]\n",
    "M0 = 10 * Mmoon"
   ]
  },
  {
   "cell_type": "code",
   "execution_count": 5,
   "metadata": {},
   "outputs": [],
   "source": [
    "star = Mdwarfs.iloc[9] # could do for i in range(24): star = Mdwarfs.iloc[i]\n",
    "\n",
    "M_s = star['Mass'] * Msun\n",
    "L_s = star['Lum'] * Lsun\n",
    "T_star = star['Fe_H_Teff']\n",
    "d_pl = star['Distance_distance'] * pc\n",
    "contrast_thresh = star['contrast_thresh'] # This is the rough contrast threshold I interpolated by eye using the I band magnitude and the GPI contrast ratio figure on their website.\n",
    "\n",
    "GPIIWA = 0.2 # GPI inner working angle in arcsec\n",
    "GPIOWA = 1.2 # Outer working angle\n",
    "a_plv = linspace(GPIIWA*d_pl/pc * AU, GPIOWA*d_pl/pc * AU, 500)"
   ]
  },
  {
   "cell_type": "markdown",
   "metadata": {},
   "source": [
    "#### Helper Functions"
   ]
  },
  {
   "cell_type": "code",
   "execution_count": 6,
   "metadata": {},
   "outputs": [],
   "source": [
    "def a_opt(t, s, M_s, M_plt, M0):\n",
    "    f_vrel = 4/pi\n",
    "    Qd = s.computeQd(s.Dc)\n",
    "    part1 = (M_s/1.989e30)**0.33 * f_vrel**0.55\n",
    "    part2 = (M_plt/5.972e24)**0.06 * Qd**0.15 * eta\n",
    "    part3 = t * (M0/5.972e24) / (RHO * (s.Dc/1000)) \n",
    "\n",
    "    return 50 * part1 / part2 * part3**0.24 "
   ]
  },
  {
   "cell_type": "code",
   "execution_count": 7,
   "metadata": {},
   "outputs": [],
   "source": [
    "def Fstar(Ls, Bnu, Ts, apl):\n",
    "    sig = 5.670367e-8 #Stefan-Boltzmann constant\n",
    "    part1 = Ls * Bnu\n",
    "    part2 = 4 * sig * Ts ** 4 * apl ** 2\n",
    "    return part1 / part2"
   ]
  },
  {
   "cell_type": "code",
   "execution_count": 8,
   "metadata": {},
   "outputs": [],
   "source": [
    "def contrast_scat(A, g, Q, a_pl):\n",
    "    return (A*g*Q) / (pi*a_pl**2)"
   ]
  },
  {
   "cell_type": "code",
   "execution_count": 9,
   "metadata": {},
   "outputs": [],
   "source": [
    "def lum_to_temp(L, R):\n",
    "    sig = 5.670367e-8 #Stefan-Boltzmann constant\n",
    "    part1 = L / (4 * pi * sig * R**2)\n",
    "    return (part1)**(1./4.)"
   ]
  },
  {
   "cell_type": "markdown",
   "metadata": {},
   "source": [
    "#### Compute semi-major axis vs. contrast ratio for scattered swarm light"
   ]
  },
  {
   "cell_type": "code",
   "execution_count": 10,
   "metadata": {},
   "outputs": [],
   "source": [
    "def swarm_apl_contrast():\n",
    "    t = 1.1e7 # Fix time at (approx) 10 million yrs\n",
    "    \n",
    "    # Fix the mass of the planet at 1 M_jup\n",
    "    plt_data = data_read(\"636\")\n",
    "    Mplt = 636*Mearth\n",
    "    \n",
    "    star_fs_list = []\n",
    "    star_types = []\n",
    "    for j in range(24):\n",
    "        fs_list = []\n",
    "        \n",
    "        star = Mdwarfs.iloc[j]\n",
    "        star_types.append(star.subtype)\n",
    "        \n",
    "        M_s = star['Mass'] * Msun\n",
    "        L_s = star['Lum'] * Lsun\n",
    "        T_star = star['Fe_H_Teff']\n",
    "        d_pl = star['Distance_distance'] * pc\n",
    "        contrast_thresh = star['contrast_thresh']\n",
    "        \n",
    "        for i in range(len(a_plv)):\n",
    "            s2 = swarms.CollSwarm(M0, Dt, Dmax, L_s, M_s, Mplt,\n",
    "                                    a_plv[i], R_pl, eta, Nstr, d_pl,\n",
    "                                    rho=RHO, fQ=5, f_vrel=4/pi,\n",
    "                                    correction=True, alpha=1.2)\n",
    "\n",
    "            s2.updateSwarm(t)\n",
    "\n",
    "            swarm_contrast = contrast_scat(s2.computeAtot(), 0.32, 0.08, a_plv[i])\n",
    "            fs_list.append(swarm_contrast)\n",
    "\n",
    "        star_fs_list.append(fs_list)\n",
    "        \n",
    "    return star_fs_list, t, Mplt, star_types"
   ]
  },
  {
   "cell_type": "code",
   "execution_count": 11,
   "metadata": {
    "scrolled": true
   },
   "outputs": [
    {
     "data": {
      "image/png": "[encoded data removed]",
      "text/plain": [
       "<Figure size 432x288 with 1 Axes>"
      ]
     },
     "metadata": {},
     "output_type": "display_data"
    }
   ],
   "source": [
    "cr_apl_swarm, t, Mplt, star_types = swarm_apl_contrast()\n",
    "\n",
    "visited_types = []\n",
    "plt.figure(1)\n",
    "for i in range(len(cr_apl_swarm)):\n",
    "    if not (star_types[i] in visited_types):\n",
    "        plt.loglog(a_plv/d_pl*(pc/AU), cr_apl_swarm[i],label=\"M\"+str(star_types[i]))\n",
    "        visited_types.append(star_types[i])\n",
    "        \n",
    "plt.hlines(contrast_thresh, a_plv[0]/d_pl *(pc/AU), a_plv[-1]/d_pl *(pc/AU), label=\"contrast threshold\")\n",
    "plt.title(r\"planet mass \"+\"{0:.2e}\".format(Mplt/Mearth)+\"$M_{\\oplus}$\"+\" at time \"+\"{0:.2e}\".format(t))\n",
    "plt.xlabel(\"angular length [arcsec]\")\n",
    "plt.ylabel(\"contrast ratio\")\n",
    "plt.legend()\n",
    "plt.show()"
   ]
  },
  {
   "cell_type": "markdown",
   "metadata": {},
   "source": [
    "#### Compute time vs. contrast ratio for scattered swarm light"
   ]
  },
  {
   "cell_type": "code",
   "execution_count": 12,
   "metadata": {},
   "outputs": [],
   "source": [
    "def swarm_time_contrast():\n",
    "    # Fix the mass of the planet at 1 M_jup\n",
    "    plt_data = data_read(\"636\")\n",
    "    Mplt = 636*Mearth\n",
    "    \n",
    "    cr_list = []\n",
    "    cr_plt_list = []\n",
    "    for i in range(len(time)):\n",
    "        s = swarms.CollSwarm(M0, Dt, Dmax, L_s, M_s, Mplt, a_plv[0], R_pl, eta, Nstr,\n",
    "                            d_pl, correction=True, alpha=1.2)\n",
    "\n",
    "        s.updateSwarm(time[i])\n",
    "\n",
    "        # Fix the semi-major axis at a_opt\n",
    "        aopt = a_opt(time[i], s, M_s, Mplt, M0)\n",
    "\n",
    "        B_nu_list = s.computeBmu(array([lamb]), T_star)\n",
    "        F_star = Fstar(L_s, B_nu_list, T_star, d_pl)/1e-26\n",
    "        \n",
    "        s2 = swarms.CollSwarm(M0, Dt, Dmax, L_s, M_s, Mplt,\n",
    "                                aopt*AU, R_pl, eta, Nstr, d_pl,\n",
    "                                rho=RHO, fQ=5, f_vrel=4/pi,\n",
    "                                correction=True, alpha=1.2)\n",
    "\n",
    "        s2.updateSwarm(time[i])\n",
    "        \n",
    "        # Planet Emissions\n",
    "        index = plt_data.find_time_index(time[i])\n",
    "        if (index > -1):\n",
    "            T_plt = lum_to_temp(plt_data.lumin[index], plt_data.radii[index])\n",
    "            B_nu_plt = s2.computeBmu(array([lamb]), T_plt)\n",
    "            F_plt = Fstar(plt_data.lumin[index], B_nu_plt, T_plt, d_pl)\n",
    "            F_plt = F_plt/1e-26\n",
    "            cr_plt_list.append(F_plt/F_star)\n",
    "            #print(\"F_plt: \"+\"{0:.3e}\".format(F_plt[0])+\"\\t F_star: \"+ \"{0:.3e}\".format(F_star[0]))\n",
    "        # swarm scattered light\n",
    "        contrast_swarm = contrast_scat(s2.computeAtot(), 0.32, 0.08, aopt*AU)\n",
    "        cr_list.append(contrast_swarm)\n",
    "    return cr_list, cr_plt_list, Mplt"
   ]
  },
  {
   "cell_type": "code",
   "execution_count": 13,
   "metadata": {},
   "outputs": [
    {
     "data": {
      "image/png": "[encoded data removed]",
      "text/plain": [
       "<Figure size 432x288 with 1 Axes>"
      ]
     },
     "metadata": {},
     "output_type": "display_data"
    }
   ],
   "source": [
    "cr_list, cr_plt_list, Mplt = swarm_time_contrast()\n",
    "\n",
    "plt.figure(2)\n",
    "plt.loglog(time, cr_list, label=\"swarm scattered light\")\n",
    "plt.loglog(time, cr_plt_list, label=\"planet thermal emission\")\n",
    "plt.hlines(contrast_thresh, time[0], time[-1], label=\"contrast threshold\")\n",
    "plt.title(r\"star type M\"+str(star.subtype)+\" with planet mass \"+\"{0:.2e}\".format(Mplt/Mearth)+\"$M_{\\oplus}$\"+\n",
    "          \" and init swarm mass \"+\"{0:.2e}\".format(M0/Mmoon)+\"$M_{moon}$\")\n",
    "plt.ylabel(\"contrast ratio\")\n",
    "plt.xlabel(\"time [years]\")\n",
    "plt.ylim(1e-7)\n",
    "plt.legend()\n",
    "plt.show()"
   ]
  }
 ],
 "metadata": {
  "kernelspec": {
   "display_name": "Python 3",
   "language": "python",
   "name": "python3"
  },
  "language_info": {
   "codemirror_mode": {
    "name": "ipython",
    "version": 3
   },
   "file_extension": ".py",
   "mimetype": "text/x-python",
   "name": "python",
   "nbconvert_exporter": "python",
   "pygments_lexer": "ipython3",
   "version": "3.6.5"
  }
 },
 "nbformat": 4,
 "nbformat_minor": 2
}
