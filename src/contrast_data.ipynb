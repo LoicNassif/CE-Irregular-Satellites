{
 "cells": [
  {
   "cell_type": "markdown",
   "metadata": {},
   "source": [
    "#### Import Data and Libraries"
   ]
  },
  {
   "cell_type": "code",
   "execution_count": 13,
   "metadata": {},
   "outputs": [],
   "source": [
    "import swarms\n",
    "import matplotlib.pyplot as plt\n",
    "import pandas as pd\n",
    "import pread as pr\n",
    "from numpy import linspace, pi, array"
   ]
  },
  {
   "cell_type": "code",
   "execution_count": 14,
   "metadata": {},
   "outputs": [],
   "source": [
    "Mdwarfs = pd.read_csv(\"../GPIMdwarfs.csv\", index_col=0)"
   ]
  },
  {
   "cell_type": "code",
   "execution_count": 15,
   "metadata": {},
   "outputs": [],
   "source": [
    "\"\"\"Access times with data.ages in years\n",
    "          radii with data.radii in meters\n",
    "          luminosity with data.lumin in watts\n",
    "First entry is the root directory.\n",
    "Second entry is the subdirectory.\n",
    "Third entry is the filename.\n",
    "\"\"\"\n",
    "def data_read(mass):\n",
    "    data = pr.Pread('data', 'Z002', 'pltlum_M'+str(mass)+'Z002.csv') \n",
    "    return data"
   ]
  },
  {
   "cell_type": "markdown",
   "metadata": {},
   "source": [
    "#### Initial Parameters"
   ]
  },
  {
   "cell_type": "code",
   "execution_count": 41,
   "metadata": {},
   "outputs": [],
   "source": [
    "AU = 1.496e11\n",
    "pc = 3.086e16\n",
    "Msun = 1.989e30\n",
    "Lsun = 3.828e26\n",
    "Mmoon = 7.35e22\n",
    "Mearth = 5.972e24\n",
    "\n",
    "RHO=1500 \n",
    "eta = 0.4; Nstr = 6.; Dt = 100.; Dmax = 150000.; R_pl = 6.9911e7\n",
    "lamb = 1.65e-6\n",
    "\n",
    "time = linspace(1.1e7, 1e9, 500)\n",
    "#M_jup = [20, 100, 318, 636]\n",
    "M0 = 10 * Mmoon"
   ]
  },
  {
   "cell_type": "code",
   "execution_count": 42,
   "metadata": {},
   "outputs": [],
   "source": [
    "star = Mdwarfs.iloc[9] # could do for i in range(24): star = Mdwarfs.iloc[i]\n",
    "\n",
    "M_s = star['Mass'] * Msun\n",
    "L_s = star['Lum'] * Lsun\n",
    "T_star = star['Fe_H_Teff']\n",
    "d_pl = star['Distance_distance'] * pc\n",
    "contrast_thresh = star['contrast_thresh'] # This is the rough contrast threshold I interpolated by eye using the I band magnitude and the GPI contrast ratio figure on their website.\n",
    "\n",
    "GPIIWA = 0.2 # GPI inner working angle in arcsec\n",
    "GPIOWA = 1.2 # Outer working angle\n",
    "a_plv = linspace(GPIIWA*d_pl/pc * AU, GPIOWA*d_pl/pc * AU, 500)"
   ]
  },
  {
   "cell_type": "markdown",
   "metadata": {},
   "source": [
    "#### Helper Functions"
   ]
  },
  {
   "cell_type": "code",
   "execution_count": 43,
   "metadata": {},
   "outputs": [],
   "source": [
    "def a_opt(t, s, M_s, M_plt, M0):\n",
    "    f_vrel = 4/pi\n",
    "    Qd = s.computeQd(s.Dc)\n",
    "    part1 = (M_s/1.989e30)**0.33 * f_vrel**0.55\n",
    "    part2 = (M_plt/5.972e24)**0.06 * Qd**0.15 * eta\n",
    "    part3 = t * (M0/5.972e24) / (RHO * (s.Dc/1000)) \n",
    "\n",
    "    return 50 * part1 / part2 * part3**0.24 "
   ]
  },
  {
   "cell_type": "code",
   "execution_count": 44,
   "metadata": {},
   "outputs": [],
   "source": [
    "def Fstar(Ls, Bnu, Ts, dpl):\n",
    "    sig = 5.670367e-8 #Stefan-Boltzmann constant\n",
    "    part1 = Ls * Bnu\n",
    "    part2 = 4 * sig * Ts ** 4 * dpl ** 2\n",
    "    return part1 / part2"
   ]
  },
  {
   "cell_type": "code",
   "execution_count": 45,
   "metadata": {},
   "outputs": [],
   "source": [
    "def lum_to_temp(L, R):\n",
    "    sig = 5.670367e-8 #Stefan-Boltzmann constant\n",
    "    part1 = L / (4 * pi * sig * R**2)\n",
    "    return (part1)**(1./4.)"
   ]
  },
  {
   "cell_type": "markdown",
   "metadata": {},
   "source": [
    "#### Compute semi-major axis vs. contrast ratio for scattered swarm light"
   ]
  },
  {
   "cell_type": "code",
   "execution_count": 46,
   "metadata": {},
   "outputs": [],
   "source": [
    "def swarm_apl_contrast():\n",
    "    t = 1.1e7 # Fix time at (approx) 10 million yrs\n",
    "    \n",
    "    # Fix the mass of the planet at 1 M_jup\n",
    "    plt_data = data_read(\"318\")\n",
    "    Mplt = 318*Mearth\n",
    "\n",
    "    s = swarms.CollSwarm(M0, Dt, Dmax, L_s, M_s, Mplt, a_plv[0], R_pl, eta, Nstr,\n",
    "                        d_pl, correction=True, alpha=1.2)\n",
    "\n",
    "    s.updateSwarm(t)\n",
    "    B_nu_list = s.computeBmu(array([lamb]), T_star)\n",
    "    F_star = Fstar(L_s, B_nu_list, T_star, d_pl)/1e-26\n",
    "    \n",
    "    fs_list = []\n",
    "    for i in range(len(a_plv)):\n",
    "        s2 = swarms.CollSwarm(M0, Dt, Dmax, L_s, M_s, Mplt,\n",
    "                                a_plv[i], R_pl, eta, Nstr, d_pl,\n",
    "                                rho=RHO, fQ=5, f_vrel=4/pi,\n",
    "                                correction=True, alpha=1.2)\n",
    "\n",
    "        s2.updateSwarm(t)\n",
    "\n",
    "        F_s = s2.computeFs(array([lamb]), 0.32, 0.08, swarm=True)        \n",
    "        fs_list.append(F_s[0]/1e-26)\n",
    "    \n",
    "    cr_apl_swarm = array(fs_list) / F_star\n",
    "    return cr_apl_swarm, t, Mplt"
   ]
  },
  {
   "cell_type": "code",
   "execution_count": 53,
   "metadata": {
    "scrolled": true
   },
   "outputs": [
    {
     "data": {
      "image/png": "[encoded data removed]",
      "text/plain": [
       "<Figure size 432x288 with 1 Axes>"
      ]
     },
     "metadata": {},
     "output_type": "display_data"
    }
   ],
   "source": [
    "cr_apl_swarm, t, Mplt = swarm_apl_contrast()\n",
    "\n",
    "plt.figure(1)\n",
    "plt.loglog(a_plv/d_pl*(pc/AU), cr_apl_swarm, label=\"swarm scattered light\")\n",
    "plt.hlines(contrast_thresh, a_plv[0]/d_pl *(pc/AU), a_plv[-1]/d_pl *(pc/AU), label=\"contrast threshold\")\n",
    "plt.title(r\"star type M\"+str(star.subtype)+\" with planet mass \"+\"{0:.2e}\".format(Mplt/Mearth)+\"$M_{\\oplus}$\"+\" at time \"+\"{0:.2e}\".format(t))\n",
    "plt.xlabel(\"angular length [arcsec]\")\n",
    "plt.ylabel(\"contrast ratio\")\n",
    "plt.legend()\n",
    "plt.show()"
   ]
  },
  {
   "cell_type": "markdown",
   "metadata": {},
   "source": [
    "#### Compute time vs. contrast ratio for scattered swarm light"
   ]
  },
  {
   "cell_type": "code",
   "execution_count": 48,
   "metadata": {},
   "outputs": [],
   "source": [
    "def swarm_time_contrast():\n",
    "    # Fix the mass of the planet at 1 M_jup\n",
    "    plt_data = data_read(\"318\")\n",
    "    Mplt = 318*Mearth\n",
    "    \n",
    "    cr_list = []\n",
    "    cr_plt_list = []\n",
    "    for i in range(len(time)):\n",
    "        s = swarms.CollSwarm(M0, Dt, Dmax, L_s, M_s, Mplt, a_plv[0], R_pl, eta, Nstr,\n",
    "                            d_pl, correction=True, alpha=1.2)\n",
    "\n",
    "        s.updateSwarm(time[i])\n",
    "        B_nu_list = s.computeBmu(array([lamb]), T_star)\n",
    "        F_star = Fstar(L_s, B_nu_list, T_star, d_pl)/1e-26\n",
    "\n",
    "        # Fix the semi-major axis at a_opt\n",
    "        aopt = a_opt(time[i], s, M_s, Mplt, M0)\n",
    "        \n",
    "        s2 = swarms.CollSwarm(M0, Dt, Dmax, L_s, M_s, Mplt,\n",
    "                                aopt*AU, R_pl, eta, Nstr, d_pl,\n",
    "                                rho=RHO, fQ=5, f_vrel=4/pi,\n",
    "                                correction=True, alpha=1.2)\n",
    "\n",
    "        s2.updateSwarm(time[i])\n",
    "        \n",
    "        # Planet Emissions\n",
    "        index = plt_data.find_time_index(time[i])\n",
    "        if (index > -1):\n",
    "            T_plt = lum_to_temp(plt_data.lumin[index], plt_data.radii[index])\n",
    "            B_nu_plt = s2.computeBmu(array([lamb]), T_plt)\n",
    "            F_plt = Fstar(plt_data.lumin[index], B_nu_plt, T_plt, d_pl)\n",
    "            F_plt = F_plt/1e-26\n",
    "            cr_plt_list.append(F_plt/F_star)\n",
    "        \n",
    "        # swarm scattered light\n",
    "        F_s = s2.computeFs(array([lamb]), 0.32, 0.08, swarm=True)\n",
    "        F_s = F_s[0]/1e-26\n",
    "        cr_list.append(F_s/F_star)\n",
    "    return cr_list, cr_plt_list, Mplt"
   ]
  },
  {
   "cell_type": "code",
   "execution_count": 52,
   "metadata": {},
   "outputs": [
    {
     "data": {
      "image/png": "[encoded data removed]",
      "text/plain": [
       "<Figure size 432x288 with 1 Axes>"
      ]
     },
     "metadata": {},
     "output_type": "display_data"
    }
   ],
   "source": [
    "cr_list, cr_plt_list, Mplt = swarm_time_contrast()\n",
    "\n",
    "plt.figure(2)\n",
    "plt.loglog(time, cr_list, label=\"swarm scattered light\")\n",
    "plt.loglog(time, cr_plt_list, label=\"planet thermal emission\")\n",
    "plt.hlines(contrast_thresh, time[0], time[-1], label=\"contrast threshold\")\n",
    "plt.title(r\"star type M\"+str(star.subtype)+\" with planet mass \"+\"{0:.2e}\".format(Mplt/Mearth)+\"$M_{\\oplus}$\"+\n",
    "          \" and init swarm mass \"+\"{0:.3e}\".format(M0/Mmoon)+\"$M_{moon}$\")\n",
    "plt.ylabel(\"contrast ratio\")\n",
    "plt.xlabel(\"time [years]\")\n",
    "plt.legend()\n",
    "plt.show()"
   ]
  }
 ],
 "metadata": {
  "kernelspec": {
   "display_name": "Python 3",
   "language": "python",
   "name": "python3"
  },
  "language_info": {
   "codemirror_mode": {
    "name": "ipython",
    "version": 3
   },
   "file_extension": ".py",
   "mimetype": "text/x-python",
   "name": "python",
   "nbconvert_exporter": "python",
   "pygments_lexer": "ipython3",
   "version": "3.6.5"
  }
 },
 "nbformat": 4,
 "nbformat_minor": 2
}
