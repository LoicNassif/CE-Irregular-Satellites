{
 "cells": [
  {
   "cell_type": "code",
   "execution_count": 61,
   "metadata": {},
   "outputs": [],
   "source": [
    "from numpy import random, array, pi\n",
    "import matplotlib.pyplot as plt"
   ]
  },
  {
   "cell_type": "code",
   "execution_count": 68,
   "metadata": {},
   "outputs": [],
   "source": [
    "def random_param_misc(N, Mtot_mu, Dc_mu):\n",
    "    Mtot_rand = []\n",
    "    Dc_rand = []\n",
    "    for i in range(N):\n",
    "        Mtot_rand.append(random.normal(loc=Mtot_mu, scale=Mtot_mu/3 - 1))\n",
    "        Dc_rand.append(random.normal(loc=Dc_mu, scale=Dc_mu/3 - 10))\n",
    "    \n",
    "    Mtot_rand = [num if num >= 0 else 0 for num in Mtot_rand]\n",
    "    Dc_rand = [num if num >= 0 else 0 for num in Dc_rand]\n",
    "    return array(Mtot_rand), array(Dc_rand)"
   ]
  },
  {
   "cell_type": "code",
   "execution_count": 54,
   "metadata": {},
   "outputs": [],
   "source": [
    "def compute_CR(fsig, fapl, fg, fQ):\n",
    "    return (2.20e-8 * fsig * (g/0.31) * (Q/0.1)) / (pi * (fapl/pi)**2)"
   ]
  },
  {
   "cell_type": "code",
   "execution_count": 57,
   "metadata": {},
   "outputs": [],
   "source": [
    "def compute_SIG(fMtot, frho, fdc, fdmin):\n",
    "    return fMtot * pi / (6.9e-8 * frho * fdc**0.9 * fdmin**0.7)"
   ]
  },
  {
   "cell_type": "code",
   "execution_count": 58,
   "metadata": {},
   "outputs": [],
   "source": [
    "def compute_DMIN(fMstar, frho, feta, fMplt):\n",
    "    return max(2.07e4 * 1e-6 * (fMstar)**(10./3.) * frho**(-1) * (feta/0.5)**(1./2.) * (fMplt)**(-1./3.), 1.65e-6)"
   ]
  },
  {
   "cell_type": "code",
   "execution_count": 71,
   "metadata": {},
   "outputs": [],
   "source": [
    "Mtot, Dc = random_param_misc(1000, 60, 125) # Mtot in Mmoon, Dc in km\n",
    "\n",
    "# invariants (maybe?)\n",
    "eta = 0.5\n",
    "rho = 1500\n",
    "Q = 0.1\n",
    "g = 0.32\n",
    "\n",
    "# Fix planetary and stellar params for now\n",
    "Mstar = 7.5/100 # Msun\n",
    "Lstar = Mstar**4 # Lsun\n",
    "Mplt = 1 # Mj\n",
    "apl = 50 # AU\n",
    "\n",
    "dmin = compute_DMIN(Mstar, rho, eta, Mplt)\n",
    "sig = compute_SIG(Mtot, rho, Dc, dmin)\n",
    "cr = compute_CR(sig, apl, g, Q)"
   ]
  },
  {
   "cell_type": "code",
   "execution_count": 72,
   "metadata": {},
   "outputs": [
    {
     "data": {
      "image/png": "[encoded data removed]",
      "text/plain": [
       "<Figure size 432x288 with 1 Axes>"
      ]
     },
     "metadata": {},
     "output_type": "display_data"
    }
   ],
   "source": [
    "plt.figure(1)\n",
    "plt.hist(cr, bins='auto')\n",
    "plt.show()"
   ]
  }
 ],
 "metadata": {
  "kernelspec": {
   "display_name": "Python 3",
   "language": "python",
   "name": "python3"
  },
  "language_info": {
   "codemirror_mode": {
    "name": "ipython",
    "version": 3
   },
   "file_extension": ".py",
   "mimetype": "text/x-python",
   "name": "python",
   "nbconvert_exporter": "python",
   "pygments_lexer": "ipython3",
   "version": "3.6.5"
  }
 },
 "nbformat": 4,
 "nbformat_minor": 2
}
