{
 "cells": [
  {
   "cell_type": "code",
   "execution_count": 1,
   "metadata": {},
   "outputs": [],
   "source": [
    "from numpy import random, array, pi, logspace, log10\n",
    "import matplotlib.pyplot as plt"
   ]
  },
  {
   "cell_type": "code",
   "execution_count": 2,
   "metadata": {},
   "outputs": [],
   "source": [
    "Mmoon = 7.34767309e22\n",
    "Mjup = 1.898e27\n",
    "Rjup = 7.1492e7\n",
    "AU = 1.496e11\n",
    "Mearth = 5.972e24\n",
    "Msun = 2e30"
   ]
  },
  {
   "cell_type": "code",
   "execution_count": 17,
   "metadata": {},
   "outputs": [],
   "source": [
    "def random_param_log(N, Mbounds, Dcbounds):\n",
    "    Mtot_rand = []\n",
    "    Dc_rand = []\n",
    "    for i in range(N):\n",
    "        Mtot_rand.append(random.uniform(log10(Mbounds[0]), log10(Mbounds[1])))\n",
    "        Dc_rand.append(random.uniform(log10(Dcbounds[0]), log10(Dcbounds[1])))\n",
    "    \n",
    "    return 10**array(Mtot_rand), 10**array(Dc_rand)"
   ]
  },
  {
   "cell_type": "code",
   "execution_count": 41,
   "metadata": {},
   "outputs": [],
   "source": [
    "def random_param_misc(N, eta_EV, rho_EV, Q_EV, g_EV):\n",
    "    eta_rand = []\n",
    "    rho_rand = []\n",
    "    Q_rand = []\n",
    "    g_rand = []\n",
    "    for i in range(N):\n",
    "        eta_rand.append(random.normal(loc=eta_EV, scale=eta_EV/3.))\n",
    "        rho_rand.append(random.normal(loc=rho_EV, scale=rho_EV/3.))\n",
    "        Q_rand.append(random.normal(loc=Q_EV, scale=Q_EV/3.))\n",
    "        g_rand.append(random.normal(loc=g_EV, scale=g_EV/3.))\n",
    "        \n",
    "    eta_rand = [num if num >= 0 else eta_EV for num in eta_rand]\n",
    "    rho_rand = [num if num >= 0 else rho_EV for num in rho_rand]\n",
    "    Q_rand = [num if num >= 0 else Q_EV for num in Q_rand]\n",
    "    g_rand = [num if num >= 0 else g_EV for num in g_rand]\n",
    "        \n",
    "    return array(eta_rand), array(rho_rand), array(Q_rand), array(g_rand)"
   ]
  },
  {
   "cell_type": "code",
   "execution_count": 4,
   "metadata": {},
   "outputs": [],
   "source": [
    "def compute_CR(fsig, fapl, fg, fQ, fMplt, fMstar, cap=False):\n",
    "    if cap:\n",
    "        fMplt = fMplt * Mjup\n",
    "        fMstar = fMstar * Msun\n",
    "        RH = fapl * (fMplt / (3*fMstar)) ** (1./3.)\n",
    "        RH = RH * AU / (pi * Rjup)\n",
    "        AH = pi * RH**2\n",
    "        print(\"Hill Area = {0:.3e}\".format(AH))\n",
    "        fsig = array([a if a <= AH else AH for a in fsig])\n",
    "    return (2.20e-8 * fsig * (fg/0.31) * (fQ/0.1)) / (pi * (fapl/pi)**2)"
   ]
  },
  {
   "cell_type": "code",
   "execution_count": 5,
   "metadata": {},
   "outputs": [],
   "source": [
    "def compute_SIG(fMtot, frho, fdc, fdmin):\n",
    "    return fMtot * pi / (6.9e-8 * frho * fdc**0.9 * fdmin**0.7)"
   ]
  },
  {
   "cell_type": "code",
   "execution_count": 6,
   "metadata": {},
   "outputs": [],
   "source": [
    "def compute_DMIN(fMstar, frho, feta, fMplt):\n",
    "    return max(2.07e4 * 1e-6 * (fMstar)**(10./3.) * frho**(-1) * (feta/0.5)**(1./2.) * (fMplt)**(-1./3.), 1.65e-6)"
   ]
  },
  {
   "cell_type": "code",
   "execution_count": 44,
   "metadata": {},
   "outputs": [
    {
     "name": "stdout",
     "output_type": "stream",
     "text": [
      "Hill Area = 9.096e+07\n",
      "Max swarm Area = 8.813e+07\n"
     ]
    }
   ],
   "source": [
    "N = 1000\n",
    "\n",
    "Mtot, Dc = random_param_log(N, [1, 100], [10, 1e4]) # Mtot in Mmoon, Dc in km\n",
    "\n",
    "E_rho = 1500 # rho_bd = [500, 2500]\n",
    "E_eta = 0.5 # eta_bd = [0.3, 0.7]\n",
    "E_Q = 0.4 # Q_bd = [0, 0.8]\n",
    "E_g = 0.4 # g_bd = [0, 0.8]\n",
    "eta, rho, Q, g = random_param_misc(N, E_eta, E_rho, E_Q, E_g)\n",
    "\n",
    "Dc = Dc * 1e3\n",
    "\n",
    "# Fix planetary and stellar params for now\n",
    "Mstar = 7.5/100 # Msun\n",
    "Mplt = 1 # Mj\n",
    "apl = 50 # AU\n",
    "\n",
    "dmin_lst = []\n",
    "for i in range(len(rho)):\n",
    "    dmin_lst.append(compute_DMIN(Mstar, rho[i], eta[i], Mplt))\n",
    "\n",
    "sig = compute_SIG(Mtot, rho, Dc, array(dmin_lst))\n",
    "cr = compute_CR(sig, apl, g, Q, Mplt, Mstar, cap=True)\n",
    "\n",
    "print(\"Max swarm Area = {0:.3e}\".format(max(sig)))"
   ]
  },
  {
   "cell_type": "code",
   "execution_count": 45,
   "metadata": {},
   "outputs": [
    {
     "data": {
      "image/png": "[encoded data removed]",
      "text/plain": [
       "<Figure size 432x288 with 1 Axes>"
      ]
     },
     "metadata": {},
     "output_type": "display_data"
    }
   ],
   "source": [
    "plt.figure(1)\n",
    "plt.ticklabel_format(style='sci', axis='x', scilimits=(0,0))\n",
    "plt.xlabel(\"Constrast Ratio\")\n",
    "plt.hist(cr, bins=logspace(log10(1e-7),log10(1e-4), 50))\n",
    "plt.gca().set_xscale(\"log\")\n",
    "plt.show()"
   ]
  }
 ],
 "metadata": {
  "kernelspec": {
   "display_name": "Python 3",
   "language": "python",
   "name": "python3"
  },
  "language_info": {
   "codemirror_mode": {
    "name": "ipython",
    "version": 3
   },
   "file_extension": ".py",
   "mimetype": "text/x-python",
   "name": "python",
   "nbconvert_exporter": "python",
   "pygments_lexer": "ipython3",
   "version": "3.6.5"
  }
 },
 "nbformat": 4,
 "nbformat_minor": 2
}
