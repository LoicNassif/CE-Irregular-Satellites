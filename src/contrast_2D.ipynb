{
 "cells": [
  {
   "cell_type": "code",
   "execution_count": 27,
   "metadata": {},
   "outputs": [],
   "source": [
    "import swarms\n",
    "from numpy import linspace, logspace, pi, array\n",
    "import matplotlib.pyplot as plt"
   ]
  },
  {
   "cell_type": "code",
   "execution_count": 28,
   "metadata": {},
   "outputs": [],
   "source": [
    "RHO=1500\n",
    "M0 = 10 * 7.34767309e22; Dt = 100.; Dmax = 250000.; L_s = 10 * 3.828e26;\n",
    "M_s = 1.86 * 1.989e30; M_pl = 1 * 1.89587112e27; a_pl = 50 * 1.496e11\n",
    "R_pl = 6.9911e7; eta = 0.4; Nstr = 6.; d_pl = 10 * 3.086e16\n",
    "argv = [M0, Dt, Dmax, L_s, M_s, M_pl, a_pl, R_pl, eta, Nstr, d_pl]"
   ]
  },
  {
   "cell_type": "code",
   "execution_count": 45,
   "metadata": {},
   "outputs": [],
   "source": [
    "times = [1e7, 1e8, 1e9, 1e10] \n",
    "lamb = 1.65e-6\n",
    "a_plv = linspace(2 * 1.496e11, 200 * 1.496e11, 500)\n",
    "type_star = \"A\""
   ]
  },
  {
   "cell_type": "code",
   "execution_count": 46,
   "metadata": {},
   "outputs": [],
   "source": [
    "def Fstar(Ls, Bnu, Ts, dpl):\n",
    "    sig = 5.670367e-8 #Stefan-Boltzmann constant\n",
    "    part1 = Ls * Bnu\n",
    "    part2 = 4 * sig * Ts ** 4 * dpl ** 2\n",
    "    return part1 / part2"
   ]
  },
  {
   "cell_type": "code",
   "execution_count": 47,
   "metadata": {
    "scrolled": true
   },
   "outputs": [
    {
     "name": "stdout",
     "output_type": "stream",
     "text": [
      "Fstar\n",
      "35.849665322236966\n",
      "Fstar\n",
      "35.849665322236966\n",
      "Fstar\n",
      "35.849665322236966\n",
      "Fstar\n",
      "35.849665322236966\n"
     ]
    },
    {
     "name": "stderr",
     "output_type": "stream",
     "text": [
      "C:\\Users\\loloynage\\Documents\\CE-Irregular-Satellites\\src\\swarms.py:270: RuntimeWarning: overflow encountered in exp\n",
      "  b = 1/(exp(h*(c/lamb)/(k_B*T)) - 1)\n"
     ]
    }
   ],
   "source": [
    "time_slices = []\n",
    "a_opt_list = []\n",
    "for j in range(len(times)):\n",
    "    if type_star == \"A\":\n",
    "        M_s = 2.1 * 1.989e30\n",
    "        L_s = 20 * 3.828e26\n",
    "    elif type_star == \"G\":\n",
    "        M_s = 1 * 1.989e30\n",
    "        L_s = 1 * 3.828e26\n",
    "    elif type_star == \"M\":\n",
    "        M_s = 0.21 * 1.989e30\n",
    "        L_s = 0.0079 * 3.828e26\n",
    "\n",
    "    s = swarms.CollSwarm(M0, Dt, Dmax, L_s, M_s, M_pl, a_pl, R_pl, eta, Nstr,\n",
    "                        d_pl, correction=True, alpha=1./1.2)\n",
    "    s.updateSwarm(times[j])\n",
    "    T_star = s.stellarTemp()\n",
    "    B_nu = s.computeBmu(lamb, T_star)\n",
    "    F_star = Fstar(L_s, B_nu, T_star, d_pl)/1e-26\n",
    "    print(\"Fstar\")\n",
    "    print(F_star)\n",
    "\n",
    "    waverange = logspace(-7, -3, 200)\n",
    "    B_nu_list = s.computeBmu(waverange, T_star)\n",
    "    F_star_list = Fstar(L_s, B_nu_list, T_star, d_pl)/1e-26\n",
    "\n",
    "    fth_list = []\n",
    "    fs_list = []\n",
    "    if (a_plv is not None):\n",
    "        for i in range(len(a_plv)):\n",
    "            s2 = swarms.CollSwarm(M0, Dt, Dmax, L_s, M_s, M_pl,\n",
    "                                    a_plv[i], R_pl, eta, Nstr, d_pl,\n",
    "                                    rho=RHO, fQ=5, f_vrel=4/pi,\n",
    "                                    correction=True, alpha=1.2)\n",
    "\n",
    "            s2.updateSwarm(times[j])\n",
    "\n",
    "            F_th = s2.computeFth(array([lamb]), swarm=True)\n",
    "            F_s = s2.computeFs(array([lamb]), 0.32, 0.08, swarm=True)\n",
    "\n",
    "            fth_list.append(F_th[0]/1e-26)\n",
    "            fs_list.append(F_s[0]/1e-26)\n",
    "\n",
    "    f_vrel = 4/pi\n",
    "    Qd = s.computeQd(s.Dc)\n",
    "    part1 = (M_s/1.989e30)**0.33 * f_vrel**0.55\n",
    "    part2 = (M_pl/5.972e24)**0.06 * Qd**0.15 * eta\n",
    "    part3 = times[j] * (M0/5.972e24) / (RHO * (s.Dc/1000)) \n",
    "\n",
    "    a_opt = 50 * part1 / part2 * part3**0.24 \n",
    "    a_opt_list.append(a_opt)\n",
    "    \n",
    "    contrast_ratio_apl_th = array(fth_list) / F_star\n",
    "    contrast_ratio_apl_s = array(fs_list) / F_star\n",
    "    time_slices.append(contrast_ratio_apl_s)\n",
    "    \n",
    "    Fth_swarm = s.computeFth(waverange, swarm=True)/1e-26\n",
    "    Fs_swarm = s.computeFs(waverange, 0.32, 0.08, swarm=True)/1e-26\n",
    "\n",
    "    contrast_ratio_th = Fth_swarm / F_star_list\n",
    "    contrast_ratio_s = Fs_swarm / F_star_list"
   ]
  },
  {
   "cell_type": "code",
   "execution_count": 50,
   "metadata": {},
   "outputs": [
    {
     "data": {
      "image/png": "[encoded data removed]",
      "text/plain": [
       "<Figure size 432x288 with 1 Axes>"
      ]
     },
     "metadata": {},
     "output_type": "display_data"
    }
   ],
   "source": [
    "plt.figure(4)\n",
    "label_flag1 = True\n",
    "label_flag2 = True\n",
    "for i in range(len(time_slices)):\n",
    "    for j in range(len(time_slices[i])):\n",
    "        if time_slices[i][j] >= 1e-7:\n",
    "            if label_flag1:\n",
    "                l = plt.plot(a_plv[j]/1.496e11, times[i], 'bo', label=\"CR below 1e-7\")\n",
    "                label_flag1 = False\n",
    "                plt.setp(l, markersize=3)\n",
    "            else:\n",
    "                l = plt.plot(a_plv[j]/1.496e11, times[i], 'bo')\n",
    "                plt.setp(l, markersize=3)\n",
    "        else:\n",
    "            if label_flag2:\n",
    "                l = plt.plot(a_plv[j]/1.496e11, times[i], 'ro', label=\"CR above 1e-7\")\n",
    "                label_flag2 = False\n",
    "                plt.setp(l, markersize=3)\n",
    "            else:\n",
    "                l = plt.plot(a_plv[j]/1.496e11, times[i], 'ro')\n",
    "                plt.setp(l, markersize=3)\n",
    "                \n",
    "plt.loglog()\n",
    "\n",
    "color_list = ['g', 'b', 'c', 'y']\n",
    "for i in range(len(a_opt_list)):\n",
    "    plt.axvline(a_opt_list[i], color=color_list[i], ls='--',label=\"a_opt {0:.1e}\".format(times[i]))\n",
    "plt.axvline(12, color='r',label=\"12 AU\")\n",
    "plt.legend()\n",
    "plt.title(\"Scattered Emission: Star type \"+str(type_star))\n",
    "plt.xlabel(\"a_pl [au]\")\n",
    "plt.ylabel(\"time [yr]\")\n",
    "plt.show()"
   ]
  }
 ],
 "metadata": {
  "kernelspec": {
   "display_name": "Python 3",
   "language": "python",
   "name": "python3"
  },
  "language_info": {
   "codemirror_mode": {
    "name": "ipython",
    "version": 3
   },
   "file_extension": ".py",
   "mimetype": "text/x-python",
   "name": "python",
   "nbconvert_exporter": "python",
   "pygments_lexer": "ipython3",
   "version": "3.6.5"
  }
 },
 "nbformat": 4,
 "nbformat_minor": 2
}
