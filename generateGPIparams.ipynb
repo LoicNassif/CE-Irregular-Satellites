{
 "cells": [
  {
   "cell_type": "code",
   "execution_count": 1,
   "metadata": {},
   "outputs": [
    {
     "data": {
      "text/html": [
       "<div>\n",
       "<style scoped>\n",
       "    .dataframe tbody tr th:only-of-type {\n",
       "        vertical-align: middle;\n",
       "    }\n",
       "\n",
       "    .dataframe tbody tr th {\n",
       "        vertical-align: top;\n",
       "    }\n",
       "\n",
       "    .dataframe thead th {\n",
       "        text-align: right;\n",
       "    }\n",
       "</style>\n",
       "<table border=\"1\" class=\"dataframe\">\n",
       "  <thead>\n",
       "    <tr style=\"text-align: right;\">\n",
       "      <th></th>\n",
       "      <th>star</th>\n",
       "      <th>ra</th>\n",
       "      <th>dec</th>\n",
       "      <th>comment</th>\n",
       "      <th>ra_deg</th>\n",
       "      <th>dec_deg</th>\n",
       "    </tr>\n",
       "  </thead>\n",
       "  <tbody>\n",
       "    <tr>\n",
       "      <th>0</th>\n",
       "      <td>HIP 159</td>\n",
       "      <td>00:02:02.6</td>\n",
       "      <td>-02:45:58.2</td>\n",
       "      <td>H-coron (~1 hr)</td>\n",
       "      <td>0.510833</td>\n",
       "      <td>-2.766167</td>\n",
       "    </tr>\n",
       "    <tr>\n",
       "      <th>1</th>\n",
       "      <td>HD 105</td>\n",
       "      <td>00:05:52.5</td>\n",
       "      <td>-41:45:11.0</td>\n",
       "      <td>H-coron (~1 hr)</td>\n",
       "      <td>1.468750</td>\n",
       "      <td>-41.753056</td>\n",
       "    </tr>\n",
       "    <tr>\n",
       "      <th>2</th>\n",
       "      <td>HR 9</td>\n",
       "      <td>00:06:50.1</td>\n",
       "      <td>-23:06:27.1</td>\n",
       "      <td>H-coron (~1 hr); H-coron-pol</td>\n",
       "      <td>1.708750</td>\n",
       "      <td>-23.107528</td>\n",
       "    </tr>\n",
       "    <tr>\n",
       "      <th>3</th>\n",
       "      <td>HD 377</td>\n",
       "      <td>00:08:26</td>\n",
       "      <td>06:37:00</td>\n",
       "      <td>H-coron-pol; H-coron-pol</td>\n",
       "      <td>2.108333</td>\n",
       "      <td>6.616667</td>\n",
       "    </tr>\n",
       "    <tr>\n",
       "      <th>4</th>\n",
       "      <td>HIP 795</td>\n",
       "      <td>00:09:51.6</td>\n",
       "      <td>08:27:11.5</td>\n",
       "      <td>H-coron (~1 hr)</td>\n",
       "      <td>2.465000</td>\n",
       "      <td>8.453194</td>\n",
       "    </tr>\n",
       "  </tbody>\n",
       "</table>\n",
       "</div>"
      ],
      "text/plain": [
       "       star           ra           dec                       comment  \\\n",
       "0  HIP 159   00:02:02.6   -02:45:58.2                H-coron (~1 hr)   \n",
       "1   HD 105   00:05:52.5   -41:45:11.0                H-coron (~1 hr)   \n",
       "2     HR 9   00:06:50.1   -23:06:27.1   H-coron (~1 hr); H-coron-pol   \n",
       "3   HD 377     00:08:26      06:37:00       H-coron-pol; H-coron-pol   \n",
       "4  HIP 795   00:09:51.6    08:27:11.5                H-coron (~1 hr)   \n",
       "\n",
       "     ra_deg    dec_deg  \n",
       "0  0.510833  -2.766167  \n",
       "1  1.468750 -41.753056  \n",
       "2  1.708750 -23.107528  \n",
       "3  2.108333   6.616667  \n",
       "4  2.465000   8.453194  "
      ]
     },
     "execution_count": 1,
     "metadata": {},
     "output_type": "execute_result"
    }
   ],
   "source": [
    "import pandas as pd\n",
    "from astroquery.simbad import Simbad\n",
    "df = pd.read_csv('gpi_campaign_list.csv')\n",
    "df.head()"
   ]
  },
  {
   "cell_type": "code",
   "execution_count": 2,
   "metadata": {},
   "outputs": [
    {
     "data": {
      "text/plain": [
       "['main_id']"
      ]
     },
     "execution_count": 2,
     "metadata": {},
     "output_type": "execute_result"
    }
   ],
   "source": [
    "customSimbad = Simbad()\n",
    "customSimbad.remove_votable_fields('coordinates')\n",
    "customSimbad.get_votable_fields()"
   ]
  },
  {
   "cell_type": "code",
   "execution_count": 3,
   "metadata": {},
   "outputs": [
    {
     "name": "stdout",
     "output_type": "stream",
     "text": [
      "Stellar parameters (Teff, log(g) and [Fe/H]) taken from the literature.\n"
     ]
    }
   ],
   "source": [
    "Simbad.get_field_description ('fe_h') "
   ]
  },
  {
   "cell_type": "code",
   "execution_count": 4,
   "metadata": {},
   "outputs": [],
   "source": [
    "customSimbad.add_votable_fields('ra(2;A;ICRS;J2017.5;2000)', 'dec(2;D;ICRS;2017.5;2000)', 'sp', 'distance', 'diameter', 'flux(I)', 'flux(H)', 'fe_h')"
   ]
  },
  {
   "cell_type": "markdown",
   "metadata": {},
   "source": [
    "Beta pic MG:\n",
    "- Not in GPI: GJ 3305, HD 155555C, AT Mic (HIP 102409, GJ 803), HIP 29964 (AO Men), BD -176128 (AZ Cap)\n",
    "- In GPI: HIP 23309, AU Mic"
   ]
  },
  {
   "cell_type": "code",
   "execution_count": 15,
   "metadata": {},
   "outputs": [
    {
     "data": {
      "text/html": [
       "<i>Table masked=True length=1</i>\n",
       "<table id=\"table4870308528\" class=\"table-striped table-bordered table-condensed\">\n",
       "<thead><tr><th>MAIN_ID</th><th>RA_2_A_ICRS_J2017_5_2000</th><th>DEC_2_D_ICRS_2017_5_2000</th><th>SP_TYPE</th><th>Distance_distance</th><th>Distance_Q</th><th>Distance_unit</th><th>Distance_merr</th><th>Distance_perr</th><th>Distance_method</th><th>Distance_bibcode</th><th>Diameter_diameter</th><th>Diameter_Q</th><th>Diameter_unit</th><th>Diameter_error</th><th>Diameter_filter</th><th>Diameter_method</th><th>Diameter_bibcode</th><th>FLUX_I</th><th>FLUX_H</th><th>Fe_H_Teff</th><th>Fe_H_log_g</th><th>Fe_H_Fe_H</th><th>Fe_H_flag</th><th>Fe_H_CompStar</th><th>Fe_H_CatNo</th><th>Fe_H_bibcode</th></tr></thead>\n",
       "<thead><tr><th></th><th>&quot;h:m:s&quot;</th><th>&quot;d:m:s&quot;</th><th></th><th></th><th></th><th></th><th></th><th></th><th></th><th></th><th></th><th></th><th></th><th></th><th></th><th></th><th></th><th>mag</th><th>mag</th><th>unit-degK</th><th>cm/s**2</th><th></th><th></th><th></th><th></th><th></th></tr></thead>\n",
       "<thead><tr><th>object</th><th>str13</th><th>str13</th><th>object</th><th>float64</th><th>str1</th><th>str4</th><th>float64</th><th>float64</th><th>str8</th><th>str19</th><th>float64</th><th>str1</th><th>str4</th><th>float64</th><th>str8</th><th>str8</th><th>str19</th><th>float32</th><th>float32</th><th>int32</th><th>float32</th><th>float32</th><th>str1</th><th>object</th><th>str5</th><th>str19</th></tr></thead>\n",
       "<tr><td>CD-57  1054</td><td>05 00 47.2059</td><td>-57 15 25.453</td><td>M0Ve</td><td>26.9008</td><td></td><td>pc</td><td>-0.0203</td><td>0.0203</td><td>paral</td><td>2018yCat.1345....0G</td><td>--</td><td></td><td></td><td>--</td><td></td><td></td><td></td><td>8.177</td><td>6.429</td><td>4048</td><td>--</td><td>--</td><td></td><td>SUN</td><td></td><td>2014MNRAS.443.2561G</td></tr>\n",
       "</table>"
      ],
      "text/plain": [
       "<Table masked=True length=1>\n",
       "  MAIN_ID   RA_2_A_ICRS_J2017_5_2000 ... Fe_H_CatNo     Fe_H_bibcode   \n",
       "                    \"h:m:s\"          ...                               \n",
       "   object            str13           ...    str5           str19       \n",
       "----------- ------------------------ ... ---------- -------------------\n",
       "CD-57  1054            05 00 47.2059 ...            2014MNRAS.443.2561G"
      ]
     },
     "execution_count": 15,
     "metadata": {},
     "output_type": "execute_result"
    }
   ],
   "source": [
    "customSimbad.query_object('HIP 23309')"
   ]
  },
  {
   "cell_type": "code",
   "execution_count": 5,
   "metadata": {},
   "outputs": [],
   "source": [
    "def query(row):\n",
    "    res = customSimbad.query_object(row['star'])\n",
    "    res = res.to_pandas()\n",
    "    row = pd.concat([row, res.loc[0]])\n",
    "    return row"
   ]
  },
  {
   "cell_type": "code",
   "execution_count": 6,
   "metadata": {},
   "outputs": [],
   "source": [
    "df1 = df.loc[0:100]\n",
    "df1 = df1.apply(query, axis=1)"
   ]
  },
  {
   "cell_type": "code",
   "execution_count": 7,
   "metadata": {},
   "outputs": [],
   "source": [
    "df2 = df.loc[100:200]\n",
    "df2 = df2.apply(query, axis=1)"
   ]
  },
  {
   "cell_type": "code",
   "execution_count": 9,
   "metadata": {},
   "outputs": [],
   "source": [
    "df3 = df.loc[200:300]\n",
    "df3 = df3.apply(query, axis=1)"
   ]
  },
  {
   "cell_type": "code",
   "execution_count": 10,
   "metadata": {},
   "outputs": [],
   "source": [
    "df4 = df.loc[300:400]\n",
    "df4 = df4.apply(query, axis=1)"
   ]
  },
  {
   "cell_type": "code",
   "execution_count": 11,
   "metadata": {},
   "outputs": [],
   "source": [
    "df5 = df.loc[400:500]\n",
    "df5 = df5.apply(query, axis=1)"
   ]
  },
  {
   "cell_type": "code",
   "execution_count": 12,
   "metadata": {},
   "outputs": [],
   "source": [
    "df6 = df.loc[500:600]\n",
    "df6 = df6.apply(query, axis=1)"
   ]
  },
  {
   "cell_type": "code",
   "execution_count": 13,
   "metadata": {},
   "outputs": [],
   "source": [
    "df7 = df.loc[600:700]\n",
    "df7 = df7.apply(query, axis=1)"
   ]
  },
  {
   "cell_type": "code",
   "execution_count": 14,
   "metadata": {},
   "outputs": [
    {
     "data": {
      "text/html": [
       "<div>\n",
       "<style scoped>\n",
       "    .dataframe tbody tr th:only-of-type {\n",
       "        vertical-align: middle;\n",
       "    }\n",
       "\n",
       "    .dataframe tbody tr th {\n",
       "        vertical-align: top;\n",
       "    }\n",
       "\n",
       "    .dataframe thead th {\n",
       "        text-align: right;\n",
       "    }\n",
       "</style>\n",
       "<table border=\"1\" class=\"dataframe\">\n",
       "  <thead>\n",
       "    <tr style=\"text-align: right;\">\n",
       "      <th></th>\n",
       "      <th>star</th>\n",
       "      <th>ra</th>\n",
       "      <th>dec</th>\n",
       "      <th>comment</th>\n",
       "      <th>ra_deg</th>\n",
       "      <th>dec_deg</th>\n",
       "      <th>MAIN_ID</th>\n",
       "      <th>RA_2_A_ICRS_J2017_5_2000</th>\n",
       "      <th>DEC_2_D_ICRS_2017_5_2000</th>\n",
       "      <th>SP_TYPE</th>\n",
       "      <th>...</th>\n",
       "      <th>Diameter_bibcode</th>\n",
       "      <th>FLUX_I</th>\n",
       "      <th>FLUX_H</th>\n",
       "      <th>Fe_H_Teff</th>\n",
       "      <th>Fe_H_log_g</th>\n",
       "      <th>Fe_H_Fe_H</th>\n",
       "      <th>Fe_H_flag</th>\n",
       "      <th>Fe_H_CompStar</th>\n",
       "      <th>Fe_H_CatNo</th>\n",
       "      <th>Fe_H_bibcode</th>\n",
       "    </tr>\n",
       "  </thead>\n",
       "  <tbody>\n",
       "    <tr>\n",
       "      <th>626</th>\n",
       "      <td>HIP 117219</td>\n",
       "      <td>23:46:01.2</td>\n",
       "      <td>-40:10:56.9</td>\n",
       "      <td>H-coron (~1 hr)</td>\n",
       "      <td>356.505000</td>\n",
       "      <td>-40.182472</td>\n",
       "      <td>b'HD 223011'</td>\n",
       "      <td>23 46 01.4123</td>\n",
       "      <td>-40 10 57.234</td>\n",
       "      <td>b'A7III/IV'</td>\n",
       "      <td>...</td>\n",
       "      <td></td>\n",
       "      <td>NaN</td>\n",
       "      <td>5.879</td>\n",
       "      <td>7834</td>\n",
       "      <td>NaN</td>\n",
       "      <td>NaN</td>\n",
       "      <td></td>\n",
       "      <td>b'SUN'</td>\n",
       "      <td></td>\n",
       "      <td>2012A&amp;A...537A.120Z</td>\n",
       "    </tr>\n",
       "    <tr>\n",
       "      <th>627</th>\n",
       "      <td>HIP 117452</td>\n",
       "      <td>23:48:55.6</td>\n",
       "      <td>-28:07:49.0</td>\n",
       "      <td>H-coron (~1 hr); H-coron-pol</td>\n",
       "      <td>357.231667</td>\n",
       "      <td>-28.130278</td>\n",
       "      <td>b'* del Scl'</td>\n",
       "      <td>23 48 55.6799</td>\n",
       "      <td>-28 07 48.974</td>\n",
       "      <td>b'A0Vnp'</td>\n",
       "      <td>...</td>\n",
       "      <td></td>\n",
       "      <td>4.550</td>\n",
       "      <td>4.643</td>\n",
       "      <td>9863</td>\n",
       "      <td>NaN</td>\n",
       "      <td>NaN</td>\n",
       "      <td></td>\n",
       "      <td>b'SUN'</td>\n",
       "      <td></td>\n",
       "      <td>2006A&amp;A...458..293P</td>\n",
       "    </tr>\n",
       "    <tr>\n",
       "      <th>628</th>\n",
       "      <td>HIP 117481</td>\n",
       "      <td>23:49:19.6</td>\n",
       "      <td>-27:51:14.9</td>\n",
       "      <td>H-coron (~1 hr); H-coron-pol</td>\n",
       "      <td>357.331667</td>\n",
       "      <td>-27.854139</td>\n",
       "      <td>b'HD 223408'</td>\n",
       "      <td>23 49 19.4270</td>\n",
       "      <td>-27 51 15.328</td>\n",
       "      <td>b'F6V'</td>\n",
       "      <td>...</td>\n",
       "      <td></td>\n",
       "      <td>6.370</td>\n",
       "      <td>5.787</td>\n",
       "      <td>6255</td>\n",
       "      <td>4.18</td>\n",
       "      <td>NaN</td>\n",
       "      <td></td>\n",
       "      <td>b''</td>\n",
       "      <td></td>\n",
       "      <td>2003AJ....125.1598L</td>\n",
       "    </tr>\n",
       "    <tr>\n",
       "      <th>629</th>\n",
       "      <td>HIP 118008</td>\n",
       "      <td>23:56:10.7</td>\n",
       "      <td>-39:03:08.4</td>\n",
       "      <td>H-coron (~1 hr); H-coron-pol</td>\n",
       "      <td>359.044583</td>\n",
       "      <td>-39.052333</td>\n",
       "      <td>b'HD 224228'</td>\n",
       "      <td>23 56 10.9830</td>\n",
       "      <td>-39 03 08.409</td>\n",
       "      <td>b'K2V'</td>\n",
       "      <td>...</td>\n",
       "      <td></td>\n",
       "      <td>7.194</td>\n",
       "      <td>6.007</td>\n",
       "      <td>0</td>\n",
       "      <td>NaN</td>\n",
       "      <td>NaN</td>\n",
       "      <td></td>\n",
       "      <td>b''</td>\n",
       "      <td></td>\n",
       "      <td></td>\n",
       "    </tr>\n",
       "    <tr>\n",
       "      <th>630</th>\n",
       "      <td>HIP 118121</td>\n",
       "      <td>23:57:35.0</td>\n",
       "      <td>-64:17:53.1</td>\n",
       "      <td>H-coron (~1 hr)</td>\n",
       "      <td>359.395833</td>\n",
       "      <td>-64.298083</td>\n",
       "      <td>b'* eta Tuc'</td>\n",
       "      <td>23 57 35.2906</td>\n",
       "      <td>-64 17 53.622</td>\n",
       "      <td>b'A1V'</td>\n",
       "      <td>...</td>\n",
       "      <td></td>\n",
       "      <td>NaN</td>\n",
       "      <td>4.949</td>\n",
       "      <td>9057</td>\n",
       "      <td>NaN</td>\n",
       "      <td>NaN</td>\n",
       "      <td></td>\n",
       "      <td>b'SUN'</td>\n",
       "      <td></td>\n",
       "      <td>2012A&amp;A...537A.120Z</td>\n",
       "    </tr>\n",
       "  </tbody>\n",
       "</table>\n",
       "<p>5 rows × 33 columns</p>\n",
       "</div>"
      ],
      "text/plain": [
       "            star           ra           dec                       comment  \\\n",
       "626  HIP 117219   23:46:01.2   -40:10:56.9                H-coron (~1 hr)   \n",
       "627  HIP 117452   23:48:55.6   -28:07:49.0   H-coron (~1 hr); H-coron-pol   \n",
       "628  HIP 117481   23:49:19.6   -27:51:14.9   H-coron (~1 hr); H-coron-pol   \n",
       "629  HIP 118008   23:56:10.7   -39:03:08.4   H-coron (~1 hr); H-coron-pol   \n",
       "630  HIP 118121   23:57:35.0   -64:17:53.1                H-coron (~1 hr)   \n",
       "\n",
       "         ra_deg    dec_deg       MAIN_ID RA_2_A_ICRS_J2017_5_2000  \\\n",
       "626  356.505000 -40.182472  b'HD 223011'            23 46 01.4123   \n",
       "627  357.231667 -28.130278  b'* del Scl'            23 48 55.6799   \n",
       "628  357.331667 -27.854139  b'HD 223408'            23 49 19.4270   \n",
       "629  359.044583 -39.052333  b'HD 224228'            23 56 10.9830   \n",
       "630  359.395833 -64.298083  b'* eta Tuc'            23 57 35.2906   \n",
       "\n",
       "    DEC_2_D_ICRS_2017_5_2000      SP_TYPE         ...           \\\n",
       "626            -40 10 57.234  b'A7III/IV'         ...            \n",
       "627            -28 07 48.974     b'A0Vnp'         ...            \n",
       "628            -27 51 15.328       b'F6V'         ...            \n",
       "629            -39 03 08.409       b'K2V'         ...            \n",
       "630            -64 17 53.622       b'A1V'         ...            \n",
       "\n",
       "     Diameter_bibcode FLUX_I FLUX_H  Fe_H_Teff  Fe_H_log_g Fe_H_Fe_H  \\\n",
       "626                      NaN  5.879       7834         NaN       NaN   \n",
       "627                    4.550  4.643       9863         NaN       NaN   \n",
       "628                    6.370  5.787       6255        4.18       NaN   \n",
       "629                    7.194  6.007          0         NaN       NaN   \n",
       "630                      NaN  4.949       9057         NaN       NaN   \n",
       "\n",
       "    Fe_H_flag  Fe_H_CompStar Fe_H_CatNo         Fe_H_bibcode  \n",
       "626                   b'SUN'             2012A&A...537A.120Z  \n",
       "627                   b'SUN'             2006A&A...458..293P  \n",
       "628                      b''             2003AJ....125.1598L  \n",
       "629                      b''                                  \n",
       "630                   b'SUN'             2012A&A...537A.120Z  \n",
       "\n",
       "[5 rows x 33 columns]"
      ]
     },
     "execution_count": 14,
     "metadata": {},
     "output_type": "execute_result"
    }
   ],
   "source": [
    "stellarpar = pd.concat([df1, df2, df3, df4, df5, df6, df7])\n",
    "stellarpar.tail()"
   ]
  },
  {
   "cell_type": "code",
   "execution_count": 17,
   "metadata": {},
   "outputs": [
    {
     "data": {
      "text/plain": [
       "0             A8/9V\n",
       "1               G0V\n",
       "2               F3V\n",
       "3               G2V\n",
       "4           G6V+G7V\n",
       "5               G8V\n",
       "6               F7V\n",
       "7               G8V\n",
       "8               F6V\n",
       "9               F8V\n",
       "10            G2.5V\n",
       "11            A5IVn\n",
       "12             A1Va\n",
       "13            B8/A0\n",
       "14             K4Ve\n",
       "15              F2V\n",
       "16          G1V+K5V\n",
       "17              F7V\n",
       "18     A3VpSrCr_Ksn\n",
       "19            F7/8V\n",
       "20              F7V\n",
       "21               G5\n",
       "22              K0V\n",
       "23              G5V\n",
       "24            K0III\n",
       "25              F7V\n",
       "26              F6V\n",
       "27              G9V\n",
       "28              G7V\n",
       "29              G6V\n",
       "           ...     \n",
       "601             G0V\n",
       "602       G0VCH-0.3\n",
       "603          F0IV-V\n",
       "604            K4Ve\n",
       "605             A4V\n",
       "606             G5V\n",
       "607             G1V\n",
       "608             F7V\n",
       "609      F0+VkA5mA5\n",
       "610             G8V\n",
       "611             F6V\n",
       "612             G5V\n",
       "613      A2VpSrCrSi\n",
       "614            G8IV\n",
       "615            M2Ve\n",
       "616             G1V\n",
       "617            K0IV\n",
       "618            M0Ve\n",
       "619             K2V\n",
       "620              F0\n",
       "621            A0Vn\n",
       "622            K3Ve\n",
       "623                \n",
       "624             A7V\n",
       "625             B9V\n",
       "626        A7III/IV\n",
       "627           A0Vnp\n",
       "628             F6V\n",
       "629             K2V\n",
       "630             A1V\n",
       "Name: S_Type, Length: 637, dtype: object"
      ]
     },
     "execution_count": 17,
     "metadata": {},
     "output_type": "execute_result"
    }
   ],
   "source": [
    "def bytes_to_string(row):\n",
    "    row['S_Type'] = row['SP_TYPE'].decode('ascii')\n",
    "    return row\n",
    "\n",
    "stellarpar = stellarpar.apply(bytes_to_string, axis=1)"
   ]
  },
  {
   "cell_type": "code",
   "execution_count": 20,
   "metadata": {},
   "outputs": [],
   "source": [
    "del stellarpar['SP_TYPE']"
   ]
  },
  {
   "cell_type": "code",
   "execution_count": 22,
   "metadata": {},
   "outputs": [],
   "source": [
    "stellarpar.to_csv('stellarparameters.csv')"
   ]
  },
  {
   "cell_type": "code",
   "execution_count": null,
   "metadata": {},
   "outputs": [],
   "source": []
  }
 ],
 "metadata": {
  "kernelspec": {
   "display_name": "Python 3",
   "language": "python",
   "name": "python3"
  },
  "language_info": {
   "codemirror_mode": {
    "name": "ipython",
    "version": 3
   },
   "file_extension": ".py",
   "mimetype": "text/x-python",
   "name": "python",
   "nbconvert_exporter": "python",
   "pygments_lexer": "ipython3",
   "version": "3.7.1"
  }
 },
 "nbformat": 4,
 "nbformat_minor": 2
}
