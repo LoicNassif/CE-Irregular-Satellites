{
 "cells": [
  {
   "cell_type": "code",
   "execution_count": 1,
   "metadata": {},
   "outputs": [],
   "source": [
    "import matplotlib.pyplot as plt\n",
    "import pandas as pd\n",
    "from random import uniform\n",
    "import numpy as np\n",
    "from numpy import random, pi, array\n",
    "import swarms\n",
    "import pread as pds\n",
    "from random import randint, seed, uniform"
   ]
  },
  {
   "cell_type": "code",
   "execution_count": 2,
   "metadata": {},
   "outputs": [],
   "source": [
    "Mmoon = 7.35e22\n",
    "Mjup = 1.898e27\n",
    "Rjup = 7.1492e7\n",
    "AU = 1.496e11\n",
    "Rearth = 6.3781e6\n",
    "Mearth = 5.972e24\n",
    "pc = 3.086e16\n",
    "Msun = 1.989e30\n",
    "Lsun = 3.828e26\n",
    "Year = 3.154e7 # seconds\n",
    "KM = 1e3"
   ]
  },
  {
   "cell_type": "code",
   "execution_count": 40,
   "metadata": {},
   "outputs": [],
   "source": [
    "Q = 0.5\n",
    "Dc = 3e6 # m\n",
    "rho = 3000 # kg/m^3\n",
    "eta = 0.5 # eta\n",
    "g = 0.32 #https://arxiv.org/pdf/1709.00417.pdf\n",
    "Dt = 1000 # m\n",
    "Nstr = 60\n",
    "Dmax = Dc*4\n",
    "fQ = 10\n",
    "Mtot = Mearth/100\n",
    "Mstar = Msun/10\n",
    "\n",
    "star = swarms.Star((Mstar/Msun)**4*Lsun, Mstar, 5800, d=10*pc)\n",
    "planet = swarms.Planet(star, M=31*Mearth , R=None, a=0.641*AU, Q=Q, Z='002', age=2e9*Year)\n",
    "swarm = swarms.CollSwarm(star, planet, Mtot, Dt, Dmax, Q=Q, eta=eta, Nstr=Nstr, \n",
    "                        rho=rho, fQ=fQ, correction=True, Dmin_min=1.65e-6)"
   ]
  },
  {
   "cell_type": "markdown",
   "metadata": {},
   "source": [
    "# QD*"
   ]
  },
  {
   "cell_type": "code",
   "execution_count": 41,
   "metadata": {},
   "outputs": [
    {
     "data": {
      "text/plain": [
       "721595.864645582"
      ]
     },
     "execution_count": 41,
     "metadata": {},
     "output_type": "execute_result"
    }
   ],
   "source": [
    "swarm.computeQd(Dc)"
   ]
  },
  {
   "cell_type": "code",
   "execution_count": 42,
   "metadata": {},
   "outputs": [
    {
     "data": {
      "text/plain": [
       "719130.942047564"
      ]
     },
     "execution_count": 42,
     "metadata": {},
     "output_type": "execute_result"
    }
   ],
   "source": [
    "(3.3e4/fQ)*(rho/1000)*(Dc/1e5)**1.26# Eq 5 in our paper"
   ]
  },
  {
   "cell_type": "markdown",
   "metadata": {},
   "source": [
    "# Dmin"
   ]
  },
  {
   "cell_type": "code",
   "execution_count": 43,
   "metadata": {},
   "outputs": [
    {
     "data": {
      "text/plain": [
       "6.967634710779801e-09"
      ]
     },
     "execution_count": 43,
     "metadata": {},
     "output_type": "execute_result"
    }
   ],
   "source": [
    "swarm.computeDmin(Dmin_min=0)"
   ]
  },
  {
   "cell_type": "code",
   "execution_count": 44,
   "metadata": {},
   "outputs": [
    {
     "data": {
      "text/plain": [
       "6.943440101785478e-09"
      ]
     },
     "execution_count": 44,
     "metadata": {},
     "output_type": "execute_result"
    }
   ],
   "source": [
    "1.6e-5*(eta/0.3)**0.5*(swarm.star.M/Msun)**3.33*(swarm.planet.M/318/Mearth)**-0.33/(rho/1000) # Eq 4 in our paper"
   ]
  },
  {
   "cell_type": "markdown",
   "metadata": {},
   "source": [
    "# aopt\n",
    "\n",
    "This is what I implemented from my Eq 11 in our paper, so I can't check it independently like above. Instead, let's take the value output here, and then put it back into CollSwarm above, and check that Tcol is about 1e6*Year"
   ]
  },
  {
   "cell_type": "code",
   "execution_count": 48,
   "metadata": {},
   "outputs": [
    {
     "data": {
      "text/plain": [
       "0.6407458027949493"
      ]
     },
     "execution_count": 48,
     "metadata": {},
     "output_type": "execute_result"
    }
   ],
   "source": [
    "swarm.aopt(1e6*Year)/AU"
   ]
  },
  {
   "cell_type": "markdown",
   "metadata": {},
   "source": [
    "# Tcol\n",
    "\n",
    "Matches to within about 20\\%. Thiis because Rcc in code was taken from Kennedy, while I implemented aopt from our Eq 11, so there'a a loss of significant digits"
   ]
  },
  {
   "cell_type": "code",
   "execution_count": 51,
   "metadata": {},
   "outputs": [
    {
     "data": {
      "text/plain": [
       "37069195673000.41"
      ]
     },
     "execution_count": 51,
     "metadata": {},
     "output_type": "execute_result"
    }
   ],
   "source": [
    "1/swarm.Rcc0"
   ]
  },
  {
   "cell_type": "code",
   "execution_count": 52,
   "metadata": {},
   "outputs": [
    {
     "data": {
      "text/plain": [
       "31540000000000.0"
      ]
     },
     "execution_count": 52,
     "metadata": {},
     "output_type": "execute_result"
    }
   ],
   "source": [
    "1e6*Year"
   ]
  },
  {
   "cell_type": "code",
   "execution_count": null,
   "metadata": {},
   "outputs": [],
   "source": []
  }
 ],
 "metadata": {
  "kernelspec": {
   "display_name": "Python 3",
   "language": "python",
   "name": "python3"
  },
  "language_info": {
   "codemirror_mode": {
    "name": "ipython",
    "version": 3
   },
   "file_extension": ".py",
   "mimetype": "text/x-python",
   "name": "python",
   "nbconvert_exporter": "python",
   "pygments_lexer": "ipython3",
   "version": "3.7.1"
  }
 },
 "nbformat": 4,
 "nbformat_minor": 2
}
