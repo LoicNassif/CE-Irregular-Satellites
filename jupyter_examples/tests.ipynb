{
 "cells": [
  {
   "cell_type": "code",
   "execution_count": 1,
   "metadata": {},
   "outputs": [],
   "source": [
    "import matplotlib.pyplot as plt\n",
    "import pandas as pd\n",
    "from random import uniform\n",
    "import numpy as np\n",
    "from numpy import random, pi, array\n",
    "import swarms\n",
    "import pread as pds\n",
    "from random import randint, seed, uniform\n",
    "from swarms import MEARTH, PC, MSUN, LSUN, YEAR, KM, GCC, AU, MJUP"
   ]
  },
  {
   "cell_type": "markdown",
   "metadata": {},
   "source": [
    "# Check 115 AU scaling with paper with exact code\n",
    "# Do Dmin the right way"
   ]
  },
  {
   "cell_type": "code",
   "execution_count": 2,
   "metadata": {},
   "outputs": [],
   "source": [
    "Q = 0.5\n",
    "Dc = 100*KM \n",
    "rho = 1*GCC\n",
    "eta = 0.3 # eta\n",
    "g = 0.32 #https://arxiv.org/pdf/1709.00417.pdf\n",
    "Dt = 1*KM\n",
    "Nstr = 60\n",
    "Dmax = Dc\n",
    "fQ = 5\n",
    "Mtot = MEARTH\n",
    "Mstar = MSUN\n",
    "Mp = MJUP\n",
    "a = 112*AU\n",
    "\n",
    "star = swarms.Star((Mstar/MSUN)**4*LSUN, Mstar, 5800, d=10*PC)\n",
    "planet = swarms.Planet(star, M=Mp , R=None, a=a, Q=Q, Z='002', age=2e9*YEAR)\n",
    "swarm = swarms.CollSwarm(star, planet, Mtot, Dt=Dt, Dmax=Dmax, Q=Q, eta=eta, Nstr=Nstr, \n",
    "                        rho=rho, fQ=fQ, Dmin_min=0)"
   ]
  },
  {
   "cell_type": "code",
   "execution_count": 14,
   "metadata": {},
   "outputs": [
    {
     "data": {
      "text/plain": [
       "88.84228509509298"
      ]
     },
     "execution_count": 14,
     "metadata": {},
     "output_type": "execute_result"
    }
   ],
   "source": [
    "swarm.computea0()/AU"
   ]
  },
  {
   "cell_type": "markdown",
   "metadata": {},
   "source": [
    "#### swarm.computeDmin()"
   ]
  },
  {
   "cell_type": "code",
   "execution_count": 3,
   "metadata": {},
   "outputs": [
    {
     "data": {
      "text/plain": [
       "1.0001142015272968"
      ]
     },
     "execution_count": 3,
     "metadata": {},
     "output_type": "execute_result"
    }
   ],
   "source": [
    "swarm.computeTcol()/YEAR/1e7"
   ]
  },
  {
   "cell_type": "code",
   "execution_count": 4,
   "metadata": {},
   "outputs": [
    {
     "ename": "TypeError",
     "evalue": "computeaopt() takes 1 positional argument but 2 were given",
     "output_type": "error",
     "traceback": [
      "\u001b[0;31m---------------------------------------------------------------------------\u001b[0m",
      "\u001b[0;31mTypeError\u001b[0m                                 Traceback (most recent call last)",
      "\u001b[0;32m<ipython-input-4-2563f69e832b>\u001b[0m in \u001b[0;36m<module>\u001b[0;34m()\u001b[0m\n\u001b[0;32m----> 1\u001b[0;31m \u001b[0mswarm\u001b[0m\u001b[0;34m.\u001b[0m\u001b[0mcomputeaopt\u001b[0m\u001b[0;34m(\u001b[0m\u001b[0;36m1e7\u001b[0m\u001b[0;34m*\u001b[0m\u001b[0mYEAR\u001b[0m\u001b[0;34m)\u001b[0m\u001b[0;34m/\u001b[0m\u001b[0mAU\u001b[0m\u001b[0;34m\u001b[0m\u001b[0;34m\u001b[0m\u001b[0m\n\u001b[0m",
      "\u001b[0;31mTypeError\u001b[0m: computeaopt() takes 1 positional argument but 2 were given"
     ]
    }
   ],
   "source": [
    "swarm.computeaopt(1e7*YEAR)/AU"
   ]
  },
  {
   "cell_type": "code",
   "execution_count": null,
   "metadata": {},
   "outputs": [],
   "source": [
    "swarm.computeTcol()/YEAR/1e7"
   ]
  },
  {
   "cell_type": "code",
   "execution_count": null,
   "metadata": {},
   "outputs": [],
   "source": [
    "1/swarm.computeRCC3()/YEAR/1e7"
   ]
  },
  {
   "cell_type": "markdown",
   "metadata": {},
   "source": [
    "# QD*"
   ]
  },
  {
   "cell_type": "code",
   "execution_count": null,
   "metadata": {},
   "outputs": [],
   "source": [
    "swarm.computeQd(Dc)"
   ]
  },
  {
   "cell_type": "code",
   "execution_count": null,
   "metadata": {},
   "outputs": [],
   "source": [
    "(3.3e4/fQ)*(rho/1000)*(Dc/1e5)**1.26# Eq 5 in our paper"
   ]
  },
  {
   "cell_type": "markdown",
   "metadata": {},
   "source": [
    "# Dmin"
   ]
  },
  {
   "cell_type": "code",
   "execution_count": null,
   "metadata": {},
   "outputs": [],
   "source": [
    "swarm.computeDmin()"
   ]
  },
  {
   "cell_type": "code",
   "execution_count": null,
   "metadata": {},
   "outputs": [],
   "source": [
    "1.6e-5*(eta/0.3)**0.5*(swarm.star.M/MSUN)**3.33*(swarm.planet.M/318/MEARTH)**-0.33/(rho/1000) # Eq 4 in our paper"
   ]
  },
  {
   "cell_type": "markdown",
   "metadata": {},
   "source": [
    "# Tcol\n"
   ]
  },
  {
   "cell_type": "code",
   "execution_count": 20,
   "metadata": {},
   "outputs": [],
   "source": [
    "import matplotlib.pyplot as plt\n",
    "import pandas as pd\n",
    "from random import uniform\n",
    "import numpy as np\n",
    "from numpy import random, pi, array\n",
    "import swarms\n",
    "import pread as pds\n",
    "from random import randint, seed, uniform\n",
    "from swarms import MEARTH, PC, MSUN, LSUN, YEAR, KM, GCC, AU, MJUP\n",
    "Q = 0.5\n",
    "Dc = 100*KM /7\n",
    "rho = 1*GCC*13\n",
    "eta = 0.3/15 # eta\n",
    "g = 0.32 #https://arxiv.org/pdf/1709.00417.pdf\n",
    "Dt = 0.1*KM\n",
    "Nstr = 60\n",
    "Dmax = Dc\n",
    "fQ = 5*24\n",
    "Mtot = MEARTH*30\n",
    "Mstar = MSUN/10\n",
    "Mp = MJUP*3\n",
    "star = swarms.Star((Mstar/MSUN)**4*LSUN, Mstar, 5800, d=10*PC)\n",
    "a = 12*AU\n",
    "age=1e8*YEAR\n",
    "\n",
    "planet = swarms.Planet(star, M=Mp , R=None, a=a, Q=Q, Z='002', age=2e9*YEAR)\n",
    "swarm = swarms.CollSwarm(star, planet, Mtot, Dt=Dt, Dmax=Dmax, Q=Q, eta=eta, Nstr=Nstr, \n",
    "                        rho=rho, fQ=fQ, Dmin_min=0, age=age)"
   ]
  },
  {
   "cell_type": "markdown",
   "metadata": {},
   "source": [
    "Eq 7"
   ]
  },
  {
   "cell_type": "code",
   "execution_count": 29,
   "metadata": {},
   "outputs": [
    {
     "data": {
      "text/plain": [
       "20.476309705467308"
      ]
     },
     "execution_count": 29,
     "metadata": {},
     "output_type": "execute_result"
    }
   ],
   "source": [
    "swarm.computef_a()"
   ]
  },
  {
   "cell_type": "code",
   "execution_count": 30,
   "metadata": {},
   "outputs": [
    {
     "data": {
      "text/plain": [
       "20.51526801882019"
      ]
     },
     "execution_count": 30,
     "metadata": {},
     "output_type": "execute_result"
    }
   ],
   "source": [
    "(fQ/5)**0.15*(eta/0.3)**-1*(rho/GCC)**-0.39*(Dc/100/KM)**-0.43"
   ]
  },
  {
   "cell_type": "markdown",
   "metadata": {},
   "source": [
    "Eq 11"
   ]
  },
  {
   "cell_type": "code",
   "execution_count": 21,
   "metadata": {},
   "outputs": [
    {
     "data": {
      "text/plain": [
       "1.1210247756572134e-09"
      ]
     },
     "execution_count": 21,
     "metadata": {},
     "output_type": "execute_result"
    }
   ],
   "source": [
    "swarm.computeMtot()/MEARTH"
   ]
  },
  {
   "cell_type": "code",
   "execution_count": 22,
   "metadata": {},
   "outputs": [
    {
     "data": {
      "text/plain": [
       "1.1210247756991035e-09"
      ]
     },
     "execution_count": 22,
     "metadata": {},
     "output_type": "execute_result"
    }
   ],
   "source": [
    "swarm.computef_a()**(-4.13)*(Mp/MJUP)**0.24*(star.M/0.5/MSUN)**-1.38*(planet.a/90/AU)**4.13/(age/1e7/YEAR)"
   ]
  },
  {
   "cell_type": "markdown",
   "metadata": {},
   "source": [
    "Eq 10"
   ]
  },
  {
   "cell_type": "code",
   "execution_count": 23,
   "metadata": {},
   "outputs": [
    {
     "data": {
      "text/plain": [
       "3999.1248828765542"
      ]
     },
     "execution_count": 23,
     "metadata": {},
     "output_type": "execute_result"
    }
   ],
   "source": [
    "aopt = swarm.computeaopt()\n",
    "aopt/AU"
   ]
  },
  {
   "cell_type": "code",
   "execution_count": 24,
   "metadata": {},
   "outputs": [
    {
     "data": {
      "text/plain": [
       "3987.639814184582"
      ]
     },
     "execution_count": 24,
     "metadata": {},
     "output_type": "execute_result"
    }
   ],
   "source": [
    "90*swarm.computef_a()*(Mp/MJUP)**(-0.06)*(star.M/0.5/MSUN)**0.33*(swarm.M0/MEARTH)**0.24*(swarm.age/1e7/YEAR)**0.24"
   ]
  },
  {
   "cell_type": "markdown",
   "metadata": {},
   "source": [
    "Eq 12"
   ]
  },
  {
   "cell_type": "code",
   "execution_count": 25,
   "metadata": {},
   "outputs": [
    {
     "data": {
      "text/plain": [
       "3.9319627312482994e-10"
      ]
     },
     "execution_count": 25,
     "metadata": {},
     "output_type": "execute_result"
    }
   ],
   "source": [
    "3.3e-6*swarm.computef_C()*(planet.M/MJUP)**(0.47)*(star.M/0.5/MSUN)**(-3.71)*(a/90/AU)**2.13*(swarm.age/1.e7/YEAR)**(-1)"
   ]
  },
  {
   "cell_type": "code",
   "execution_count": 26,
   "metadata": {},
   "outputs": [
    {
     "data": {
      "text/plain": [
       "3.931962731248299e-10"
      ]
     },
     "execution_count": 26,
     "metadata": {},
     "output_type": "execute_result"
    }
   ],
   "source": [
    "swarm.computeCRscat()"
   ]
  },
  {
   "cell_type": "code",
   "execution_count": 28,
   "metadata": {},
   "outputs": [
    {
     "data": {
      "text/plain": [
       "4.008839526635318e-10"
      ]
     },
     "execution_count": 28,
     "metadata": {},
     "output_type": "execute_result"
    }
   ],
   "source": [
    "swarm.computeCmax()*(a/aopt)**2.13"
   ]
  },
  {
   "cell_type": "markdown",
   "metadata": {},
   "source": [
    "Eq 13"
   ]
  },
  {
   "cell_type": "code",
   "execution_count": 32,
   "metadata": {},
   "outputs": [
    {
     "data": {
      "text/plain": [
       "0.0001326020499626627"
      ]
     },
     "execution_count": 32,
     "metadata": {},
     "output_type": "execute_result"
    }
   ],
   "source": [
    "swarm.computef_C()"
   ]
  },
  {
   "cell_type": "code",
   "execution_count": 33,
   "metadata": {},
   "outputs": [
    {
     "data": {
      "text/plain": [
       "0.00012978346526108466"
      ]
     },
     "execution_count": 33,
     "metadata": {},
     "output_type": "execute_result"
    }
   ],
   "source": [
    "(g/0.32)*(Q/0.1)*(fQ/5)**-0.63*(eta/0.3)**3.78*(rho/GCC)**1.33*(Dc/100/KM)**0.89*(Dt/100)**0.6"
   ]
  },
  {
   "cell_type": "markdown",
   "metadata": {},
   "source": [
    "Eq 15"
   ]
  },
  {
   "cell_type": "code",
   "execution_count": 34,
   "metadata": {},
   "outputs": [
    {
     "data": {
      "text/plain": [
       "0.08143287427543347"
      ]
     },
     "execution_count": 34,
     "metadata": {},
     "output_type": "execute_result"
    }
   ],
   "source": [
    "swarm.computef_Cmax()"
   ]
  },
  {
   "cell_type": "code",
   "execution_count": 35,
   "metadata": {},
   "outputs": [
    {
     "data": {
      "text/plain": [
       "0.08182359548633115"
      ]
     },
     "execution_count": 35,
     "metadata": {},
     "output_type": "execute_result"
    }
   ],
   "source": [
    "(g/0.32)*(Q/0.1)*(fQ/5)**-0.31*(eta/0.3)**1.65*(rho/GCC)**0.5*(Dc/100/KM)**-0.03*(Dt/100)**0.6"
   ]
  },
  {
   "cell_type": "code",
   "execution_count": 28,
   "metadata": {},
   "outputs": [],
   "source": [
    "import matplotlib.pyplot as plt\n",
    "import pandas as pd\n",
    "from random import uniform\n",
    "import numpy as np\n",
    "from numpy import random, pi, array\n",
    "import swarms\n",
    "import pread as pds\n",
    "from random import randint, seed, uniform\n",
    "from swarms import MEARTH, PC, MSUN, LSUN, YEAR, KM, GCC, AU, MJUP\n",
    "Q = 0.1\n",
    "Dc = 100*KM\n",
    "rho = 1*GCC\n",
    "eta = 0.3 # eta\n",
    "g = 0.32 #https://arxiv.org/pdf/1709.00417.pdf\n",
    "Dt = 0.1*KM\n",
    "Nstr = 6\n",
    "Dmax = Dc\n",
    "fQ = 5\n",
    "Mtot = MEARTH\n",
    "Mstar = 0.5*MSUN\n",
    "Mp = MJUP\n",
    "star = swarms.Star((Mstar/MSUN)**4*LSUN, Mstar, 5800, d=10*PC)\n",
    "a = 8.89*AU\n",
    "\n",
    "planet = swarms.Planet(star, M=Mp , R=None, a=a, Q=Q, Z='002', age=2e9*YEAR)\n",
    "swarm = swarms.CollSwarm(star, planet, Mtot, Dt=Dt, Dmax=Dmax, Q=Q, eta=eta, Nstr=Nstr, \n",
    "                        rho=rho, fQ=fQ, Dmin_min=0, age=1e7*YEAR)"
   ]
  },
  {
   "cell_type": "code",
   "execution_count": 32,
   "metadata": {},
   "outputs": [
    {
     "data": {
      "text/plain": [
       "3.334940766914803e-06"
      ]
     },
     "execution_count": 32,
     "metadata": {},
     "output_type": "execute_result"
    }
   ],
   "source": [
    "swarm.computeCRscat()/(a/88.9/AU)**2.13"
   ]
  },
  {
   "cell_type": "code",
   "execution_count": 2,
   "metadata": {},
   "outputs": [
    {
     "data": {
      "text/plain": [
       "7.358616870615408e-05"
      ]
     },
     "execution_count": 2,
     "metadata": {},
     "output_type": "execute_result"
    }
   ],
   "source": [
    "swarm.computeMtot()/MEARTH"
   ]
  },
  {
   "cell_type": "code",
   "execution_count": 3,
   "metadata": {},
   "outputs": [
    {
     "data": {
      "text/plain": [
       "0.9895260998680155"
      ]
     },
     "execution_count": 3,
     "metadata": {},
     "output_type": "execute_result"
    }
   ],
   "source": [
    "swarm.computef_a()"
   ]
  },
  {
   "cell_type": "code",
   "execution_count": 5,
   "metadata": {},
   "outputs": [
    {
     "data": {
      "text/plain": [
       "7.413102413009179e-05"
      ]
     },
     "execution_count": 5,
     "metadata": {},
     "output_type": "execute_result"
    }
   ],
   "source": [
    "0.1**4.13"
   ]
  },
  {
   "cell_type": "code",
   "execution_count": 5,
   "metadata": {},
   "outputs": [
    {
     "data": {
      "text/plain": [
       "88.89200298365992"
      ]
     },
     "execution_count": 5,
     "metadata": {},
     "output_type": "execute_result"
    }
   ],
   "source": [
    "swarm.computeaopt()/AU"
   ]
  },
  {
   "cell_type": "markdown",
   "metadata": {},
   "source": [
    "# aopt\n",
    "\n",
    "This is what I implemented from my Eq 11 in our paper, so I can't check it independently like above. Instead, let's take the value output here, and then put it back into CollSwarm above, and check that Tcol is about 1e6*Year"
   ]
  },
  {
   "cell_type": "code",
   "execution_count": 93,
   "metadata": {},
   "outputs": [
    {
     "data": {
      "text/plain": [
       "37.56129717404381"
      ]
     },
     "execution_count": 93,
     "metadata": {},
     "output_type": "execute_result"
    }
   ],
   "source": [
    "swarm.computeaopt(1e7*YEAR)/AU"
   ]
  },
  {
   "cell_type": "markdown",
   "metadata": {},
   "source": [
    "# Tcol\n",
    "\n",
    "Matches to within about 20\\%. Thiis because Rcc in code was taken from Kennedy, while I implemented aopt from our Eq 11, so there'a a loss of significant digits"
   ]
  },
  {
   "cell_type": "code",
   "execution_count": 9,
   "metadata": {},
   "outputs": [],
   "source": [
    "Q = 0.1\n",
    "Dc = 100*KM \n",
    "rho = 1*GCC\n",
    "eta = 0.3 # eta\n",
    "g = 0.32 #https://arxiv.org/pdf/1709.00417.pdf\n",
    "Dt = 0.1*KM\n",
    "Nstr = 6\n",
    "Dmax = Dc\n",
    "fQ = 5\n",
    "Mtot = MEARTH\n",
    "Mstar = 0.5*MSUN\n",
    "Mp = MJUP/10.\n",
    "a = 20*AU\n",
    "\n",
    "star = swarms.Star((Mstar/MSUN)**4*LSUN, Mstar, 5800, d=10*PC)\n",
    "planet = swarms.Planet(star, M=Mp , R=None, a=a, Q=Q, Z='002')\n",
    "swarm = swarms.CollSwarm(star, planet, Mtot, Dt=Dt, Dmax=Dmax, Q=Q, eta=eta, Nstr=Nstr, \n",
    "                        rho=rho, fQ=fQ, Dmin_min=0, age=1e7*YEAR)"
   ]
  },
  {
   "cell_type": "code",
   "execution_count": 3,
   "metadata": {},
   "outputs": [
    {
     "data": {
      "text/plain": [
       "101.85971978839844"
      ]
     },
     "execution_count": 3,
     "metadata": {},
     "output_type": "execute_result"
    }
   ],
   "source": [
    "aopt = swarm.computeaopt()\n",
    "aopt/AU"
   ]
  },
  {
   "cell_type": "code",
   "execution_count": 4,
   "metadata": {},
   "outputs": [],
   "source": [
    "aref = 88.89*AU"
   ]
  },
  {
   "cell_type": "code",
   "execution_count": 26,
   "metadata": {},
   "outputs": [
    {
     "data": {
      "text/plain": [
       "4.097113374195576e-06"
      ]
     },
     "execution_count": 26,
     "metadata": {},
     "output_type": "execute_result"
    }
   ],
   "source": [
    "swarm.computeDmin()"
   ]
  },
  {
   "cell_type": "code",
   "execution_count": 6,
   "metadata": {},
   "outputs": [
    {
     "data": {
      "text/plain": [
       "4.634821304731555e-08"
      ]
     },
     "execution_count": 6,
     "metadata": {},
     "output_type": "execute_result"
    }
   ],
   "source": [
    "#swarm.updateSwarm(1e7*YEAR)\n",
    "swarm.computeCRscat()"
   ]
  },
  {
   "cell_type": "code",
   "execution_count": 7,
   "metadata": {},
   "outputs": [
    {
     "data": {
      "text/plain": [
       "4.6628467323062574e-08"
      ]
     },
     "execution_count": 7,
     "metadata": {},
     "output_type": "execute_result"
    }
   ],
   "source": [
    "3.3e-6*(a/aref)**2.13/10**0.47"
   ]
  },
  {
   "cell_type": "code",
   "execution_count": 8,
   "metadata": {},
   "outputs": [
    {
     "data": {
      "text/plain": [
       "2.259647726506997e-06"
      ]
     },
     "execution_count": 8,
     "metadata": {},
     "output_type": "execute_result"
    }
   ],
   "source": [
    "7.3e-11*(10/110)**2*5.5e6/1.9**0.7\n",
    "\n",
    "2.1e-6/10**2.13\n",
    "\n",
    "7.3e-11*(10/112)**2*1.1e6*(1.65/10)**-0.7"
   ]
  },
  {
   "cell_type": "code",
   "execution_count": 73,
   "metadata": {},
   "outputs": [
    {
     "data": {
      "text/plain": [
       "3.6507685770679427e-06"
      ]
     },
     "execution_count": 73,
     "metadata": {},
     "output_type": "execute_result"
    }
   ],
   "source": [
    "(fQ/5)**(-0.63)*(eta/0.3)**4.13*(rho/GCC)**1.61*(Dc/100/KM)**1.78"
   ]
  },
  {
   "cell_type": "code",
   "execution_count": 74,
   "metadata": {},
   "outputs": [
    {
     "data": {
      "text/plain": [
       "1.0000000003736749"
      ]
     },
     "execution_count": 74,
     "metadata": {},
     "output_type": "execute_result"
    }
   ],
   "source": [
    "swarm.computeTcol()/1e7/YEAR"
   ]
  },
  {
   "cell_type": "code",
   "execution_count": 75,
   "metadata": {},
   "outputs": [
    {
     "data": {
      "text/plain": [
       "260297.1892101237"
      ]
     },
     "execution_count": 75,
     "metadata": {},
     "output_type": "execute_result"
    }
   ],
   "source": [
    "(planet.M/MJUP)**0.24/(star.M/0.5/MSUN)**1.38/(swarm.computeMtot()/MEARTH)*(planet.a/90/AU)**4.13"
   ]
  },
  {
   "cell_type": "code",
   "execution_count": 82,
   "metadata": {},
   "outputs": [
    {
     "data": {
      "text/plain": [
       "12.534715261886243"
      ]
     },
     "execution_count": 82,
     "metadata": {},
     "output_type": "execute_result"
    }
   ],
   "source": []
  },
  {
   "cell_type": "code",
   "execution_count": 46,
   "metadata": {},
   "outputs": [
    {
     "data": {
      "text/plain": [
       "1000"
      ]
     },
     "execution_count": 46,
     "metadata": {},
     "output_type": "execute_result"
    }
   ],
   "source": [
    "rho"
   ]
  },
  {
   "cell_type": "code",
   "execution_count": null,
   "metadata": {},
   "outputs": [],
   "source": []
  }
 ],
 "metadata": {
  "kernelspec": {
   "display_name": "Python 3",
   "language": "python",
   "name": "python3"
  },
  "language_info": {
   "codemirror_mode": {
    "name": "ipython",
    "version": 3
   },
   "file_extension": ".py",
   "mimetype": "text/x-python",
   "name": "python",
   "nbconvert_exporter": "python",
   "pygments_lexer": "ipython3",
   "version": "3.7.1"
  }
 },
 "nbformat": 4,
 "nbformat_minor": 2
}
