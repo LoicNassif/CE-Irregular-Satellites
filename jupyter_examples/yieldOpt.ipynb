{
 "cells": [
  {
   "cell_type": "code",
   "execution_count": 1,
   "metadata": {},
   "outputs": [],
   "source": [
    "import matplotlib.pyplot as plt\n",
    "import pandas as pd\n",
    "from random import uniform\n",
    "import numpy as np\n",
    "from numpy import random, pi, array\n",
    "import swarms\n",
    "import pread as pds\n",
    "from random import randint, seed, uniform"
   ]
  },
  {
   "cell_type": "code",
   "execution_count": 2,
   "metadata": {},
   "outputs": [],
   "source": [
    "Mmoon = 7.35e22\n",
    "Mjup = 1.898e27\n",
    "Rjup = 7.1492e7\n",
    "AU = 1.496e11\n",
    "Rearth = 6.3781e6\n",
    "Mearth = 5.972e24\n",
    "pc = 3.086e16\n",
    "Msun = 1.989e30\n",
    "Lsun = 3.828e26\n",
    "Year = 3.154e7 # seconds\n",
    "KM = 1e3"
   ]
  },
  {
   "cell_type": "code",
   "execution_count": 3,
   "metadata": {},
   "outputs": [],
   "source": [
    "def loguniform(minval, maxval):\n",
    "    return 10**uniform(np.log10(minval), np.log10(maxval))\n",
    "\n",
    "def star_samplerM(mean=2., std=1.):\n",
    "    '''\n",
    "    Mstar = None\n",
    "    Lstar = None\n",
    "    Tstar = None\n",
    "    dpl = None\n",
    "    \n",
    "    sample = int(random.normal(loc=mean, scale=std))\n",
    "    sampled_type = 'M' + str(sample)\n",
    "    for i in range(len(GPI['S_Type'])):\n",
    "        if sampled_type in GPI['S_Type'][i]:\n",
    "            Tstar = GPI['Teff'][i]\n",
    "            Lstar = GPI['Lum'][i]*Lsun\n",
    "            Mstar = GPI['Mass'][i]*Msun\n",
    "            dpl = GPI['Distance_distance'][i]*pc\n",
    "            break\n",
    "    '''\n",
    "    # Table 1 (KALTENEGGER & TRAUB) https://arxiv.org/ftp/arxiv/papers/0903/0903.3371.pdf\n",
    "    ML = [7.2/100., 3.5/100., 2.3/100., 1.5/100., 0.55/100., 0.22/100., 0.09/100., 0.05/100., 0.03/100., 0.015/100.]\n",
    "    MM = [0.60, 0.49, 0.44, 0.36, 0.20, 0.14, 0.10, 0.09, 0.08, 0.075]\n",
    "    MT = [3800, 3600, 3400, 3250, 3100, 2800, 2600, 2500, 2400, 2300]\n",
    "    sample = -1\n",
    "    while sample < 0 or sample > 9:\n",
    "        sample = int(random.normal(loc=mean, scale=std))\n",
    "    \n",
    "    return swarms.Star(M=MM[sample]*Msun, L=ML[sample]*Lsun, T=MT[sample], d=0) # M star    \n",
    "\n",
    "def distance_sampler(mean, std):\n",
    "    s = 0\n",
    "    while s <= 0:\n",
    "        s = random.normal(loc=mean, scale=std)\n",
    "    return s\n",
    "\n",
    "def draw_planet(star, age, IWA=0.2, OWA=1.2):\n",
    "    Mmin = 21 # Mearth (Nep)\n",
    "    Mmax = 5*318 # Mearth (Jup)\n",
    "    # Draw mass from Nep to 13 Mjup according to m^-0.86 Clanton 16\n",
    "    totoccurrence = 1.\n",
    "    Npts = 1000\n",
    "    alpha = -0.86\n",
    "    Q = 0.5 # planet albedo\n",
    "    ms = np.linspace(Mmin, Mmax, Npts)\n",
    "    pdf = ms**(alpha-1) # dN/dlogM = dN/dM * m, so dN/dM \\propto m^(alpha-1)\n",
    "    cumpdf = np.cumsum(pdf)/pdf.sum() * totoccurrence\n",
    "    randv = np.random.uniform()\n",
    "    idx = np.searchsorted(cumpdf, randv)\n",
    "    if idx == len(cumpdf):\n",
    "        return None # didn't draw a planet\n",
    "    else:\n",
    "        # draw semimajor axis\n",
    "        amin = star.d/pc*IWA# AU\n",
    "        amax = star.d/pc*OWA # AU\n",
    "        a = loguniform(amin, amax)\n",
    "        return swarms.Planet(star, M=ms[idx]*Mearth , R=None, a=a*AU, Q=Q, Z='002', age=age)\n",
    "\n",
    "def inverse_cdf(y):\n",
    "    A = -0.785\n",
    "    B = 0.603\n",
    "    return 10**((y - A)/B)  \n",
    "\n",
    "def age_sampler():\n",
    "    y = uniform(0, 1)\n",
    "    return inverse_cdf(y)*1e6 * Year\n",
    "\n",
    "def computeQd(D, rho, fQ):\n",
    "    \"\"\"Compute the planetesimal strength of an object.\"\"\"\n",
    "    return 0.1*rho*(D/KM)**1.26/fQ"
   ]
  },
  {
   "cell_type": "code",
   "execution_count": 4,
   "metadata": {},
   "outputs": [],
   "source": [
    "def aoptChar(Mstar, Mtot, tage):\n",
    "    star = swarms.Star(Lsun, Mstar, 6000, d=0)\n",
    "    planet = draw_planet(star, tage)\n",
    "    if planet is None:\n",
    "        return aoptChar(Mstar, Mtot, tage) # do it again\n",
    "    Dc = loguniform(1e4, 1e6) # m\n",
    "    rho = 1000 # kg/m^3\n",
    "    eta = 0.5 # eta\n",
    "    Dt = loguniform(10, 1000) # m\n",
    "    Nstr = 6\n",
    "    Dmax = Dc\n",
    "    fQ = loguniform(1,10)\n",
    "    f_vrel = 4./pi\n",
    "    \n",
    "    part1 = (Mstar/Msun)**0.33 * f_vrel**0.55\n",
    "    part2 = (planet.M/Mearth)**0.06 * computeQd(Dc, rho, fQ)**0.15 * eta\n",
    "    part3 = tage / (30e6*Year) * Mtot/Mearth / rho / (Dc/KM)\n",
    "    return 50. * part1 / part2 * part3**0.24 * AU"
   ]
  },
  {
   "cell_type": "code",
   "execution_count": 5,
   "metadata": {},
   "outputs": [],
   "source": [
    "def aoptClean(star, Mtot, age, planet, Dt, Nstr, fQ, Dc, rho, eta, charFactor=1., f_vrel=4./pi):\n",
    "    part1 = (star.M/Msun)**0.33 * f_vrel**0.55\n",
    "    part2 = (planet.M/Mearth)**0.06 * computeQd(Dc, rho, fQ)**0.15 * eta\n",
    "    part3 = age / (30e6*Year) * Mtot/Mearth / rho / (Dc/KM)\n",
    "    return charFactor * 50. * part1 / part2 * part3**0.24 * AU"
   ]
  },
  {
   "cell_type": "code",
   "execution_count": 6,
   "metadata": {},
   "outputs": [],
   "source": [
    "def aopt(Mtot):\n",
    "    star = star_samplerM()\n",
    "    star.d = 10*pc # dummy value\n",
    "    age = age_sampler()\n",
    "    planet = draw_planet(star, age)\n",
    "    if planet is None:\n",
    "        return aopt(Mtot) # do it again\n",
    "    Dc = loguniform(1e4, 1e6) # m\n",
    "    rho = 1000 # kg/m^3\n",
    "    eta = 0.5 # eta\n",
    "    Q = loguniform(0.05, 0.25) # Q_bd = [0, 0.8]\n",
    "    g = loguniform(0.2, 0.8) # 0.32 https://arxiv.org/pdf/1709.00417.pdf\n",
    "    Dt = loguniform(10, 1000) # m\n",
    "    Nstr = 6\n",
    "    Dmax = Dc\n",
    "    fQ = loguniform(1,10)\n",
    "    swarm = swarms.CollSwarm(star, planet, Mtot, Dt, Dmax, Q=Q, eta=eta, Nstr=Nstr, \n",
    "                            rho=rho, fQ=fQ, correction=True, Dmin_min=1.65)\n",
    "    return swarm.aopt(t=age)"
   ]
  },
  {
   "cell_type": "markdown",
   "metadata": {},
   "source": [
    "## Distribution of aopt given characteristic values"
   ]
  },
  {
   "cell_type": "code",
   "execution_count": 7,
   "metadata": {},
   "outputs": [
    {
     "name": "stderr",
     "output_type": "stream",
     "text": [
      "c:\\users\\loloynage\\appdata\\local\\programs\\python\\python36-32\\lib\\site-packages\\ipykernel_launcher.py:2: RuntimeWarning: divide by zero encountered in log10\n",
      "  \n",
      "c:\\users\\loloynage\\appdata\\local\\programs\\python\\python36-32\\lib\\random.py:373: RuntimeWarning: invalid value encountered in double_scalars\n",
      "  return a + (b-a) * self.random()\n"
     ]
    }
   ],
   "source": [
    "aopt = []\n",
    "for i in range(500):\n",
    "    aopt.append(aoptChar(Msun, Mearth, 30e6*Year)/AU)"
   ]
  },
  {
   "cell_type": "code",
   "execution_count": 8,
   "metadata": {
    "scrolled": true
   },
   "outputs": [
    {
     "data": {
      "text/plain": [
       "(array([ 95., 105.,  73.,  71.,  44.,  33.,  30.,  24.,  16.,   9.]),\n",
       " array([0.40543828, 0.79035957, 1.17528087, 1.56020216, 1.94512345,\n",
       "        2.33004474, 2.71496603, 3.09988732, 3.48480861, 3.86972991,\n",
       "        4.2546512 ]),\n",
       " <a list of 10 Patch objects>)"
      ]
     },
     "execution_count": 8,
     "metadata": {},
     "output_type": "execute_result"
    },
    {
     "data": {
      "image/png": "[encoded data removed]",
      "text/plain": [
       "<Figure size 432x288 with 1 Axes>"
      ]
     },
     "metadata": {
      "needs_background": "light"
     },
     "output_type": "display_data"
    }
   ],
   "source": [
    "fig, ax = plt.subplots()\n",
    "ax.set_title(\"f(params) [AU]; M0=1MEarth; Star=Sun\")\n",
    "ax.hist(aopt)"
   ]
  },
  {
   "cell_type": "markdown",
   "metadata": {},
   "source": [
    "## Sampling Stars"
   ]
  },
  {
   "cell_type": "code",
   "execution_count": 9,
   "metadata": {},
   "outputs": [],
   "source": [
    "def sample(M0, lamb):\n",
    "    starChar = swarms.Star(Lsun, Msun, 6000, d=0)\n",
    "    ageChar = 30e6*Year\n",
    "    star = swarms.Star(0.072*Lsun, 0.60*Msun, 3800, d=0) # M0\n",
    "    # star = swarms.Star(0.16*Lsun, 0.69*Msun, 4410, d=0) # K5\n",
    "    #star.d = distance_sampler(mean=dopt-(65*pc), std=(dopt-(65*pc))/6.)\n",
    "    age = age_sampler()\n",
    "    \n",
    "    planet = draw_planet(star, age=age)\n",
    "    if planet is None:\n",
    "        return sample(M0, lamb) # do it again\n",
    "    \n",
    "    Dc = loguniform(1e4, 1e6) # m\n",
    "    rho = 1000 # kg/m^3\n",
    "    eta = 0.5 # eta\n",
    "    Q = loguniform(0.05, 0.25) # Q_bd = [0, 0.8]\n",
    "    g = loguniform(0.2, 0.8) # 0.32 https://arxiv.org/pdf/1709.00417.pdf\n",
    "    Dt = loguniform(10, 1000) # m\n",
    "    Nstr = 6\n",
    "    Dmax = Dc\n",
    "    fQ = loguniform(1,10)\n",
    "    \n",
    "    charAopt = aoptClean(starChar, Mearth, ageChar, planet, Dt, Nstr, fQ, Dc, rho, eta)\n",
    "    a_opt = aoptClean(star, M0, age, planet, Dt, Nstr, fQ, Dc, rho, eta, charFactor=charAopt/AU)\n",
    "    #print(\"charAopt = \"+str(charAopt/AU)+\"\\t aopt = \"+str(a_opt/AU))\n",
    "    star.d = a_opt/(AU*0.7)*pc\n",
    "    \n",
    "    swarm = swarms.CollSwarm(star, planet, M0, Dt, Dmax, Q=Q, eta=eta, Nstr=Nstr, \n",
    "                            rho=rho, fQ=fQ, correction=True, Dmin_min=lamb, age=age)\n",
    "    \n",
    "    CRscatSwarm = swarm.CRscat(g)\n",
    "    CRscatPlanet = planet.CRscat(g)\n",
    "    CRthermalPlanet = planet.CRthermal(lamb)\n",
    "    if np.isnan(CRthermalPlanet):\n",
    "        CRthermalPlanet = 0\n",
    "    return CRscatSwarm, CRscatPlanet+CRthermalPlanet, planet.a/AU, star.d/pc, planet.M, star.Imag(), a_opt/(AU*0.7)"
   ]
  },
  {
   "cell_type": "code",
   "execution_count": 10,
   "metadata": {},
   "outputs": [
    {
     "name": "stderr",
     "output_type": "stream",
     "text": [
      "c:\\users\\loloynage\\appdata\\local\\programs\\python\\python36-32\\lib\\site-packages\\ipykernel_launcher.py:2: RuntimeWarning: divide by zero encountered in log10\n",
      "  \n"
     ]
    },
    {
     "ename": "KeyboardInterrupt",
     "evalue": "",
     "output_type": "error",
     "traceback": [
      "\u001b[1;31m---------------------------------------------------------------------------\u001b[0m",
      "\u001b[1;31mKeyboardInterrupt\u001b[0m                         Traceback (most recent call last)",
      "\u001b[1;32m<timed exec>\u001b[0m in \u001b[0;36m<module>\u001b[1;34m\u001b[0m\n",
      "\u001b[1;32m<ipython-input-9-71c78c00a8de>\u001b[0m in \u001b[0;36msample\u001b[1;34m(M0, lamb)\u001b[0m\n\u001b[0;32m     31\u001b[0m     \u001b[0mCRscatSwarm\u001b[0m \u001b[1;33m=\u001b[0m \u001b[0mswarm\u001b[0m\u001b[1;33m.\u001b[0m\u001b[0mCRscat\u001b[0m\u001b[1;33m(\u001b[0m\u001b[0mg\u001b[0m\u001b[1;33m)\u001b[0m\u001b[1;33m\u001b[0m\u001b[1;33m\u001b[0m\u001b[0m\n\u001b[0;32m     32\u001b[0m     \u001b[0mCRscatPlanet\u001b[0m \u001b[1;33m=\u001b[0m \u001b[0mplanet\u001b[0m\u001b[1;33m.\u001b[0m\u001b[0mCRscat\u001b[0m\u001b[1;33m(\u001b[0m\u001b[0mg\u001b[0m\u001b[1;33m)\u001b[0m\u001b[1;33m\u001b[0m\u001b[1;33m\u001b[0m\u001b[0m\n\u001b[1;32m---> 33\u001b[1;33m     \u001b[0mCRthermalPlanet\u001b[0m \u001b[1;33m=\u001b[0m \u001b[0mplanet\u001b[0m\u001b[1;33m.\u001b[0m\u001b[0mCRthermal\u001b[0m\u001b[1;33m(\u001b[0m\u001b[0mlamb\u001b[0m\u001b[1;33m)\u001b[0m\u001b[1;33m\u001b[0m\u001b[1;33m\u001b[0m\u001b[0m\n\u001b[0m\u001b[0;32m     34\u001b[0m     \u001b[1;32mif\u001b[0m \u001b[0mnp\u001b[0m\u001b[1;33m.\u001b[0m\u001b[0misnan\u001b[0m\u001b[1;33m(\u001b[0m\u001b[0mCRthermalPlanet\u001b[0m\u001b[1;33m)\u001b[0m\u001b[1;33m:\u001b[0m\u001b[1;33m\u001b[0m\u001b[1;33m\u001b[0m\u001b[0m\n\u001b[0;32m     35\u001b[0m         \u001b[0mCRthermalPlanet\u001b[0m \u001b[1;33m=\u001b[0m \u001b[1;36m0\u001b[0m\u001b[1;33m\u001b[0m\u001b[1;33m\u001b[0m\u001b[0m\n",
      "\u001b[1;32m~\\Documents\\CE-Irregular-Satellites\\jupyter_examples\\swarms.py\u001b[0m in \u001b[0;36mCRthermal\u001b[1;34m(self, lamb)\u001b[0m\n\u001b[0;32m    349\u001b[0m \u001b[1;33m\u001b[0m\u001b[0m\n\u001b[0;32m    350\u001b[0m     \u001b[1;32mdef\u001b[0m \u001b[0mCRthermal\u001b[0m\u001b[1;33m(\u001b[0m\u001b[0mself\u001b[0m\u001b[1;33m,\u001b[0m \u001b[0mlamb\u001b[0m\u001b[1;33m)\u001b[0m\u001b[1;33m:\u001b[0m\u001b[1;33m\u001b[0m\u001b[1;33m\u001b[0m\u001b[0m\n\u001b[1;32m--> 351\u001b[1;33m         \u001b[1;32mreturn\u001b[0m \u001b[0mcomputeCRthermal\u001b[0m\u001b[1;33m(\u001b[0m\u001b[0mlamb\u001b[0m\u001b[1;33m,\u001b[0m \u001b[0mself\u001b[0m\u001b[1;33m.\u001b[0m\u001b[0mT\u001b[0m\u001b[1;33m,\u001b[0m \u001b[0mself\u001b[0m\u001b[1;33m.\u001b[0m\u001b[0mstar\u001b[0m\u001b[1;33m.\u001b[0m\u001b[0mT\u001b[0m\u001b[1;33m,\u001b[0m \u001b[0mself\u001b[0m\u001b[1;33m.\u001b[0m\u001b[0mA\u001b[0m\u001b[1;33m,\u001b[0m \u001b[0mself\u001b[0m\u001b[1;33m.\u001b[0m\u001b[0mstar\u001b[0m\u001b[1;33m.\u001b[0m\u001b[0mA\u001b[0m\u001b[1;33m)\u001b[0m\u001b[1;33m\u001b[0m\u001b[1;33m\u001b[0m\u001b[0m\n\u001b[0m\u001b[0;32m    352\u001b[0m \u001b[1;33m\u001b[0m\u001b[0m\n\u001b[0;32m    353\u001b[0m \u001b[1;32mclass\u001b[0m \u001b[0mCollSwarm\u001b[0m\u001b[1;33m:\u001b[0m\u001b[1;33m\u001b[0m\u001b[1;33m\u001b[0m\u001b[0m\n",
      "\u001b[1;32m~\\Documents\\CE-Irregular-Satellites\\jupyter_examples\\swarms.py\u001b[0m in \u001b[0;36mT\u001b[1;34m(self)\u001b[0m\n\u001b[0;32m    319\u001b[0m     \u001b[1;33m@\u001b[0m\u001b[0mproperty\u001b[0m\u001b[1;33m\u001b[0m\u001b[1;33m\u001b[0m\u001b[0m\n\u001b[0;32m    320\u001b[0m     \u001b[1;32mdef\u001b[0m \u001b[0mT\u001b[0m\u001b[1;33m(\u001b[0m\u001b[0mself\u001b[0m\u001b[1;33m)\u001b[0m\u001b[1;33m:\u001b[0m\u001b[1;33m\u001b[0m\u001b[1;33m\u001b[0m\u001b[0m\n\u001b[1;32m--> 321\u001b[1;33m         \u001b[1;32mreturn\u001b[0m \u001b[0mlum_to_temp\u001b[0m\u001b[1;33m(\u001b[0m\u001b[0mself\u001b[0m\u001b[1;33m.\u001b[0m\u001b[0mLtot\u001b[0m\u001b[1;33m,\u001b[0m \u001b[0mself\u001b[0m\u001b[1;33m.\u001b[0m\u001b[0mA\u001b[0m\u001b[1;33m)\u001b[0m\u001b[1;33m\u001b[0m\u001b[1;33m\u001b[0m\u001b[0m\n\u001b[0m\u001b[0;32m    322\u001b[0m \u001b[1;33m\u001b[0m\u001b[0m\n\u001b[0;32m    323\u001b[0m     \u001b[1;33m@\u001b[0m\u001b[0mproperty\u001b[0m\u001b[1;33m\u001b[0m\u001b[1;33m\u001b[0m\u001b[0m\n",
      "\u001b[1;32m~\\Documents\\CE-Irregular-Satellites\\jupyter_examples\\swarms.py\u001b[0m in \u001b[0;36mLtot\u001b[1;34m(self)\u001b[0m\n\u001b[0;32m    315\u001b[0m     \u001b[1;33m@\u001b[0m\u001b[0mproperty\u001b[0m\u001b[1;33m\u001b[0m\u001b[1;33m\u001b[0m\u001b[0m\n\u001b[0;32m    316\u001b[0m     \u001b[1;32mdef\u001b[0m \u001b[0mLtot\u001b[0m\u001b[1;33m(\u001b[0m\u001b[0mself\u001b[0m\u001b[1;33m)\u001b[0m\u001b[1;33m:\u001b[0m\u001b[1;33m\u001b[0m\u001b[1;33m\u001b[0m\u001b[0m\n\u001b[1;32m--> 317\u001b[1;33m         \u001b[1;32mreturn\u001b[0m \u001b[0mself\u001b[0m\u001b[1;33m.\u001b[0m\u001b[0mLintrinsic\u001b[0m \u001b[1;33m+\u001b[0m \u001b[0mself\u001b[0m\u001b[1;33m.\u001b[0m\u001b[0mLincident\u001b[0m\u001b[1;33m\u001b[0m\u001b[1;33m\u001b[0m\u001b[0m\n\u001b[0m\u001b[0;32m    318\u001b[0m \u001b[1;33m\u001b[0m\u001b[0m\n\u001b[0;32m    319\u001b[0m     \u001b[1;33m@\u001b[0m\u001b[0mproperty\u001b[0m\u001b[1;33m\u001b[0m\u001b[1;33m\u001b[0m\u001b[0m\n",
      "\u001b[1;32m~\\Documents\\CE-Irregular-Satellites\\jupyter_examples\\swarms.py\u001b[0m in \u001b[0;36mLintrinsic\u001b[1;34m(self)\u001b[0m\n\u001b[0;32m    306\u001b[0m         \u001b[1;32mif\u001b[0m \u001b[0mself\u001b[0m\u001b[1;33m.\u001b[0m\u001b[0mM\u001b[0m \u001b[1;33m<\u001b[0m \u001b[1;36m20\u001b[0m\u001b[1;33m*\u001b[0m\u001b[0mMEARTH\u001b[0m\u001b[1;33m:\u001b[0m \u001b[1;31m# minimum value in Baraffe. Bellow this Lintrinsic is negligible\u001b[0m\u001b[1;33m\u001b[0m\u001b[1;33m\u001b[0m\u001b[0m\n\u001b[0;32m    307\u001b[0m             \u001b[1;32mreturn\u001b[0m \u001b[1;36m0.\u001b[0m\u001b[1;33m\u001b[0m\u001b[1;33m\u001b[0m\u001b[0m\n\u001b[1;32m--> 308\u001b[1;33m         \u001b[0mmodel\u001b[0m \u001b[1;33m=\u001b[0m \u001b[0mBaraffeModelFixedTime\u001b[0m\u001b[1;33m(\u001b[0m\u001b[0mself\u001b[0m\u001b[1;33m.\u001b[0m\u001b[0mZ\u001b[0m\u001b[1;33m,\u001b[0m \u001b[0mself\u001b[0m\u001b[1;33m.\u001b[0m\u001b[0mage\u001b[0m\u001b[1;33m)\u001b[0m\u001b[1;33m\u001b[0m\u001b[1;33m\u001b[0m\u001b[0m\n\u001b[0m\u001b[0;32m    309\u001b[0m         \u001b[1;32mreturn\u001b[0m \u001b[0mmodel\u001b[0m\u001b[1;33m.\u001b[0m\u001b[0mL\u001b[0m\u001b[1;33m(\u001b[0m\u001b[0mself\u001b[0m\u001b[1;33m.\u001b[0m\u001b[0mM\u001b[0m\u001b[1;33m)\u001b[0m\u001b[1;33m\u001b[0m\u001b[1;33m\u001b[0m\u001b[0m\n\u001b[0;32m    310\u001b[0m \u001b[1;33m\u001b[0m\u001b[0m\n",
      "\u001b[1;32m~\\Documents\\CE-Irregular-Satellites\\jupyter_examples\\pread.py\u001b[0m in \u001b[0;36m__init__\u001b[1;34m(self, Z, time)\u001b[0m\n\u001b[0;32m     67\u001b[0m         \u001b[0mLs\u001b[0m\u001b[1;33m,\u001b[0m \u001b[0mRs\u001b[0m \u001b[1;33m=\u001b[0m \u001b[0mnp\u001b[0m\u001b[1;33m.\u001b[0m\u001b[0mzeros\u001b[0m\u001b[1;33m(\u001b[0m\u001b[0mlen\u001b[0m\u001b[1;33m(\u001b[0m\u001b[0mself\u001b[0m\u001b[1;33m.\u001b[0m\u001b[0mmasses\u001b[0m\u001b[1;33m)\u001b[0m\u001b[1;33m)\u001b[0m\u001b[1;33m,\u001b[0m \u001b[0mnp\u001b[0m\u001b[1;33m.\u001b[0m\u001b[0mzeros\u001b[0m\u001b[1;33m(\u001b[0m\u001b[0mlen\u001b[0m\u001b[1;33m(\u001b[0m\u001b[0mself\u001b[0m\u001b[1;33m.\u001b[0m\u001b[0mmasses\u001b[0m\u001b[1;33m)\u001b[0m\u001b[1;33m)\u001b[0m\u001b[1;33m\u001b[0m\u001b[1;33m\u001b[0m\u001b[0m\n\u001b[0;32m     68\u001b[0m         \u001b[1;32mfor\u001b[0m \u001b[0mi\u001b[0m\u001b[1;33m,\u001b[0m \u001b[0mmass\u001b[0m \u001b[1;32min\u001b[0m \u001b[0menumerate\u001b[0m\u001b[1;33m(\u001b[0m\u001b[0mself\u001b[0m\u001b[1;33m.\u001b[0m\u001b[0mmasses\u001b[0m\u001b[1;33m)\u001b[0m\u001b[1;33m:\u001b[0m\u001b[1;33m\u001b[0m\u001b[1;33m\u001b[0m\u001b[0m\n\u001b[1;32m---> 69\u001b[1;33m             \u001b[0mdata\u001b[0m \u001b[1;33m=\u001b[0m \u001b[0mPread\u001b[0m\u001b[1;33m(\u001b[0m\u001b[1;34m'data'\u001b[0m\u001b[1;33m,\u001b[0m \u001b[1;34m'Z'\u001b[0m\u001b[1;33m+\u001b[0m\u001b[0mZ\u001b[0m\u001b[1;33m,\u001b[0m \u001b[1;34m'pltlum_M'\u001b[0m\u001b[1;33m+\u001b[0m\u001b[0mstr\u001b[0m\u001b[1;33m(\u001b[0m\u001b[0mmass\u001b[0m\u001b[1;33m)\u001b[0m\u001b[1;33m+\u001b[0m\u001b[1;34m'Z'\u001b[0m\u001b[1;33m+\u001b[0m\u001b[0mZ\u001b[0m\u001b[1;33m+\u001b[0m\u001b[1;34m'.csv'\u001b[0m\u001b[1;33m)\u001b[0m\u001b[1;33m\u001b[0m\u001b[1;33m\u001b[0m\u001b[0m\n\u001b[0m\u001b[0;32m     70\u001b[0m             \u001b[1;32mif\u001b[0m \u001b[0mtime\u001b[0m \u001b[1;33m<\u001b[0m \u001b[0mdata\u001b[0m\u001b[1;33m.\u001b[0m\u001b[0mages\u001b[0m\u001b[1;33m[\u001b[0m\u001b[1;36m0\u001b[0m\u001b[1;33m]\u001b[0m\u001b[1;33m:\u001b[0m\u001b[1;33m\u001b[0m\u001b[1;33m\u001b[0m\u001b[0m\n\u001b[0;32m     71\u001b[0m                 \u001b[1;32mraise\u001b[0m \u001b[0mWarning\u001b[0m\u001b[1;33m(\u001b[0m\u001b[1;34m\"Asked for planet model at a time earlier than available in Baraffe 2008 grid. Outputting values at time = {0}\"\u001b[0m\u001b[1;33m.\u001b[0m\u001b[0mformat\u001b[0m\u001b[1;33m(\u001b[0m\u001b[0mdata\u001b[0m\u001b[1;33m.\u001b[0m\u001b[0mages\u001b[0m\u001b[1;33m[\u001b[0m\u001b[1;36m0\u001b[0m\u001b[1;33m]\u001b[0m\u001b[1;33m)\u001b[0m\u001b[1;33m)\u001b[0m\u001b[1;33m\u001b[0m\u001b[1;33m\u001b[0m\u001b[0m\n",
      "\u001b[1;32m~\\Documents\\CE-Irregular-Satellites\\jupyter_examples\\pread.py\u001b[0m in \u001b[0;36m__init__\u001b[1;34m(self, dir, subdir, filename)\u001b[0m\n\u001b[0;32m     33\u001b[0m     \u001b[1;32mdef\u001b[0m \u001b[0m__init__\u001b[0m\u001b[1;33m(\u001b[0m\u001b[0mself\u001b[0m\u001b[1;33m,\u001b[0m \u001b[0mdir\u001b[0m\u001b[1;33m,\u001b[0m \u001b[0msubdir\u001b[0m\u001b[1;33m,\u001b[0m \u001b[0mfilename\u001b[0m\u001b[1;33m)\u001b[0m\u001b[1;33m:\u001b[0m\u001b[1;33m\u001b[0m\u001b[1;33m\u001b[0m\u001b[0m\n\u001b[0;32m     34\u001b[0m         df = pd.read_csv(os.path.join(dir, subdir, filename), sep=\"\\s+\",\n\u001b[1;32m---> 35\u001b[1;33m                         engine='python', names=['M', 'age', 'RvRJ', 'logL'])\n\u001b[0m\u001b[0;32m     36\u001b[0m         \u001b[0mage_col\u001b[0m \u001b[1;33m=\u001b[0m \u001b[0mdf\u001b[0m\u001b[1;33m.\u001b[0m\u001b[0mage\u001b[0m\u001b[1;33m\u001b[0m\u001b[1;33m\u001b[0m\u001b[0m\n\u001b[0;32m     37\u001b[0m         \u001b[0mrad_col\u001b[0m \u001b[1;33m=\u001b[0m \u001b[0mdf\u001b[0m\u001b[1;33m.\u001b[0m\u001b[0mRvRJ\u001b[0m\u001b[1;33m\u001b[0m\u001b[1;33m\u001b[0m\u001b[0m\n",
      "\u001b[1;32mc:\\users\\loloynage\\appdata\\local\\programs\\python\\python36-32\\lib\\site-packages\\pandas\\io\\parsers.py\u001b[0m in \u001b[0;36mparser_f\u001b[1;34m(filepath_or_buffer, sep, delimiter, header, names, index_col, usecols, squeeze, prefix, mangle_dupe_cols, dtype, engine, converters, true_values, false_values, skipinitialspace, skiprows, skipfooter, nrows, na_values, keep_default_na, na_filter, verbose, skip_blank_lines, parse_dates, infer_datetime_format, keep_date_col, date_parser, dayfirst, iterator, chunksize, compression, thousands, decimal, lineterminator, quotechar, quoting, doublequote, escapechar, comment, encoding, dialect, tupleize_cols, error_bad_lines, warn_bad_lines, delim_whitespace, low_memory, memory_map, float_precision)\u001b[0m\n\u001b[0;32m    700\u001b[0m                     skip_blank_lines=skip_blank_lines)\n\u001b[0;32m    701\u001b[0m \u001b[1;33m\u001b[0m\u001b[0m\n\u001b[1;32m--> 702\u001b[1;33m         \u001b[1;32mreturn\u001b[0m \u001b[0m_read\u001b[0m\u001b[1;33m(\u001b[0m\u001b[0mfilepath_or_buffer\u001b[0m\u001b[1;33m,\u001b[0m \u001b[0mkwds\u001b[0m\u001b[1;33m)\u001b[0m\u001b[1;33m\u001b[0m\u001b[1;33m\u001b[0m\u001b[0m\n\u001b[0m\u001b[0;32m    703\u001b[0m \u001b[1;33m\u001b[0m\u001b[0m\n\u001b[0;32m    704\u001b[0m     \u001b[0mparser_f\u001b[0m\u001b[1;33m.\u001b[0m\u001b[0m__name__\u001b[0m \u001b[1;33m=\u001b[0m \u001b[0mname\u001b[0m\u001b[1;33m\u001b[0m\u001b[1;33m\u001b[0m\u001b[0m\n",
      "\u001b[1;32mc:\\users\\loloynage\\appdata\\local\\programs\\python\\python36-32\\lib\\site-packages\\pandas\\io\\parsers.py\u001b[0m in \u001b[0;36m_read\u001b[1;34m(filepath_or_buffer, kwds)\u001b[0m\n\u001b[0;32m    409\u001b[0m \u001b[1;33m\u001b[0m\u001b[0m\n\u001b[0;32m    410\u001b[0m     \u001b[0mcompression\u001b[0m \u001b[1;33m=\u001b[0m \u001b[0mkwds\u001b[0m\u001b[1;33m.\u001b[0m\u001b[0mget\u001b[0m\u001b[1;33m(\u001b[0m\u001b[1;34m'compression'\u001b[0m\u001b[1;33m,\u001b[0m \u001b[1;34m'infer'\u001b[0m\u001b[1;33m)\u001b[0m\u001b[1;33m\u001b[0m\u001b[1;33m\u001b[0m\u001b[0m\n\u001b[1;32m--> 411\u001b[1;33m     \u001b[0mcompression\u001b[0m \u001b[1;33m=\u001b[0m \u001b[0m_infer_compression\u001b[0m\u001b[1;33m(\u001b[0m\u001b[0mfilepath_or_buffer\u001b[0m\u001b[1;33m,\u001b[0m \u001b[0mcompression\u001b[0m\u001b[1;33m)\u001b[0m\u001b[1;33m\u001b[0m\u001b[1;33m\u001b[0m\u001b[0m\n\u001b[0m\u001b[0;32m    412\u001b[0m     filepath_or_buffer, _, compression, should_close = get_filepath_or_buffer(\n\u001b[0;32m    413\u001b[0m         filepath_or_buffer, encoding, compression)\n",
      "\u001b[1;32mc:\\users\\loloynage\\appdata\\local\\programs\\python\\python36-32\\lib\\site-packages\\pandas\\io\\common.py\u001b[0m in \u001b[0;36m_infer_compression\u001b[1;34m(filepath_or_buffer, compression)\u001b[0m\n\u001b[0;32m    291\u001b[0m     \u001b[1;32mif\u001b[0m \u001b[0mcompression\u001b[0m \u001b[1;33m==\u001b[0m \u001b[1;34m'infer'\u001b[0m\u001b[1;33m:\u001b[0m\u001b[1;33m\u001b[0m\u001b[1;33m\u001b[0m\u001b[0m\n\u001b[0;32m    292\u001b[0m         \u001b[1;31m# Convert all path types (e.g. pathlib.Path) to strings\u001b[0m\u001b[1;33m\u001b[0m\u001b[1;33m\u001b[0m\u001b[1;33m\u001b[0m\u001b[0m\n\u001b[1;32m--> 293\u001b[1;33m         \u001b[0mfilepath_or_buffer\u001b[0m \u001b[1;33m=\u001b[0m \u001b[0m_stringify_path\u001b[0m\u001b[1;33m(\u001b[0m\u001b[0mfilepath_or_buffer\u001b[0m\u001b[1;33m)\u001b[0m\u001b[1;33m\u001b[0m\u001b[1;33m\u001b[0m\u001b[0m\n\u001b[0m\u001b[0;32m    294\u001b[0m         \u001b[1;32mif\u001b[0m \u001b[1;32mnot\u001b[0m \u001b[0misinstance\u001b[0m\u001b[1;33m(\u001b[0m\u001b[0mfilepath_or_buffer\u001b[0m\u001b[1;33m,\u001b[0m \u001b[0mcompat\u001b[0m\u001b[1;33m.\u001b[0m\u001b[0mstring_types\u001b[0m\u001b[1;33m)\u001b[0m\u001b[1;33m:\u001b[0m\u001b[1;33m\u001b[0m\u001b[1;33m\u001b[0m\u001b[0m\n\u001b[0;32m    295\u001b[0m             \u001b[1;31m# Cannot infer compression of a buffer, assume no compression\u001b[0m\u001b[1;33m\u001b[0m\u001b[1;33m\u001b[0m\u001b[1;33m\u001b[0m\u001b[0m\n",
      "\u001b[1;32mc:\\users\\loloynage\\appdata\\local\\programs\\python\\python36-32\\lib\\site-packages\\pandas\\io\\common.py\u001b[0m in \u001b[0;36m_stringify_path\u001b[1;34m(filepath_or_buffer)\u001b[0m\n\u001b[0;32m    147\u001b[0m \u001b[1;33m\u001b[0m\u001b[0m\n\u001b[0;32m    148\u001b[0m     \u001b[1;32mtry\u001b[0m\u001b[1;33m:\u001b[0m\u001b[1;33m\u001b[0m\u001b[1;33m\u001b[0m\u001b[0m\n\u001b[1;32m--> 149\u001b[1;33m         \u001b[1;32mfrom\u001b[0m \u001b[0mpy\u001b[0m\u001b[1;33m.\u001b[0m\u001b[0mpath\u001b[0m \u001b[1;32mimport\u001b[0m \u001b[0mlocal\u001b[0m \u001b[1;32mas\u001b[0m \u001b[0mLocalPath\u001b[0m\u001b[1;33m\u001b[0m\u001b[1;33m\u001b[0m\u001b[0m\n\u001b[0m\u001b[0;32m    150\u001b[0m         \u001b[0m_PY_PATH_INSTALLED\u001b[0m \u001b[1;33m=\u001b[0m \u001b[1;32mTrue\u001b[0m\u001b[1;33m\u001b[0m\u001b[1;33m\u001b[0m\u001b[0m\n\u001b[0;32m    151\u001b[0m     \u001b[1;32mexcept\u001b[0m \u001b[0mImportError\u001b[0m\u001b[1;33m:\u001b[0m\u001b[1;33m\u001b[0m\u001b[1;33m\u001b[0m\u001b[0m\n",
      "\u001b[1;32mc:\\users\\loloynage\\appdata\\local\\programs\\python\\python36-32\\lib\\importlib\\_bootstrap.py\u001b[0m in \u001b[0;36m_find_and_load\u001b[1;34m(name, import_)\u001b[0m\n",
      "\u001b[1;32mc:\\users\\loloynage\\appdata\\local\\programs\\python\\python36-32\\lib\\importlib\\_bootstrap.py\u001b[0m in \u001b[0;36m_find_and_load_unlocked\u001b[1;34m(name, import_)\u001b[0m\n",
      "\u001b[1;32mc:\\users\\loloynage\\appdata\\local\\programs\\python\\python36-32\\lib\\importlib\\_bootstrap.py\u001b[0m in \u001b[0;36m_find_spec\u001b[1;34m(name, path, target)\u001b[0m\n",
      "\u001b[1;32mc:\\users\\loloynage\\appdata\\local\\programs\\python\\python36-32\\lib\\importlib\\_bootstrap_external.py\u001b[0m in \u001b[0;36mfind_spec\u001b[1;34m(cls, fullname, path, target)\u001b[0m\n",
      "\u001b[1;32mc:\\users\\loloynage\\appdata\\local\\programs\\python\\python36-32\\lib\\importlib\\_bootstrap_external.py\u001b[0m in \u001b[0;36m_get_spec\u001b[1;34m(cls, fullname, path, target)\u001b[0m\n",
      "\u001b[1;32mc:\\users\\loloynage\\appdata\\local\\programs\\python\\python36-32\\lib\\importlib\\_bootstrap_external.py\u001b[0m in \u001b[0;36mfind_spec\u001b[1;34m(self, fullname, target)\u001b[0m\n",
      "\u001b[1;32mc:\\users\\loloynage\\appdata\\local\\programs\\python\\python36-32\\lib\\importlib\\_bootstrap_external.py\u001b[0m in \u001b[0;36m_path_stat\u001b[1;34m(path)\u001b[0m\n",
      "\u001b[1;31mKeyboardInterrupt\u001b[0m: "
     ]
    }
   ],
   "source": [
    "%%time\n",
    "seed(0)\n",
    "M0 = 1*Mearth\n",
    "lamb = 1.65e-6\n",
    "Nsamples = 300\n",
    "CRscatSwarm1, CRPlanet1, a, d, Mplt, Imag, d_opt = np.zeros(Nsamples), np.zeros(Nsamples), np.zeros(Nsamples), np.zeros(Nsamples), np.zeros(Nsamples), np.zeros(Nsamples), np.zeros(Nsamples)\n",
    "for i in range(Nsamples):\n",
    "    CRscatSwarm1[i], CRPlanet1[i], a[i], d[i], Mplt[i], Imag[i], d_opt[i] = sample(M0, lamb)"
   ]
  },
  {
   "cell_type": "code",
   "execution_count": 11,
   "metadata": {},
   "outputs": [
    {
     "data": {
      "text/plain": [
       "(array([270.,   8.,   8.,   4.,   3.,   3.,   2.,   0.,   1.,   1.]),\n",
       " array([ 0.        ,  2.81084482,  5.62168964,  8.43253446, 11.24337928,\n",
       "        14.0542241 , 16.86506893, 19.67591375, 22.48675857, 25.29760339,\n",
       "        28.10844821]),\n",
       " <a list of 10 Patch objects>)"
      ]
     },
     "execution_count": 11,
     "metadata": {},
     "output_type": "execute_result"
    },
    {
     "data": {
      "image/png": "[encoded data removed]",
      "text/plain": [
       "<Figure size 432x288 with 1 Axes>"
      ]
     },
     "metadata": {
      "needs_background": "light"
     },
     "output_type": "display_data"
    }
   ],
   "source": [
    "fig, ax = plt.subplots()\n",
    "ax.set_title(\"d_opt [pc]; M0=1MEarth; Star=M0\")\n",
    "ax.hist(d_opt)"
   ]
  },
  {
   "cell_type": "code",
   "execution_count": 12,
   "metadata": {},
   "outputs": [
    {
     "data": {
      "text/plain": [
       "(array([270.,   8.,   8.,   4.,   3.,   3.,   2.,   0.,   1.,   1.]),\n",
       " array([ 0.        ,  1.96759137,  3.93518275,  5.90277412,  7.8703655 ,\n",
       "         9.83795687, 11.80554825, 13.77313962, 15.740731  , 17.70832237,\n",
       "        19.67591375]),\n",
       " <a list of 10 Patch objects>)"
      ]
     },
     "execution_count": 12,
     "metadata": {},
     "output_type": "execute_result"
    },
    {
     "data": {
      "image/png": "[encoded data removed]",
      "text/plain": [
       "<Figure size 432x288 with 1 Axes>"
      ]
     },
     "metadata": {
      "needs_background": "light"
     },
     "output_type": "display_data"
    }
   ],
   "source": [
    "fig, ax = plt.subplots()\n",
    "ax.set_title(\"a_opt [AU]; M0=1MEarth; Star=M0\")\n",
    "ax.hist(d_opt*0.7)"
   ]
  },
  {
   "cell_type": "code",
   "execution_count": 13,
   "metadata": {},
   "outputs": [
    {
     "data": {
      "text/plain": [
       "(array([239.,   3.,   5.,  11.,  12.,   4.,   9.,   7.,   6.,   4.]),\n",
       " array([-0.81068349,  0.19266539,  1.19601427,  2.19936315,  3.20271204,\n",
       "         4.20606092,  5.2094098 ,  6.21275868,  7.21610756,  8.21945645,\n",
       "         9.22280533]),\n",
       " <a list of 10 Patch objects>)"
      ]
     },
     "execution_count": 13,
     "metadata": {},
     "output_type": "execute_result"
    },
    {
     "data": {
      "image/png": "[encoded data removed]",
      "text/plain": [
       "<Figure size 432x288 with 1 Axes>"
      ]
     },
     "metadata": {
      "needs_background": "light"
     },
     "output_type": "display_data"
    }
   ],
   "source": [
    "fig, ax = plt.subplots()\n",
    "ax.set_title(\"I-band Magnitude; M0=1MEarth; Star=M0\")\n",
    "ax.hist(Imag)"
   ]
  }
 ],
 "metadata": {
  "kernelspec": {
   "display_name": "Python 3",
   "language": "python",
   "name": "python3"
  },
  "language_info": {
   "codemirror_mode": {
    "name": "ipython",
    "version": 3
   },
   "file_extension": ".py",
   "mimetype": "text/x-python",
   "name": "python",
   "nbconvert_exporter": "python",
   "pygments_lexer": "ipython3",
   "version": "3.6.8"
  }
 },
 "nbformat": 4,
 "nbformat_minor": 2
}
