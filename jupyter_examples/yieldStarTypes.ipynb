{
 "cells": [
  {
   "cell_type": "code",
   "execution_count": 7,
   "metadata": {},
   "outputs": [],
   "source": [
    "import matplotlib.pyplot as plt\n",
    "import pandas as pd\n",
    "from random import uniform\n",
    "import numpy as np\n",
    "from numpy import random, pi, array\n",
    "import swarms\n",
    "import pread as pds\n",
    "from random import randint, seed, uniform\n",
    "\n",
    "from swarms import MMOON, MJUP, RJUP, AU, REARTH, MEARTH, PC, MSUN, LSUN, YEAR, MICRON"
   ]
  },
  {
   "cell_type": "code",
   "execution_count": 8,
   "metadata": {},
   "outputs": [],
   "source": [
    "GPI = pd.read_csv(\"./data/fullGPIsample.csv\", index_col=0)\n",
    "GPI = GPI[~GPI['Distance_distance'].isnull()]\n",
    "GPI = GPI.reset_index(drop=True)\n",
    "GPI['Age'] = 0"
   ]
  },
  {
   "cell_type": "code",
   "execution_count": 9,
   "metadata": {},
   "outputs": [
    {
     "data": {
      "text/html": [
       "<div>\n",
       "<style scoped>\n",
       "    .dataframe tbody tr th:only-of-type {\n",
       "        vertical-align: middle;\n",
       "    }\n",
       "\n",
       "    .dataframe tbody tr th {\n",
       "        vertical-align: top;\n",
       "    }\n",
       "\n",
       "    .dataframe thead th {\n",
       "        text-align: right;\n",
       "    }\n",
       "</style>\n",
       "<table border=\"1\" class=\"dataframe\">\n",
       "  <thead>\n",
       "    <tr style=\"text-align: right;\">\n",
       "      <th></th>\n",
       "      <th>S_Type</th>\n",
       "      <th>Distance_distance</th>\n",
       "      <th>FLUX_I</th>\n",
       "      <th>FLUX_H</th>\n",
       "      <th>Fe_H_Teff</th>\n",
       "      <th>Class</th>\n",
       "      <th>subtype</th>\n",
       "      <th>Mbol</th>\n",
       "      <th>Lum</th>\n",
       "      <th>Teff</th>\n",
       "      <th>Mass</th>\n",
       "      <th>Age</th>\n",
       "    </tr>\n",
       "  </thead>\n",
       "  <tbody>\n",
       "    <tr>\n",
       "      <th>594</th>\n",
       "      <td>B9V</td>\n",
       "      <td>48.5835</td>\n",
       "      <td>NaN</td>\n",
       "      <td>4.622</td>\n",
       "      <td>10860</td>\n",
       "      <td>B</td>\n",
       "      <td>9</td>\n",
       "      <td>0.570</td>\n",
       "      <td>46.558609</td>\n",
       "      <td>10850.0</td>\n",
       "      <td>2.455</td>\n",
       "      <td>0</td>\n",
       "    </tr>\n",
       "    <tr>\n",
       "      <th>595</th>\n",
       "      <td>A7III/IV</td>\n",
       "      <td>67.1100</td>\n",
       "      <td>NaN</td>\n",
       "      <td>5.879</td>\n",
       "      <td>7834</td>\n",
       "      <td>A</td>\n",
       "      <td>7</td>\n",
       "      <td>2.445</td>\n",
       "      <td>8.279422</td>\n",
       "      <td>8000.0</td>\n",
       "      <td>1.595</td>\n",
       "      <td>0</td>\n",
       "    </tr>\n",
       "    <tr>\n",
       "      <th>596</th>\n",
       "      <td>F6V</td>\n",
       "      <td>35.3895</td>\n",
       "      <td>6.370</td>\n",
       "      <td>5.787</td>\n",
       "      <td>6255</td>\n",
       "      <td>F</td>\n",
       "      <td>6</td>\n",
       "      <td>3.860</td>\n",
       "      <td>2.249055</td>\n",
       "      <td>6400.0</td>\n",
       "      <td>1.160</td>\n",
       "      <td>0</td>\n",
       "    </tr>\n",
       "    <tr>\n",
       "      <th>597</th>\n",
       "      <td>K2V</td>\n",
       "      <td>21.9270</td>\n",
       "      <td>7.194</td>\n",
       "      <td>6.007</td>\n",
       "      <td>0</td>\n",
       "      <td>K</td>\n",
       "      <td>2</td>\n",
       "      <td>5.620</td>\n",
       "      <td>0.444631</td>\n",
       "      <td>4930.0</td>\n",
       "      <td>0.738</td>\n",
       "      <td>0</td>\n",
       "    </tr>\n",
       "    <tr>\n",
       "      <th>598</th>\n",
       "      <td>A1V</td>\n",
       "      <td>47.0754</td>\n",
       "      <td>NaN</td>\n",
       "      <td>4.949</td>\n",
       "      <td>9057</td>\n",
       "      <td>A</td>\n",
       "      <td>1</td>\n",
       "      <td>1.440</td>\n",
       "      <td>20.892961</td>\n",
       "      <td>9370.0</td>\n",
       "      <td>2.005</td>\n",
       "      <td>0</td>\n",
       "    </tr>\n",
       "  </tbody>\n",
       "</table>\n",
       "</div>"
      ],
      "text/plain": [
       "       S_Type  Distance_distance  FLUX_I  FLUX_H  Fe_H_Teff Class  subtype  \\\n",
       "594       B9V            48.5835     NaN   4.622      10860     B        9   \n",
       "595  A7III/IV            67.1100     NaN   5.879       7834     A        7   \n",
       "596       F6V            35.3895   6.370   5.787       6255     F        6   \n",
       "597       K2V            21.9270   7.194   6.007          0     K        2   \n",
       "598       A1V            47.0754     NaN   4.949       9057     A        1   \n",
       "\n",
       "      Mbol        Lum     Teff   Mass  Age  \n",
       "594  0.570  46.558609  10850.0  2.455    0  \n",
       "595  2.445   8.279422   8000.0  1.595    0  \n",
       "596  3.860   2.249055   6400.0  1.160    0  \n",
       "597  5.620   0.444631   4930.0  0.738    0  \n",
       "598  1.440  20.892961   9370.0  2.005    0  "
      ]
     },
     "execution_count": 9,
     "metadata": {},
     "output_type": "execute_result"
    }
   ],
   "source": [
    "GPI.tail()"
   ]
  },
  {
   "cell_type": "code",
   "execution_count": 10,
   "metadata": {},
   "outputs": [],
   "source": [
    "def loguniform(minval, maxval):\n",
    "    return 10**uniform(np.log10(minval), np.log10(maxval))\n",
    "\n",
    "def star_samplerK(mean=2., std=1.):\n",
    "    return swarms.Star(M=0.738 * MSUN, L=0.738**4 * LSUN, T=4930, d=0)\n",
    "\n",
    "def star_samplerG(mean=2., std=1.):\n",
    "    return swarms.Star(M=0.986 * MSUN, L=0.986**4 * LSUN, T=5770, d=0)\n",
    "\n",
    "def star_samplerF(mean=2., std=1.):\n",
    "    return swarms.Star(M=1.31 * MSUN, L=1.31**4 * LSUN, T=7040, d=0)\n",
    "\n",
    "def star_samplerA(mean=2., std=1.):\n",
    "    return swarms.Star(M=1.94 * MSUN, L=1.94**4 * LSUN, T=9040, d=0)\n",
    "\n",
    "def star_samplerM(mean=2., std=1.):\n",
    "    '''\n",
    "    Mstar = None\n",
    "    Lstar = None\n",
    "    Tstar = None\n",
    "    dpl = None\n",
    "    \n",
    "    sample = int(random.normal(loc=mean, scale=std))\n",
    "    sampled_type = 'M' + str(sample)\n",
    "    for i in range(len(GPI['S_Type'])):\n",
    "        if sampled_type in GPI['S_Type'][i]:\n",
    "            Tstar = GPI['Teff'][i]\n",
    "            Lstar = GPI['Lum'][i]*Lsun\n",
    "            Mstar = GPI['Mass'][i]*Msun\n",
    "            dpl = GPI['Distance_distance'][i]*pc\n",
    "            break\n",
    "    '''\n",
    "    \n",
    "    return swarms.Star(M=0.44*MSUN, L=0.023*LSUN, T=3400, d=0) # M2 star\n",
    "\n",
    "def distance_sampler(mean, std):\n",
    "    s = 0\n",
    "    while s <= 0:\n",
    "        s = random.normal(loc=mean, scale=std)\n",
    "    return s\n",
    "\n",
    "def draw_planet(star, age, IWA=0.2, OWA=1.2):\n",
    "    Mmin = 21 # Mearth (Nep)\n",
    "    Mmax = 5*318 # Mearth (Jup)\n",
    "    # Draw mass from Nep to 13 Mjup according to m^-0.86 Clanton 16\n",
    "    totoccurrence = 1.\n",
    "    Npts = 1000\n",
    "    alpha = -0.86\n",
    "    Q = 0.5 # planet albedo\n",
    "    ms = np.linspace(Mmin, Mmax, Npts)\n",
    "    pdf = ms**(alpha-1) # dN/dlogM = dN/dM * m, so dN/dM \\propto m^(alpha-1)\n",
    "    cumpdf = np.cumsum(pdf)/pdf.sum() * totoccurrence\n",
    "    randv = np.random.uniform()\n",
    "    idx = np.searchsorted(cumpdf, randv)\n",
    "    if idx == len(cumpdf):\n",
    "        return None # didn't draw a planet\n",
    "    else:\n",
    "        # draw semimajor axis\n",
    "        amin = star.d/PC*IWA# AU\n",
    "        amax = star.d/PC*OWA # AU\n",
    "        a = loguniform(amin, amax)\n",
    "        return swarms.Planet(star, M=ms[idx]*MEARTH, R=None, a=a*AU, Q=Q, Z='002', age=age)\n",
    "    \n",
    "def contrast_scat(A, g, Q, a_pl):\n",
    "    return (A*g*Q) / (np.pi*a_pl**2)\n",
    "\n",
    "def cdf(x):\n",
    "    \"\"\"create a lin-log cdf function using the points,\n",
    "        (20, 0.0)\n",
    "        (135, 0.5)\n",
    "        (620, 0.9)\n",
    "    from Bowler & al. 2014.\"\"\"\n",
    "    A = -0.785\n",
    "    B = 0.603\n",
    "    if isinstance(x, float) or isinstance(x, int):\n",
    "        return A + B*np.log10(x)\n",
    "    else:\n",
    "        f = np.zeros(len(x))\n",
    "        for i in range(len(x)):\n",
    "            if x[i] < 20:\n",
    "                f[i] = 0\n",
    "            else:\n",
    "                f[i] = A + B*np.log10(x[i])\n",
    "                if f[i] > 1.0:\n",
    "                    f[i] = 1.0\n",
    "        return f\n",
    "    \n",
    "def inverse_cdf(y):\n",
    "    A = -0.785\n",
    "    B = 0.603\n",
    "    return 10**((y - A)/B)  \n",
    "    \n",
    "def age_sampler():\n",
    "    y = uniform(0, 1)\n",
    "    return inverse_cdf(y)*1e6 * YEAR\n",
    "\n",
    "def Fscat(F_star, R_plt, g, Q, d_pl):\n",
    "    return F_star * R_plt**2 * g * Q / (d_pl**2)\n",
    "\n",
    "def Fstar(Ls, Bnu, Ts, dpl):\n",
    "    sig = 5.670367e-8 #Stefan-Boltzmann constant\n",
    "    part1 = Ls * Bnu\n",
    "    part2 = 4 * sig * Ts ** 4 * dpl ** 2\n",
    "    return part1 / part2\n",
    "\n",
    "def lum_to_temp(L, R):\n",
    "    sig = 5.670367e-8 #Stefan-Boltzmann constant\n",
    "    part1 = L / (4 * pi * sig * R**2)\n",
    "    return (part1)**(1./4.)"
   ]
  },
  {
   "cell_type": "markdown",
   "metadata": {},
   "source": [
    "# Find aopt for different initial masses"
   ]
  },
  {
   "cell_type": "code",
   "execution_count": 11,
   "metadata": {},
   "outputs": [],
   "source": [
    "def aopt(Mtot):\n",
    "    star = star_samplerM()\n",
    "    star.d = 10*PC # dummy value\n",
    "    age = age_sampler()\n",
    "    planet = draw_planet(star, age)\n",
    "    if planet is None:\n",
    "        return aopt(Mtot) # do it again\n",
    "    Dc = loguniform(1e5, 1e6) # m\n",
    "    rho = 1000 # kg/m^3\n",
    "    eta = 0.5 # eta\n",
    "    Q = loguniform(0.05, 0.25) # Q_bd = [0, 0.8]\n",
    "    g = loguniform(0.2, 0.8) # 0.32 https://arxiv.org/pdf/1709.00417.pdf\n",
    "    Dt = loguniform(10, 1000) # m\n",
    "    Nstr = 6\n",
    "    Dmax = Dc\n",
    "    fQ = loguniform(1,10)\n",
    "    swarm = swarms.CollSwarm(star, planet, Mtot, Dt, Dmax, Q=Q, eta=eta, Nstr=Nstr, \n",
    "                            rho=rho, fQ=fQ, correction=True, Dmin_min=1.65*MICRON)\n",
    "    return swarm.aopt(t=age)"
   ]
  },
  {
   "cell_type": "markdown",
   "metadata": {},
   "source": [
    "# Sample"
   ]
  },
  {
   "cell_type": "code",
   "execution_count": 13,
   "metadata": {},
   "outputs": [
    {
     "name": "stdout",
     "output_type": "stream",
     "text": [
      "Optimal Distance = 71 pc\n"
     ]
    }
   ],
   "source": [
    "IWA = 0.2 # arcseconds\n",
    "OWA = 1.2\n",
    "MWA = (IWA + OWA)/2\n",
    "lamb = 1.*MICRON\n",
    "\n",
    "M0 = 1*MEARTH\n",
    "aopt = 50 # AU\n",
    "dopt = aopt/MWA * PC\n",
    "print('Optimal Distance = {0:.0f} pc'.format(dopt/PC))"
   ]
  },
  {
   "cell_type": "code",
   "execution_count": 16,
   "metadata": {},
   "outputs": [],
   "source": [
    "def sample(M0, dopt, lamb, star_type):\n",
    "    if star_type == \"M\":\n",
    "        star = star_samplerM()\n",
    "    elif star_type == \"K\":\n",
    "        star = star_samplerK()\n",
    "    elif star_type == \"G\":\n",
    "        star = star_samplerG()\n",
    "    elif star_type == \"F\":\n",
    "        star = star_samplerF()\n",
    "    else:\n",
    "        star = star_samplerA()\n",
    "    star.d = distance_sampler(mean=dopt, std=dopt/2.)\n",
    "    age = age_sampler()\n",
    "    \n",
    "    planet = draw_planet(star, age=age)\n",
    "    if planet is None:\n",
    "        return sample(M0, dopt, lamb) # do it again\n",
    "    \n",
    "    Dc = loguniform(1e4, 1e6) # m\n",
    "    rho = 1000 # kg/m^3\n",
    "    eta = 0.5 # eta\n",
    "    Q = loguniform(0.05, 0.25) # Q_bd = [0, 0.8]\n",
    "    g = loguniform(0.2, 0.8) # 0.32 https://arxiv.org/pdf/1709.00417.pdf\n",
    "    Dt = loguniform(10, 1000) # m\n",
    "    Nstr = 6\n",
    "    Dmax = Dc\n",
    "    fQ = loguniform(1,10)\n",
    "    swarm = swarms.CollSwarm(star, planet, M0, Dt, Dmax, Q=Q, eta=eta, Nstr=Nstr, \n",
    "                            rho=rho, fQ=fQ, correction=True, Dmin_min=lamb, age=age)\n",
    "    \n",
    "\n",
    "    CRscatSwarm = swarm.computeCRscat(g)\n",
    "    CRscatPlanet = planet.computeCRscat(g)\n",
    "    CRthermalPlanet = planet.computeCRthermal(lamb)\n",
    "    if np.isnan(CRthermalPlanet):\n",
    "        CRthermalPlanet = 0\n",
    "    return CRscatSwarm, CRscatPlanet+CRthermalPlanet, planet.a/AU, star.d/PC, planet.M"
   ]
  },
  {
   "cell_type": "code",
   "execution_count": 17,
   "metadata": {},
   "outputs": [
    {
     "name": "stdout",
     "output_type": "stream",
     "text": [
      "Wall time: 32.5 s\n"
     ]
    }
   ],
   "source": [
    "%%time\n",
    "seed(0)\n",
    "M0 = 1e-2*MEARTH\n",
    "star_type = \"M\"\n",
    "Nsamples = 300\n",
    "CRscatSwarmM, CRPlanetM, a, d, Mplt = np.zeros(Nsamples), np.zeros(Nsamples), np.zeros(Nsamples), np.zeros(Nsamples), np.zeros(Nsamples)\n",
    "for i in range(Nsamples):\n",
    "    CRscatSwarmM[i], CRPlanetM[i], a[i], d[i], Mplt[i] = sample(M0, dopt, lamb, star_type)"
   ]
  },
  {
   "cell_type": "code",
   "execution_count": 18,
   "metadata": {},
   "outputs": [],
   "source": [
    "mask = (a/d > IWA) & (a/d < OWA)\n",
    "logCRscatSwarmM = np.log10(CRscatSwarmM[mask])\n",
    "logCRPlanetM = np.log10(CRPlanetM[mask])"
   ]
  },
  {
   "cell_type": "code",
   "execution_count": 19,
   "metadata": {},
   "outputs": [
    {
     "name": "stdout",
     "output_type": "stream",
     "text": [
      "Wall time: 32.8 s\n"
     ]
    }
   ],
   "source": [
    "%%time\n",
    "seed(0)\n",
    "M0 = 1e-2*MEARTH\n",
    "star_type = \"K\"\n",
    "Nsamples = 300\n",
    "CRscatSwarmK, CRPlanetK, a, d, Mplt = np.zeros(Nsamples), np.zeros(Nsamples), np.zeros(Nsamples), np.zeros(Nsamples), np.zeros(Nsamples)\n",
    "for i in range(Nsamples):\n",
    "    CRscatSwarmK[i], CRPlanetK[i], a[i], d[i], Mplt[i] = sample(M0, dopt, lamb, star_type)"
   ]
  },
  {
   "cell_type": "code",
   "execution_count": 20,
   "metadata": {},
   "outputs": [],
   "source": [
    "mask = (a/d > IWA) & (a/d < OWA)\n",
    "logCRscatSwarmK = np.log10(CRscatSwarmK[mask])\n",
    "logCRPlanetK = np.log10(CRPlanetK[mask])"
   ]
  },
  {
   "cell_type": "code",
   "execution_count": 21,
   "metadata": {},
   "outputs": [
    {
     "name": "stdout",
     "output_type": "stream",
     "text": [
      "Wall time: 31.6 s\n"
     ]
    }
   ],
   "source": [
    "%%time\n",
    "seed(0)\n",
    "M0 = 1.e-2*MEARTH\n",
    "star_type = \"G\"\n",
    "Nsamples = 300\n",
    "CRscatSwarmG, CRPlanetG, a, d, Mplt = np.zeros(Nsamples), np.zeros(Nsamples), np.zeros(Nsamples), np.zeros(Nsamples), np.zeros(Nsamples)\n",
    "for i in range(Nsamples):\n",
    "    CRscatSwarmG[i], CRPlanetG[i], a[i], d[i], Mplt[i] = sample(M0, dopt, lamb, star_type)"
   ]
  },
  {
   "cell_type": "code",
   "execution_count": 22,
   "metadata": {},
   "outputs": [],
   "source": [
    "mask = (a/d > IWA) & (a/d < OWA)\n",
    "logCRscatSwarmG = np.log10(CRscatSwarmG[mask])\n",
    "logCRPlanetG = np.log10(CRPlanetG[mask])"
   ]
  },
  {
   "cell_type": "code",
   "execution_count": 23,
   "metadata": {},
   "outputs": [
    {
     "name": "stdout",
     "output_type": "stream",
     "text": [
      "Wall time: 37.1 s\n"
     ]
    }
   ],
   "source": [
    "%%time\n",
    "seed(0)\n",
    "M0 = 1.e-2*MEARTH\n",
    "star_type = \"F\"\n",
    "Nsamples = 300\n",
    "CRscatSwarmF, CRPlanetF, a, d, Mplt = np.zeros(Nsamples), np.zeros(Nsamples), np.zeros(Nsamples), np.zeros(Nsamples), np.zeros(Nsamples)\n",
    "for i in range(Nsamples):\n",
    "    CRscatSwarmF[i], CRPlanetF[i], a[i], d[i], Mplt[i] = sample(M0, dopt, lamb, star_type)"
   ]
  },
  {
   "cell_type": "code",
   "execution_count": 24,
   "metadata": {},
   "outputs": [],
   "source": [
    "mask = (a/d > IWA) & (a/d < OWA)\n",
    "logCRscatSwarmF = np.log10(CRscatSwarmF[mask])\n",
    "logCRPlanetF = np.log10(CRPlanetF[mask])"
   ]
  },
  {
   "cell_type": "code",
   "execution_count": 25,
   "metadata": {},
   "outputs": [
    {
     "name": "stdout",
     "output_type": "stream",
     "text": [
      "Wall time: 35.9 s\n"
     ]
    }
   ],
   "source": [
    "%%time\n",
    "seed(0)\n",
    "M0 = 1.e-2*MEARTH\n",
    "star_type = \"A\"\n",
    "Nsamples = 300\n",
    "CRscatSwarmA, CRPlanetA, a, d, Mplt = np.zeros(Nsamples), np.zeros(Nsamples), np.zeros(Nsamples), np.zeros(Nsamples), np.zeros(Nsamples)\n",
    "for i in range(Nsamples):\n",
    "    CRscatSwarmA[i], CRPlanetA[i], a[i], d[i], Mplt[i] = sample(M0, dopt, lamb, star_type)"
   ]
  },
  {
   "cell_type": "code",
   "execution_count": 26,
   "metadata": {},
   "outputs": [],
   "source": [
    "mask = (a/d > IWA) & (a/d < OWA)\n",
    "logCRscatSwarmA = np.log10(CRscatSwarmA[mask])\n",
    "logCRPlanetA = np.log10(CRPlanetA[mask])"
   ]
  },
  {
   "cell_type": "code",
   "execution_count": 27,
   "metadata": {},
   "outputs": [
    {
     "data": {
      "text/plain": [
       "Text(0,0.5,'Number of Planets')"
      ]
     },
     "execution_count": 27,
     "metadata": {},
     "output_type": "execute_result"
    },
    {
     "data": {
      "image/png": "[encoded data removed]",
      "text/plain": [
       "<Figure size 864x288 with 1 Axes>"
      ]
     },
     "metadata": {
      "needs_background": "light"
     },
     "output_type": "display_data"
    }
   ],
   "source": [
    "fig, ax = plt.subplots(figsize=(12,4))\n",
    "#hist, edges, patches = ax.hist(logCRPlanetM, facecolor='b', ec='k')\n",
    "#hist, edges, patches = ax.hist(logCRscatSwarmM, facecolor=(1, 0, 0), ec='k', alpha=0.3, label='M')\n",
    "#hist, edges, patches = ax.hist(logCRscatSwarmK, bins=25, facecolor=(0.15,0.6,0.72), ec='k', alpha=0.3, label='K')\n",
    "#hist, edges, patches = ax.hist(logCRscatSwarmG, facecolor=(0.5,0.0,0.5), ec='k', alpha=0.3, label='G')\n",
    "hist, edges, patches = ax.hist(logCRscatSwarmF, bins=15, facecolor=(0.45,0.38,0.36), ec='k', alpha=0.3, label='F')\n",
    "#hist, edges, patches = ax.hist(logCRscatSwarmA, bins=15, facecolor=(0.0,0.0,1), ec='k', alpha=0.3, label='A')\n",
    "\n",
    "\n",
    "ax.axvline(-6, color='k', linestyle='--')\n",
    "ax.axvline(-8, color='k', linestyle='--')\n",
    "ax.axvline(-10, color='k', linestyle='--')\n",
    "\n",
    "ax.text(-12.8, 20, \"Planet\", color='b', fontsize=18)\n",
    "ax.text(-9.8, 80, \"LUVOIR\", color='k', fontsize=18)\n",
    "ax.text(-7.8, 80, \"ELTs/WFIRST\", color='k', fontsize=18)\n",
    "ax.text(-5.8, 80, \"GPI/SPHERE\", color='k', fontsize=18)\n",
    "ax.text(-8.5, 130, \"G\", color=(0.5, 0, 0.5), fontsize=18)\n",
    "ax.text(-7.2, 115, \"M\", color=(1, 0, 0), fontsize=18)\n",
    "ax.text(-9.5, 95, \"A\", color=(0, 0, 1), fontsize=18)\n",
    "\n",
    "\n",
    "#hist, edges, patches = ax.hist(logCRscat0001)\n",
    "#ax.fill_betweenx([0, 300], -6, -4, facecolor='m', alpha=0.3)\n",
    "#|ax.set_ylim([0, 250])\n",
    "ax.legend(loc=2)\n",
    "ax.set_xlim([-13, -4])\n",
    "ax.set_xlabel('Log Contrast Ratio')\n",
    "ax.set_ylabel('Number of Planets')"
   ]
  }
 ],
 "metadata": {
  "kernelspec": {
   "display_name": "Python 3",
   "language": "python",
   "name": "python3"
  },
  "language_info": {
   "codemirror_mode": {
    "name": "ipython",
    "version": 3
   },
   "file_extension": ".py",
   "mimetype": "text/x-python",
   "name": "python",
   "nbconvert_exporter": "python",
   "pygments_lexer": "ipython3",
   "version": "3.6.8"
  }
 },
 "nbformat": 4,
 "nbformat_minor": 2
}
