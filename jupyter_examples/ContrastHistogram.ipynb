{
 "cells": [
  {
   "cell_type": "code",
   "execution_count": 1,
   "metadata": {},
   "outputs": [],
   "source": [
    "import numpy as np\n",
    "import swarms\n",
    "import matplotlib.pyplot as plt\n",
    "%matplotlib inline\n",
    "import pandas as pd\n",
    "from random import randint, seed, uniform\n",
    "\n",
    "try:\n",
    "    plt.style.use('paper')\n",
    "except:\n",
    "    pass"
   ]
  },
  {
   "cell_type": "code",
   "execution_count": 2,
   "metadata": {},
   "outputs": [],
   "source": [
    "Lsun = 3.828e26 # all units in SI\n",
    "Msun = 1.989e30 \n",
    "Tsun = 5800\n",
    "pc = 3.086e16\n",
    "AU = 1.496e11\n",
    "Mearth = 5.97e24\n",
    "Rearth = 6.4e6\n",
    "Rjup = 7.e7\n",
    "Mjup = 318 * Mearth\n",
    "Jansky = 1.e-26"
   ]
  },
  {
   "cell_type": "code",
   "execution_count": 3,
   "metadata": {},
   "outputs": [],
   "source": [
    "Mmin = 15 # Mearth (Nep)\n",
    "Mmax = 13*318 # Mearth (Jup)\n",
    "nvals = 600\n",
    "# Draw mass from Nep to 13 Mjup according to m^-0.86 Clanton 16\n",
    "# ignore normalization which goes into occurrence. We assume we draw a planet, just \n",
    "# want relative fractions correct\n",
    "totoccurrence = 1.\n",
    "\n",
    "Nplanets = 600\n",
    "alpha = -0.86\n",
    "ms = np.linspace(Mmin, Mmax, Nplanets)\n",
    "pdf = ms**(alpha-1) # dN/dlogM = dN/dM * m, so dN/dM \\propto m^(alpha-1)\n",
    "cumpdf = np.cumsum(pdf)/pdf.sum() * totoccurrence\n",
    "randv = np.random.uniform(size=nvals)\n",
    "idxs = np.searchsorted(cumpdf, randv)\n",
    "masses = ms[[idx for idx in idxs if idx < len(cumpdf)]]"
   ]
  },
  {
   "cell_type": "code",
   "execution_count": 4,
   "metadata": {},
   "outputs": [
    {
     "data": {
      "text/html": [
       "<div>\n",
       "<style scoped>\n",
       "    .dataframe tbody tr th:only-of-type {\n",
       "        vertical-align: middle;\n",
       "    }\n",
       "\n",
       "    .dataframe tbody tr th {\n",
       "        vertical-align: top;\n",
       "    }\n",
       "\n",
       "    .dataframe thead th {\n",
       "        text-align: right;\n",
       "    }\n",
       "</style>\n",
       "<table border=\"1\" class=\"dataframe\">\n",
       "  <thead>\n",
       "    <tr style=\"text-align: right;\">\n",
       "      <th></th>\n",
       "      <th>S_Type</th>\n",
       "      <th>Distance_distance</th>\n",
       "      <th>FLUX_I</th>\n",
       "      <th>FLUX_H</th>\n",
       "      <th>Fe_H_Teff</th>\n",
       "      <th>Class</th>\n",
       "      <th>subtype</th>\n",
       "      <th>Mbol</th>\n",
       "      <th>Lum</th>\n",
       "      <th>Teff</th>\n",
       "      <th>Mass</th>\n",
       "      <th>Age</th>\n",
       "    </tr>\n",
       "  </thead>\n",
       "  <tbody>\n",
       "    <tr>\n",
       "      <th>594</th>\n",
       "      <td>B9V</td>\n",
       "      <td>48.5835</td>\n",
       "      <td>NaN</td>\n",
       "      <td>4.622</td>\n",
       "      <td>10860</td>\n",
       "      <td>B</td>\n",
       "      <td>9</td>\n",
       "      <td>0.570</td>\n",
       "      <td>46.558609</td>\n",
       "      <td>10850.0</td>\n",
       "      <td>2.455</td>\n",
       "      <td>0</td>\n",
       "    </tr>\n",
       "    <tr>\n",
       "      <th>595</th>\n",
       "      <td>A7III/IV</td>\n",
       "      <td>67.1100</td>\n",
       "      <td>NaN</td>\n",
       "      <td>5.879</td>\n",
       "      <td>7834</td>\n",
       "      <td>A</td>\n",
       "      <td>7</td>\n",
       "      <td>2.445</td>\n",
       "      <td>8.279422</td>\n",
       "      <td>8000.0</td>\n",
       "      <td>1.595</td>\n",
       "      <td>0</td>\n",
       "    </tr>\n",
       "    <tr>\n",
       "      <th>596</th>\n",
       "      <td>F6V</td>\n",
       "      <td>35.3895</td>\n",
       "      <td>6.370</td>\n",
       "      <td>5.787</td>\n",
       "      <td>6255</td>\n",
       "      <td>F</td>\n",
       "      <td>6</td>\n",
       "      <td>3.860</td>\n",
       "      <td>2.249055</td>\n",
       "      <td>6400.0</td>\n",
       "      <td>1.160</td>\n",
       "      <td>0</td>\n",
       "    </tr>\n",
       "    <tr>\n",
       "      <th>597</th>\n",
       "      <td>K2V</td>\n",
       "      <td>21.9270</td>\n",
       "      <td>7.194</td>\n",
       "      <td>6.007</td>\n",
       "      <td>0</td>\n",
       "      <td>K</td>\n",
       "      <td>2</td>\n",
       "      <td>5.620</td>\n",
       "      <td>0.444631</td>\n",
       "      <td>4930.0</td>\n",
       "      <td>0.738</td>\n",
       "      <td>0</td>\n",
       "    </tr>\n",
       "    <tr>\n",
       "      <th>598</th>\n",
       "      <td>A1V</td>\n",
       "      <td>47.0754</td>\n",
       "      <td>NaN</td>\n",
       "      <td>4.949</td>\n",
       "      <td>9057</td>\n",
       "      <td>A</td>\n",
       "      <td>1</td>\n",
       "      <td>1.440</td>\n",
       "      <td>20.892961</td>\n",
       "      <td>9370.0</td>\n",
       "      <td>2.005</td>\n",
       "      <td>0</td>\n",
       "    </tr>\n",
       "  </tbody>\n",
       "</table>\n",
       "</div>"
      ],
      "text/plain": [
       "       S_Type  Distance_distance  FLUX_I  FLUX_H  Fe_H_Teff Class  subtype  \\\n",
       "594       B9V            48.5835     NaN   4.622      10860     B        9   \n",
       "595  A7III/IV            67.1100     NaN   5.879       7834     A        7   \n",
       "596       F6V            35.3895   6.370   5.787       6255     F        6   \n",
       "597       K2V            21.9270   7.194   6.007          0     K        2   \n",
       "598       A1V            47.0754     NaN   4.949       9057     A        1   \n",
       "\n",
       "      Mbol        Lum     Teff   Mass  Age  \n",
       "594  0.570  46.558609  10850.0  2.455    0  \n",
       "595  2.445   8.279422   8000.0  1.595    0  \n",
       "596  3.860   2.249055   6400.0  1.160    0  \n",
       "597  5.620   0.444631   4930.0  0.738    0  \n",
       "598  1.440  20.892961   9370.0  2.005    0  "
      ]
     },
     "execution_count": 4,
     "metadata": {},
     "output_type": "execute_result"
    }
   ],
   "source": [
    "GPI = pd.read_csv(\"../csvs/fullGPIsample.csv\", index_col=0)\n",
    "GPI = GPI[~GPI['Distance_distance'].isnull()]\n",
    "GPI = GPI.reset_index(drop=True)\n",
    "GPI['Age'] = 0\n",
    "GPI.tail()"
   ]
  },
  {
   "cell_type": "code",
   "execution_count": 5,
   "metadata": {},
   "outputs": [],
   "source": [
    "seed(0)\n",
    "\n",
    "def loguniform(minval, maxval):\n",
    "    return 10**uniform(np.log10(minval), np.log10(maxval))\n",
    "\n",
    "def draw_star(GPI):\n",
    "    if isinstance(GPI, pd.Series):\n",
    "        star = GPI\n",
    "    else:\n",
    "        idx = randint(0, GPI.shape[0]-1)\n",
    "        star = GPI.loc[idx]\n",
    "        \n",
    "    return swarms.Star(M=star['Mass']*Msun, L=star['Lum']*Lsun, T=star['Fe_H_Teff'], d=star['Distance_distance']*pc)"
   ]
  },
  {
   "cell_type": "code",
   "execution_count": 6,
   "metadata": {},
   "outputs": [
    {
     "name": "stderr",
     "output_type": "stream",
     "text": [
      "C:\\Users\\loloynage\\Documents\\CE-Irregular-Satellites\\jupyter_examples\\swarms.py:270: RuntimeWarning: divide by zero encountered in double_scalars\n",
      "  return self.L/SIG/self.T**4\n",
      "C:\\Users\\loloynage\\Documents\\CE-Irregular-Satellites\\jupyter_examples\\swarms.py:209: RuntimeWarning: divide by zero encountered in double_scalars\n",
      "  b = 1/(exp(H*(C/lamb)/(K_B*T)) - 1)\n",
      "C:\\Users\\loloynage\\Documents\\CE-Irregular-Satellites\\jupyter_examples\\swarms.py:219: RuntimeWarning: invalid value encountered in double_scalars\n",
      "  return Ap/Astar*Bnup/Bnustar\n",
      "C:\\Users\\loloynage\\Documents\\CE-Irregular-Satellites\\jupyter_examples\\swarms.py:209: RuntimeWarning: overflow encountered in exp\n",
      "  b = 1/(exp(H*(C/lamb)/(K_B*T)) - 1)\n"
     ]
    },
    {
     "name": "stdout",
     "output_type": "stream",
     "text": [
      "Wall time: 1min 1s\n"
     ]
    }
   ],
   "source": [
    "%%time\n",
    "\n",
    "lamb = 1.65e-6\n",
    "g = 0.32\n",
    "\n",
    "CRthermals, CRscats, CRs = np.zeros(Nplanets), np.zeros(Nplanets), np.zeros(Nplanets)\n",
    "for i, m in enumerate(masses):\n",
    "    star = draw_star(GPI)\n",
    "    amin = 0.3*star.d/pc\n",
    "    amax = 1.2*star.d/pc\n",
    "    a = loguniform(amin, amax)\n",
    "    if m < 20:\n",
    "        m = 20\n",
    "    if m > 3180:\n",
    "        m = 3180\n",
    "    planet = swarms.Planet(star, M=m*Mearth, a=a*AU, Q=0.5, R=None, Z='002', age=1.5e7)\n",
    "    CRthermals[i] = planet.CRthermal(lamb)\n",
    "    if np.isnan(CRthermals[i]):\n",
    "        CRthermals[i] = 0\n",
    "    CRscats[i] = planet.CRscat(g)\n",
    "    CRs[i] = CRthermals[i] + CRscats[i]"
   ]
  },
  {
   "cell_type": "code",
   "execution_count": 7,
   "metadata": {},
   "outputs": [
    {
     "data": {
      "text/plain": [
       "Text(0,0.5,'Number of Planets')"
      ]
     },
     "execution_count": 7,
     "metadata": {},
     "output_type": "execute_result"
    },
    {
     "data": {
      "image/png": "[encoded data removed]",
      "text/plain": [
       "<Figure size 864x576 with 1 Axes>"
      ]
     },
     "metadata": {
      "needs_background": "light"
     },
     "output_type": "display_data"
    }
   ],
   "source": [
    "fig, ax = plt.subplots(figsize=(12,8))\n",
    "hist, edges, patches = ax.hist(np.log10(CRs))\n",
    "ax.fill_betweenx([0, 300], -6, -4, facecolor='m', alpha=0.3)\n",
    "ax.set_ylim([0, 250])\n",
    "ax.set_xlim([-13, -4])\n",
    "ax.set_xlabel('Log Contrast Ratio')\n",
    "ax.set_ylabel('Number of Planets')"
   ]
  },
  {
   "cell_type": "code",
   "execution_count": 8,
   "metadata": {},
   "outputs": [
    {
     "data": {
      "text/plain": [
       "Text(0,0.5,'Number of Planets')"
      ]
     },
     "execution_count": 8,
     "metadata": {},
     "output_type": "execute_result"
    },
    {
     "data": {
      "image/png": "[encoded data removed]",
      "text/plain": [
       "<Figure size 864x576 with 1 Axes>"
      ]
     },
     "metadata": {
      "needs_background": "light"
     },
     "output_type": "display_data"
    }
   ],
   "source": [
    "fig, ax = plt.subplots(figsize=(12,8))\n",
    "hist, edges, patches = ax.hist(np.log10(masses))\n",
    "ax.set_xlabel('Log Contrast Ratio')\n",
    "ax.set_ylabel('Number of Planets')"
   ]
  },
  {
   "cell_type": "code",
   "execution_count": null,
   "metadata": {},
   "outputs": [],
   "source": []
  }
 ],
 "metadata": {
  "kernelspec": {
   "display_name": "Python 3",
   "language": "python",
   "name": "python3"
  },
  "language_info": {
   "codemirror_mode": {
    "name": "ipython",
    "version": 3
   },
   "file_extension": ".py",
   "mimetype": "text/x-python",
   "name": "python",
   "nbconvert_exporter": "python",
   "pygments_lexer": "ipython3",
   "version": "3.6.8"
  }
 },
 "nbformat": 4,
 "nbformat_minor": 2
}
