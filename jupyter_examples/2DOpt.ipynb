{
 "cells": [
  {
   "cell_type": "code",
   "execution_count": 143,
   "metadata": {},
   "outputs": [],
   "source": [
    "import matplotlib.pyplot as plt\n",
    "import pandas as pd\n",
    "from random import uniform\n",
    "import numpy as np\n",
    "from numpy import pi\n",
    "import swarms\n",
    "from random import randint, seed, uniform\n",
    "\n",
    "from swarms import MMOON, MJUP, RJUP, AU, REARTH, MEARTH, PC, MSUN, LSUN, YEAR, MICRON, KM"
   ]
  },
  {
   "cell_type": "code",
   "execution_count": 144,
   "metadata": {},
   "outputs": [],
   "source": [
    "def loguniform(minval, maxval):\n",
    "    return 10**uniform(np.log10(minval), np.log10(maxval))\n",
    "\n",
    "def Mbol_to_L(M):\n",
    "    return 10**(0.4*(4.74-M))\n",
    "\n",
    "def distance_sampler(mean, std):\n",
    "    s = 0\n",
    "    while s <= 0:\n",
    "        s = random.normal(loc=mean, scale=std)\n",
    "    return s\n",
    "\n",
    "def draw_planet(star, age, a, IWA=0.2, OWA=1.2):\n",
    "    Mmin = 21 # Mearth (Nep)\n",
    "    Mmax = 5*318 # Mearth (Jup)\n",
    "    # Draw mass from Nep to 13 Mjup according to m^-0.86 Clanton 16\n",
    "    totoccurrence = 1.\n",
    "    Npts = 1000\n",
    "    alpha = -0.86\n",
    "    Q = 0.5 # planet albedo\n",
    "    ms = np.linspace(Mmin, Mmax, Npts)\n",
    "    pdf = ms**(alpha-1) # dN/dlogM = dN/dM * m, so dN/dM \\propto m^(alpha-1)\n",
    "    cumpdf = np.cumsum(pdf)/pdf.sum() * totoccurrence\n",
    "    randv = np.random.uniform()\n",
    "    idx = np.searchsorted(cumpdf, randv)\n",
    "    if idx == len(cumpdf):\n",
    "        return None # didn't draw a planet\n",
    "    else:\n",
    "        #print(\"a in notebook: {0:.3e}\".format(a))\n",
    "        return swarms.Planet(star, M=ms[idx]*MEARTH , R=None, a=a, Q=Q, Z='002', age=age)"
   ]
  },
  {
   "cell_type": "code",
   "execution_count": 145,
   "metadata": {},
   "outputs": [],
   "source": [
    "def aoptChar(Lstar, Mstar, Tstar, Mtot, tage, dpl, a):\n",
    "    star = swarms.Star(Lstar, Mstar, Tstar, d=dpl)\n",
    "    planet = draw_planet(star, tage, a)\n",
    "    if planet is None:\n",
    "        return aoptChar(Mstar, Mtot, tage, dapl) # do it again\n",
    "    Dc = loguniform(1e4, 1e6) # m\n",
    "    rho = 1000 # kg/m^3\n",
    "    eta = 0.3 # eta\n",
    "    Dt = loguniform(10, 1000) # m\n",
    "    Nstr = 6\n",
    "    Dmax = Dc\n",
    "    fQ = loguniform(1,10)\n",
    "    f_vrel = 4./pi\n",
    "\n",
    "    return aopt11(star, Mtot, 1e6*YEAR, planet, Dt, Nstr, fQ, Dc, rho, eta, charFactor=1., f_vrel=4./pi), star.Imag"
   ]
  },
  {
   "cell_type": "code",
   "execution_count": 146,
   "metadata": {},
   "outputs": [],
   "source": [
    "def aopt11(star, Mtot, age, planet, Dt, Nstr, fQ, Dc, rho, eta, charFactor=1., f_vrel=4./pi):\n",
    "    return AU * charFactor * 65. * (fQ/5.)**0.15 * (eta/0.3)**(-1.) * (rho/1000.)**(-0.39) * (Dc/(KM * 100.))**(-0.43) * (planet.M/MJUP)**(-0.06) * (star.M/MSUN)**0.33 * (age/(1e6*YEAR))**0.24 * (Mtot/MEARTH)**0.24  "
   ]
  },
  {
   "cell_type": "code",
   "execution_count": 147,
   "metadata": {},
   "outputs": [],
   "source": [
    "# Set up 23 star types from A0 to M4\n",
    "# Ls in Lsun\n",
    "# Ts in Kelvin\n",
    "# Ms in Msun\n",
    "Mags = [1.24, 1.64, 1.95, 2.28, 2.61, 2.95, 3.27, 3.58, 3.86, 4.12, 4.33, 4.54, 4.71, 4.9, 5.09, 5.31, 5.62, 6.02, 6.44, 6.88, 7.55, 8.69, 10.14]\n",
    "Ts = [9700, 9040, 8620, 8200, 7800, 7420, 7040, 6690, 6400, 6150, 5950, 5770, 5640, 5510, 5370, 5200, 4930, 4590, 4260, 3990, 3700, 3400, 3100]\n",
    "Ms = [2.07, 1.94, 1.79, 1.66, 1.53, 1.4, 1.31, 1.23, 1.16, 1.09, 1.04, 0.986, 0.933, 0.879, 0.829, 0.781, 0.738, 0.693, 0.647, 0.585, 0.454, 0.262, 0.124]\n",
    "\n",
    "Ls = [Mbol_to_L(Mags[i]) for i in range(len(Mags))]\n",
    "\n",
    "M0 = 1.*MEARTH\n",
    "age = 30e6*YEAR\n",
    "apl = np.logspace(0, 2.5, 23)"
   ]
  },
  {
   "cell_type": "code",
   "execution_count": 148,
   "metadata": {},
   "outputs": [],
   "source": [
    "# Convert all arrays into SI\n",
    "Ls = np.array(Ls)*LSUN\n",
    "Ms = np.array(Ms)*MSUN\n",
    "dpl = np.array(apl)/0.7\n",
    "dpl = dpl*PC\n",
    "apl = apl*AU"
   ]
  },
  {
   "cell_type": "code",
   "execution_count": 149,
   "metadata": {},
   "outputs": [],
   "source": [
    "# create the mesh\n",
    "TS, DPL = np.meshgrid(Ts, dpl)\n",
    "LS, DPL = np.meshgrid(Ls, dpl)\n",
    "MS, DPL = np.meshgrid(Ms, dpl)\n",
    "APL, DPL = np.meshgrid(apl, dpl)"
   ]
  },
  {
   "cell_type": "code",
   "execution_count": 150,
   "metadata": {},
   "outputs": [],
   "source": [
    "AOPT, IMAG = aoptChar(LS, MS, TS, M0, age, DPL, APL)"
   ]
  },
  {
   "cell_type": "code",
   "execution_count": 151,
   "metadata": {},
   "outputs": [],
   "source": [
    "MSIMAG = []\n",
    "IMAGREAL = []\n",
    "DPLIMAG = []\n",
    "for i in range(len(IMAG)):\n",
    "    temp_MS = []\n",
    "    temp_IMAG = []\n",
    "    temp_DPL = []\n",
    "    for j in range(len(IMAG)):\n",
    "        if not (np.isnan(IMAG[i][j]) or np.isinf(IMAG[i][j])):\n",
    "            temp_IMAG.append(IMAG[i][j])\n",
    "            temp_MS.append(MS[i][j])\n",
    "            temp_DPL.append(DPL[i][j])\n",
    "    MSIMAG.append(temp_MS)\n",
    "    IMAGREAL.append(temp_IMAG)\n",
    "    DPLIMAG.append(temp_DPL)\n",
    "    \n",
    "MSIMAG = np.array(MSIMAG)\n",
    "IMAGREAL = np.array(IMAGREAL)\n",
    "DPLIMAG = np.array(DPLIMAG)"
   ]
  },
  {
   "cell_type": "code",
   "execution_count": 152,
   "metadata": {},
   "outputs": [
    {
     "data": {
      "text/plain": [
       "Text(0.5,1,'Hard code equation')"
      ]
     },
     "execution_count": 152,
     "metadata": {},
     "output_type": "execute_result"
    },
    {
     "data": {
      "image/png": "[encoded data removed]",
      "text/plain": [
       "<Figure size 432x288 with 1 Axes>"
      ]
     },
     "metadata": {
      "needs_background": "light"
     },
     "output_type": "display_data"
    }
   ],
   "source": [
    "# plot contour map\n",
    "fig, ax = plt.subplots()\n",
    "CS = ax.contour(DPL/PC, MS/MSUN, AOPT/AU, colors='r')\n",
    "CS2 = ax.contour(DPLIMAG/PC, MSIMAG/MSUN, IMAGREAL, colors='b')\n",
    "ax.clabel(CS, inline=1, fontsize=10, fmt='%1i')\n",
    "ax.clabel(CS2, inline=1, fontsize=10, fmt='%1i')\n",
    "#ax.set_xscale('log')\n",
    "ax.set_yscale('log')\n",
    "ax.set_title('Hard code equation')"
   ]
  },
  {
   "cell_type": "code",
   "execution_count": 153,
   "metadata": {},
   "outputs": [],
   "source": [
    "def sample():\n",
    "    Dc = loguniform(1e4, 1e6) # m\n",
    "    rho = 1000 # kg/m^3\n",
    "    eta = 0.3 # eta\n",
    "    Q = loguniform(0.05, 0.25) # Q_bd = [0, 0.8]\n",
    "    g = loguniform(0.2, 0.8) # 0.32 https://arxiv.org/pdf/1709.00417.pdf\n",
    "    Dt = loguniform(10, 1000) # m\n",
    "    Nstr = 6\n",
    "    Dmax = Dc\n",
    "    fQ = loguniform(1,10)\n",
    "    \n",
    "    return Dc, rho, eta, Q, g, Dt, Nstr, Dmax, fQ"
   ]
  },
  {
   "cell_type": "code",
   "execution_count": 154,
   "metadata": {},
   "outputs": [],
   "source": [
    "def findAopt(Lstar, Mstar, Tstar, dpl, Dc, rho, eta, Q, g, Dt, Nstr, Dmax, fQ, age, a):\n",
    "    star = swarms.Star(Lstar, Mstar, Tstar, d=dpl)\n",
    "    planet = swarms.Planet(star, M=318*MEARTH , R=None, a=a, Q=Q, Z='002', age=age)\n",
    "    swarm = swarms.CollSwarm(star, planet, M0, Dt, Dmax, Q=Q, eta=eta, Nstr=Nstr, \n",
    "                        rho=rho, fQ=fQ, correction=True, Dmin_min=lamb, age=age)\n",
    "    \n",
    "    a_opt = swarm.computeaopt(t=age)\n",
    "    return a_opt, star.Imag"
   ]
  },
  {
   "cell_type": "code",
   "execution_count": 155,
   "metadata": {},
   "outputs": [],
   "source": [
    "AOPT = np.zeros((len(TS), len(TS[0])))\n",
    "IMAG = np.zeros((len(TS), len(TS[0])))\n",
    "\n",
    "Dc, rho, eta, Q, g, Dt, Nstr, Dmax, fQ = sample()\n",
    "M0 = 1.*MEARTH\n",
    "age = 30e6*YEAR\n",
    "lamb = 1.*MICRON"
   ]
  },
  {
   "cell_type": "code",
   "execution_count": 156,
   "metadata": {},
   "outputs": [],
   "source": [
    "for i in range(len(TS)):\n",
    "    for j in range(len(TS[0])):\n",
    "        AOPT[i][j], IMAG[i][j] = findAopt(LS[i][j], MS[i][j], TS[i][j], DPL[i][j], Dc, rho, eta, Q, g, Dt, Nstr, Dmax, fQ, age, APL[i][j])"
   ]
  },
  {
   "cell_type": "code",
   "execution_count": 157,
   "metadata": {},
   "outputs": [],
   "source": [
    "MSIMAG = []\n",
    "IMAGREAL = []\n",
    "DPLIMAG = []\n",
    "for i in range(len(IMAG)):\n",
    "    temp_MS = []\n",
    "    temp_IMAG = []\n",
    "    temp_DPL = []\n",
    "    for j in range(len(IMAG)):\n",
    "        if not (np.isnan(IMAG[i][j]) or np.isinf(IMAG[i][j])):\n",
    "            temp_IMAG.append(IMAG[i][j])\n",
    "            temp_MS.append(MS[i][j])\n",
    "            temp_DPL.append(DPL[i][j])\n",
    "    MSIMAG.append(temp_MS)\n",
    "    IMAGREAL.append(temp_IMAG)\n",
    "    DPLIMAG.append(temp_DPL)\n",
    "    \n",
    "MSIMAG = np.array(MSIMAG)\n",
    "IMAGREAL = np.array(IMAGREAL)\n",
    "DPLIMAG = np.array(DPLIMAG)"
   ]
  },
  {
   "cell_type": "code",
   "execution_count": 158,
   "metadata": {},
   "outputs": [
    {
     "data": {
      "text/plain": [
       "Text(0.5,0,'distance [pc]')"
      ]
     },
     "execution_count": 158,
     "metadata": {},
     "output_type": "execute_result"
    },
    {
     "data": {
      "image/png": "[encoded data removed]",
      "text/plain": [
       "<Figure size 432x288 with 1 Axes>"
      ]
     },
     "metadata": {
      "needs_background": "light"
     },
     "output_type": "display_data"
    }
   ],
   "source": [
    "# plot contour map\n",
    "fig, ax = plt.subplots()\n",
    "CS = ax.contour(DPL/PC, MS/MSUN, AOPT/AU, colors='r')\n",
    "CS2 = ax.contour(DPLIMAG/PC, MSIMAG/MSUN, IMAGREAL, colors='b')\n",
    "ax.clabel(CS, inline=1, fontsize=10, fmt='%1i')\n",
    "ax.clabel(CS2, inline=1, fontsize=10, fmt='%1i')\n",
    "#ax.set_xscale('log')\n",
    "ax.set_yscale('log')\n",
    "ax.set_ylabel('Mstar [Msun]')\n",
    "ax.set_xlabel('distance [pc]')"
   ]
  }
 ],
 "metadata": {
  "kernelspec": {
   "display_name": "Python 3",
   "language": "python",
   "name": "python3"
  },
  "language_info": {
   "codemirror_mode": {
    "name": "ipython",
    "version": 3
   },
   "file_extension": ".py",
   "mimetype": "text/x-python",
   "name": "python",
   "nbconvert_exporter": "python",
   "pygments_lexer": "ipython3",
   "version": "3.6.8"
  }
 },
 "nbformat": 4,
 "nbformat_minor": 2
}
