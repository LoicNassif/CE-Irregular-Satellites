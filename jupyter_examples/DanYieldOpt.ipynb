{
 "cells": [
  {
   "cell_type": "code",
   "execution_count": 1,
   "metadata": {},
   "outputs": [],
   "source": [
    "import matplotlib.pyplot as plt\n",
    "import pandas as pd\n",
    "from random import uniform\n",
    "import numpy as np\n",
    "from numpy import random, pi, array\n",
    "import swarms\n",
    "import pread as pds\n",
    "from random import randint, seed, uniform"
   ]
  },
  {
   "cell_type": "code",
   "execution_count": 2,
   "metadata": {},
   "outputs": [],
   "source": [
    "Mmoon = 7.35e22\n",
    "Mjup = 1.898e27\n",
    "Rjup = 7.1492e7\n",
    "AU = 1.496e11\n",
    "Rearth = 6.3781e6\n",
    "Mearth = 5.972e24\n",
    "pc = 3.086e16\n",
    "Msun = 1.989e30\n",
    "Lsun = 3.828e26\n",
    "Year = 3.154e7 # seconds\n",
    "KM = 1e3\n",
    "MICRON = 1e-6"
   ]
  },
  {
   "cell_type": "code",
   "execution_count": 3,
   "metadata": {},
   "outputs": [],
   "source": [
    "def loguniform(minval, maxval):\n",
    "    return 10**uniform(np.log10(minval), np.log10(maxval))\n",
    "\n",
    "def star_samplerM(mean=2., std=1.):\n",
    "    '''\n",
    "    Mstar = None\n",
    "    Lstar = None\n",
    "    Tstar = None\n",
    "    dpl = None\n",
    "    \n",
    "    sample = int(random.normal(loc=mean, scale=std))\n",
    "    sampled_type = 'M' + str(sample)\n",
    "    for i in range(len(GPI['S_Type'])):\n",
    "        if sampled_type in GPI['S_Type'][i]:\n",
    "            Tstar = GPI['Teff'][i]\n",
    "            Lstar = GPI['Lum'][i]*Lsun\n",
    "            Mstar = GPI['Mass'][i]*Msun\n",
    "            dpl = GPI['Distance_distance'][i]*pc\n",
    "            break\n",
    "    '''\n",
    "    # Table 1 (KALTENEGGER & TRAUB) https://arxiv.org/ftp/arxiv/papers/0903/0903.3371.pdf\n",
    "    ML = [7.2/100., 3.5/100., 2.3/100., 1.5/100., 0.55/100., 0.22/100., 0.09/100., 0.05/100., 0.03/100., 0.015/100.]\n",
    "    MM = [0.60, 0.49, 0.44, 0.36, 0.20, 0.14, 0.10, 0.09, 0.08, 0.075]\n",
    "    MT = [3800, 3600, 3400, 3250, 3100, 2800, 2600, 2500, 2400, 2300]\n",
    "    sample = -1\n",
    "    while sample < 0 or sample > 9:\n",
    "        sample = int(random.normal(loc=mean, scale=std))\n",
    "    \n",
    "    return swarms.Star(M=MM[sample]*Msun, L=ML[sample]*Lsun, T=MT[sample], d=0) # M star    \n",
    "\n",
    "def distance_sampler(mean, std):\n",
    "    s = 0\n",
    "    while s <= 0:\n",
    "        s = random.normal(loc=mean, scale=std)\n",
    "    return s\n",
    "\n",
    "def draw_planet(star, age, IWA=0.2, OWA=1.2):\n",
    "    Mmin = 21 # Mearth (Nep)\n",
    "    Mmax = 5*318 # Mearth (Jup)\n",
    "    # Draw mass from Nep to 13 Mjup according to m^-0.86 Clanton 16\n",
    "    totoccurrence = 1.\n",
    "    Npts = 1000\n",
    "    alpha = -0.86\n",
    "    Q = 0.5 # planet albedo\n",
    "    ms = np.linspace(Mmin, Mmax, Npts)\n",
    "    pdf = ms**(alpha-1) # dN/dlogM = dN/dM * m, so dN/dM \\propto m^(alpha-1)\n",
    "    cumpdf = np.cumsum(pdf)/pdf.sum() * totoccurrence\n",
    "    randv = np.random.uniform()\n",
    "    idx = np.searchsorted(cumpdf, randv)\n",
    "    if idx == len(cumpdf):\n",
    "        return None # didn't draw a planet\n",
    "    else:\n",
    "        # draw semimajor axis\n",
    "#         amin = star.d/pc*IWA# AU\n",
    "#         amax = star.d/pc*OWA # AU\n",
    "        amin = 0.01 # AU\n",
    "        amax = 200 # AU\n",
    "        a = loguniform(amin, amax)\n",
    "        #print(\"a in notebook: {0:.3e}\".format(a))\n",
    "        return swarms.Planet(star, M=ms[idx]*Mearth , R=None, a=a*AU, Q=Q, Z='002', age=age)\n",
    "\n",
    "def inverse_cdf(y):\n",
    "    A = -0.785\n",
    "    B = 0.603\n",
    "    return 10**((y - A)/B)  \n",
    "\n",
    "def age_sampler():\n",
    "    y = uniform(0, 1)\n",
    "    age = inverse_cdf(y)\n",
    "    if age > 100:\n",
    "        return age_sampler()\n",
    "    return age*1e6 * Year\n",
    "\n",
    "def computeQd(D, rho, fQ):\n",
    "    \"\"\"Compute the planetesimal strength of an object.\"\"\"\n",
    "    return 0.1*rho*(D/KM)**1.26/fQ"
   ]
  },
  {
   "cell_type": "code",
   "execution_count": 4,
   "metadata": {},
   "outputs": [],
   "source": [
    "def aoptChar(Lstar, Mstar, Tstar, Mtot, tage):\n",
    "    star = swarms.Star(Lstar, Mstar, Tstar, d=0)\n",
    "    planet = draw_planet(star, tage)\n",
    "    if planet is None:\n",
    "        return aoptChar(Mstar, Mtot, tage) # do it again\n",
    "    Dc = loguniform(1e4, 1e6) # m\n",
    "    rho = 1000 # kg/m^3\n",
    "    eta = 0.3 # eta\n",
    "    Dt = loguniform(10, 1000) # m\n",
    "    Nstr = 6\n",
    "    Dmax = Dc\n",
    "    fQ = loguniform(1,10)\n",
    "    f_vrel = 4./pi\n",
    "  \n",
    "    return aopt11(star, Mtot, 1e6*Year, planet, Dt, Nstr, fQ, Dc, rho, eta, charFactor=1., f_vrel=4./pi)\n",
    "#     part1 = (Mstar/Msun)**0.33 * f_vrel**0.55\n",
    "#     part2 = (planet.M/Mearth)**0.06 * computeQd(Dc, rho, fQ)**0.15 * eta\n",
    "#     #part3 = tage / (Year) * Mtot/Mearth / rho / (Dc/KM)\n",
    "#     part3 = tage / (1e6*Year) * Mtot/Mearth / rho / (Dc/KM)\n",
    "#     return 50. * part1 / part2 * part3**0.24 * AU"
   ]
  },
  {
   "cell_type": "code",
   "execution_count": 5,
   "metadata": {},
   "outputs": [],
   "source": [
    "def aoptClean(star, Mtot, age, planet, Dt, Nstr, fQ, Dc, rho, eta, charFactor=1., f_vrel=4./pi):\n",
    "    part1 = (star.M/Msun)**0.33 * f_vrel**0.55\n",
    "    part2 = (planet.M/Mearth)**0.06 * computeQd(Dc, rho, fQ)**0.15 * eta\n",
    "    part3 = age / (1e6*Year) * Mtot/Mearth / rho / (Dc/KM)\n",
    "    return charFactor * 50. * part1 / part2 * part3**0.24 * AU"
   ]
  },
  {
   "cell_type": "code",
   "execution_count": 6,
   "metadata": {},
   "outputs": [],
   "source": [
    "def aopt11(star, Mtot, age, planet, Dt, Nstr, fQ, Dc, rho, eta, charFactor=1., f_vrel=4./pi):\n",
    "    return AU * charFactor * 65. * (fQ/5.)**0.15 * (eta/0.3)**(-1.) * (rho/1000.)**(-0.39) * (Dc/(KM * 100.))**(-0.43) * (planet.M/Mjup)**(-0.06) * (star.M/Msun)**0.33 * (age/(1e6*Year))**0.24 * (Mtot/Mearth)**0.24  "
   ]
  },
  {
   "cell_type": "markdown",
   "metadata": {},
   "source": [
    "## Distribution of aopt given characteristic values"
   ]
  },
  {
   "cell_type": "code",
   "execution_count": 7,
   "metadata": {},
   "outputs": [],
   "source": [
    "Mstar = 0.6*Msun\n",
    "Lstar = 0.072*Lsun\n",
    "Tstar = 3800\n",
    "aopt = []\n",
    "for i in range(500):\n",
    "    aopt.append(aoptChar(Lstar, Mstar, Tstar, Mearth, 30e6*Year)/AU)"
   ]
  },
  {
   "cell_type": "code",
   "execution_count": 8,
   "metadata": {
    "scrolled": true
   },
   "outputs": [
    {
     "data": {
      "text/plain": [
       "(array([106., 103.,  82.,  62.,  45.,  40.,  26.,  14.,  17.,   5.]),\n",
       " array([ 17.43467389,  33.39245209,  49.35023029,  65.30800849,\n",
       "         81.26578668,  97.22356488, 113.18134308, 129.13912128,\n",
       "        145.09689947, 161.05467767, 177.01245587]),\n",
       " <a list of 10 Patch objects>)"
      ]
     },
     "execution_count": 8,
     "metadata": {},
     "output_type": "execute_result"
    },
    {
     "name": "stderr",
     "output_type": "stream",
     "text": [
      "/Users/dtamayo/miniconda3/envs/p3/lib/python3.7/site-packages/matplotlib/font_manager.py:1331: UserWarning: findfont: Font family ['serif'] not found. Falling back to DejaVu Sans\n",
      "  (prop.get_family(), self.defaultFamily[fontext]))\n"
     ]
    },
    {
     "data": {
      "image/png": "[encoded data removed]",
      "text/plain": [
       "<Figure size 432x288 with 1 Axes>"
      ]
     },
     "metadata": {
      "needs_background": "light"
     },
     "output_type": "display_data"
    }
   ],
   "source": [
    "fig, ax = plt.subplots()\n",
    "ax.set_title(\"f(params) [AU]; M0=1MEarth; Star=M0\")\n",
    "#ax.hist(np.log10(np.array(aopt)))\n",
    "ax.hist(np.array(aopt))"
   ]
  },
  {
   "cell_type": "markdown",
   "metadata": {},
   "source": [
    "## Sampling Stars"
   ]
  },
  {
   "cell_type": "code",
   "execution_count": 11,
   "metadata": {},
   "outputs": [],
   "source": [
    "def sample(M0, lamb):\n",
    "    ageChar = 30e6*Year\n",
    "    star = swarms.Star(0.072*Lsun, 0.60*Msun, 3800, d=0) # M0\n",
    "    age = age_sampler()\n",
    "    \n",
    "    planet = draw_planet(star, age=age)\n",
    "    if planet is None:\n",
    "        return sample(M0, lamb) # do it again\n",
    "    \n",
    "    Dc = loguniform(1e4, 1e6) # m\n",
    "    rho = 1000 # kg/m^3\n",
    "    eta = 0.3 # eta\n",
    "    Q = loguniform(0.05, 0.25) # Q_bd = [0, 0.8]\n",
    "    g = loguniform(0.2, 0.8) # 0.32 https://arxiv.org/pdf/1709.00417.pdf\n",
    "    Dt = loguniform(10, 1000) # m\n",
    "    Nstr = 6\n",
    "    Dmax = Dc\n",
    "    fQ = loguniform(1,10)\n",
    "    swarm = swarms.CollSwarm(star, planet, M0, Dt, Dmax, Q=Q, eta=eta, Nstr=Nstr, \n",
    "                        rho=rho, fQ=fQ, correction=True, Dmin_min=lamb, age=age)\n",
    "    \n",
    "    a_opt = swarm.computeaopt(t=age)\n",
    "    return a_opt, age"
   ]
  },
  {
   "cell_type": "code",
   "execution_count": 12,
   "metadata": {},
   "outputs": [],
   "source": [
    "seed(0)\n",
    "M0 = 1*Mearth\n",
    "lamb = 1.65e-6\n",
    "Nsamples = 300\n",
    "a_opt, age = np.zeros(Nsamples), np.zeros(Nsamples)\n",
    "for i in range(Nsamples):\n",
    "    a_opt[i], age[i] = sample(M0, lamb)\n",
    "    #print(\"i: \"+str(i)+\"  d_opt: \"+str(d_opt[i]))"
   ]
  },
  {
   "cell_type": "code",
   "execution_count": 13,
   "metadata": {},
   "outputs": [
    {
     "data": {
      "text/plain": [
       "(array([66., 41., 39., 22., 28., 20., 30., 17., 19., 18.]),\n",
       " array([20.05503283, 28.03318353, 36.01133422, 43.98948492, 51.96763561,\n",
       "        59.94578631, 67.923937  , 75.9020877 , 83.88023839, 91.85838909,\n",
       "        99.83653978]),\n",
       " <a list of 10 Patch objects>)"
      ]
     },
     "execution_count": 13,
     "metadata": {},
     "output_type": "execute_result"
    },
    {
     "name": "stderr",
     "output_type": "stream",
     "text": [
      "/Users/dtamayo/miniconda3/envs/p3/lib/python3.7/site-packages/matplotlib/font_manager.py:1331: UserWarning: findfont: Font family ['serif'] not found. Falling back to DejaVu Sans\n",
      "  (prop.get_family(), self.defaultFamily[fontext]))\n"
     ]
    },
    {
     "data": {
      "image/png": "[encoded data removed]",
      "text/plain": [
       "<Figure size 432x288 with 1 Axes>"
      ]
     },
     "metadata": {
      "needs_background": "light"
     },
     "output_type": "display_data"
    }
   ],
   "source": [
    "fig, ax = plt.subplots()\n",
    "ax.set_title(\"Ages; M0=1MEarth; Star=M0\")\n",
    "ax.hist(age/Year/1e6)"
   ]
  },
  {
   "cell_type": "code",
   "execution_count": 14,
   "metadata": {},
   "outputs": [
    {
     "data": {
      "text/plain": [
       "(array([68., 59., 42., 33., 34., 26., 12., 10., 10.,  6.]),\n",
       " array([ 40.27777298,  82.83101672, 125.38426046, 167.93750419,\n",
       "        210.49074793, 253.04399167, 295.59723541, 338.15047915,\n",
       "        380.70372289, 423.25696663, 465.81021037]),\n",
       " <a list of 10 Patch objects>)"
      ]
     },
     "execution_count": 14,
     "metadata": {},
     "output_type": "execute_result"
    },
    {
     "name": "stderr",
     "output_type": "stream",
     "text": [
      "/Users/dtamayo/miniconda3/envs/p3/lib/python3.7/site-packages/matplotlib/font_manager.py:1331: UserWarning: findfont: Font family ['serif'] not found. Falling back to DejaVu Sans\n",
      "  (prop.get_family(), self.defaultFamily[fontext]))\n"
     ]
    },
    {
     "data": {
      "image/png": "[encoded data removed]",
      "text/plain": [
       "<Figure size 432x288 with 1 Axes>"
      ]
     },
     "metadata": {
      "needs_background": "light"
     },
     "output_type": "display_data"
    }
   ],
   "source": [
    "fig, ax = plt.subplots()\n",
    "ax.set_title(\"a_opt [AU]; M0=1e-6MEarth; Star=M0\")\n",
    "ax.hist(a_opt/AU)\n",
    "#ax.hist(a_opt[a_opt < 5.e13]/AU)"
   ]
  }
 ],
 "metadata": {
  "kernelspec": {
   "display_name": "Python 3",
   "language": "python",
   "name": "python3"
  },
  "language_info": {
   "codemirror_mode": {
    "name": "ipython",
    "version": 3
   },
   "file_extension": ".py",
   "mimetype": "text/x-python",
   "name": "python",
   "nbconvert_exporter": "python",
   "pygments_lexer": "ipython3",
   "version": "3.7.1"
  }
 },
 "nbformat": 4,
 "nbformat_minor": 2
}
