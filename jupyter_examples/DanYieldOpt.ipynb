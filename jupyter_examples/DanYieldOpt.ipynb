{
 "cells": [
  {
   "cell_type": "code",
   "execution_count": 1,
   "metadata": {},
   "outputs": [],
   "source": [
    "import matplotlib.pyplot as plt\n",
    "import pandas as pd\n",
    "from random import uniform\n",
    "import numpy as np\n",
    "from numpy import random, pi, array\n",
    "import swarms\n",
    "import pread as pds\n",
    "from random import randint, seed, uniform\n",
    "\n",
    "from swarms import YEAR, KM, MSUN, LSUN, TSUN, AU, PC, MEARTH, REARTH, MMOON, MJUP, RJUP, MICRON  "
   ]
  },
  {
   "cell_type": "code",
   "execution_count": 2,
   "metadata": {},
   "outputs": [],
   "source": [
    "def loguniform(minval, maxval):\n",
    "    return 10**uniform(np.log10(minval), np.log10(maxval))\n",
    "\n",
    "def star_samplerM(mean=2., std=1.):\n",
    "    '''\n",
    "    Mstar = None\n",
    "    Lstar = None\n",
    "    Tstar = None\n",
    "    dpl = None\n",
    "    \n",
    "    sample = int(random.normal(loc=mean, scale=std))\n",
    "    sampled_type = 'M' + str(sample)\n",
    "    for i in range(len(GPI['S_Type'])):\n",
    "        if sampled_type in GPI['S_Type'][i]:\n",
    "            Tstar = GPI['Teff'][i]\n",
    "            Lstar = GPI['Lum'][i]*Lsun\n",
    "            Mstar = GPI['Mass'][i]*Msun\n",
    "            dpl = GPI['Distance_distance'][i]*pc\n",
    "            break\n",
    "    '''\n",
    "    # Table 1 (KALTENEGGER & TRAUB) https://arxiv.org/ftp/arxiv/papers/0903/0903.3371.pdf\n",
    "    ML = [7.2/100., 3.5/100., 2.3/100., 1.5/100., 0.55/100., 0.22/100., 0.09/100., 0.05/100., 0.03/100., 0.015/100.]\n",
    "    MM = [0.60, 0.49, 0.44, 0.36, 0.20, 0.14, 0.10, 0.09, 0.08, 0.075]\n",
    "    MT = [3800, 3600, 3400, 3250, 3100, 2800, 2600, 2500, 2400, 2300]\n",
    "    sample = -1\n",
    "    while sample < 0 or sample > 9:\n",
    "        sample = int(random.normal(loc=mean, scale=std))\n",
    "    \n",
    "    return swarms.Star(M=MM[sample]*MSUN, L=ML[sample]*LSUN, T=MT[sample], d=0) # M star    \n",
    "\n",
    "def distance_sampler(mean, std):\n",
    "    s = 0\n",
    "    while s <= 0:\n",
    "        s = random.normal(loc=mean, scale=std)\n",
    "    return s\n",
    "\n",
    "def draw_planet(star, age, IWA=0.2, OWA=1.2):\n",
    "    Mmin = 21 # Mearth (Nep)\n",
    "    Mmax = 5*318 # Mearth (Jup)\n",
    "    # Draw mass from Nep to 13 Mjup according to m^-0.86 Clanton 16\n",
    "    totoccurrence = 1.\n",
    "    Npts = 1000\n",
    "    alpha = -0.86\n",
    "    Q = 0.5 # planet albedo\n",
    "    ms = np.linspace(Mmin, Mmax, Npts)\n",
    "    pdf = ms**(alpha-1) # dN/dlogM = dN/dM * m, so dN/dM \\propto m^(alpha-1)\n",
    "    cumpdf = np.cumsum(pdf)/pdf.sum() * totoccurrence\n",
    "    randv = np.random.uniform()\n",
    "    idx = np.searchsorted(cumpdf, randv)\n",
    "    if idx == len(cumpdf):\n",
    "        return None # didn't draw a planet\n",
    "    else:\n",
    "        # draw semimajor axis\n",
    "#         amin = star.d/pc*IWA# AU\n",
    "#         amax = star.d/pc*OWA # AU\n",
    "        amin = 0.01 # AU\n",
    "        amax = 200 # AU\n",
    "        a = loguniform(amin, amax)\n",
    "        #print(\"a in notebook: {0:.3e}\".format(a))\n",
    "        return swarms.Planet(star, M=ms[idx]*MEARTH , R=None, a=a*AU, Q=Q, Z='002', age=age)\n",
    "\n",
    "def inverse_cdf(y):\n",
    "    A = -0.785\n",
    "    B = 0.603\n",
    "    return 10**((y - A)/B)  \n",
    "\n",
    "def age_sampler():\n",
    "    y = uniform(0, 1)\n",
    "    age = inverse_cdf(y)\n",
    "    if age > 100:\n",
    "        return age_sampler()\n",
    "    return age*1e6 * YEAR\n",
    "\n",
    "def computeQd(D, rho, fQ):\n",
    "    \"\"\"Compute the planetesimal strength of an object.\"\"\"\n",
    "    return 0.1*rho*(D/KM)**1.26/fQ"
   ]
  },
  {
   "cell_type": "code",
   "execution_count": 3,
   "metadata": {},
   "outputs": [],
   "source": [
    "def aoptChar(Lstar, Mstar, Tstar, Mtot, tage):\n",
    "    star = swarms.Star(Lstar, Mstar, Tstar, d=0)\n",
    "    planet = draw_planet(star, tage)\n",
    "    if planet is None:\n",
    "        return aoptChar(Mstar, Mtot, tage) # do it again\n",
    "    Dc = loguniform(1e4, 1e6) # m\n",
    "    rho = 1000 # kg/m^3\n",
    "    eta = 0.3 # eta\n",
    "    Dt = loguniform(10, 1000) # m\n",
    "    Nstr = 6\n",
    "    Dmax = Dc\n",
    "    fQ = loguniform(1,10)\n",
    "    f_vrel = 4./pi\n",
    "  \n",
    "    return aopt11(star, Mtot, 1e6*YEAR, planet, Dt, Nstr, fQ, Dc, rho, eta, charFactor=1., f_vrel=4./pi)\n"
   ]
  },
  {
   "cell_type": "code",
   "execution_count": 4,
   "metadata": {},
   "outputs": [],
   "source": [
    "def aopt11(star, Mtot, age, planet, Dt, Nstr, fQ, Dc, rho, eta, charFactor=1., f_vrel=4./pi):\n",
    "    return AU * charFactor * 65. * (fQ/5.)**0.15 * (eta/0.3)**(-1.) * (rho/1000.)**(-0.39) * (Dc/(KM * 100.))**(-0.43) * (planet.M/MJUP)**(-0.06) * (star.M/MSUN)**0.33 * (age/(1e6*YEAR))**0.24 * (Mtot/MEARTH)**0.24  "
   ]
  },
  {
   "cell_type": "markdown",
   "metadata": {},
   "source": [
    "## Distribution of aopt given characteristic values"
   ]
  },
  {
   "cell_type": "code",
   "execution_count": 5,
   "metadata": {},
   "outputs": [],
   "source": [
    "Mstar = 0.6*MSUN\n",
    "Lstar = 0.072*LSUN\n",
    "Tstar = 3800\n",
    "aopt = []\n",
    "for i in range(500):\n",
    "    aopt.append(aoptChar(Lstar, Mstar, Tstar, MEARTH, 30e6*YEAR)/AU)"
   ]
  },
  {
   "cell_type": "code",
   "execution_count": 6,
   "metadata": {
    "scrolled": true
   },
   "outputs": [
    {
     "data": {
      "text/plain": [
       "(array([116., 111.,  66.,  47.,  53.,  37.,  25.,  25.,  15.,   5.]),\n",
       " array([ 16.85094457,  33.06303013,  49.27511569,  65.48720124,\n",
       "         81.6992868 ,  97.91137236, 114.12345791, 130.33554347,\n",
       "        146.54762903, 162.75971458, 178.97180014]),\n",
       " <a list of 10 Patch objects>)"
      ]
     },
     "execution_count": 6,
     "metadata": {},
     "output_type": "execute_result"
    },
    {
     "data": {
      "image/png": "[encoded data removed]",
      "text/plain": [
       "<Figure size 432x288 with 1 Axes>"
      ]
     },
     "metadata": {
      "needs_background": "light"
     },
     "output_type": "display_data"
    }
   ],
   "source": [
    "fig, ax = plt.subplots()\n",
    "ax.set_title(\"f(params) [AU]; M0=1MEarth; Star=M0\")\n",
    "#ax.hist(np.log10(np.array(aopt)))\n",
    "ax.hist(np.array(aopt))"
   ]
  },
  {
   "cell_type": "markdown",
   "metadata": {},
   "source": [
    "## Sampling Stars"
   ]
  },
  {
   "cell_type": "code",
   "execution_count": 90,
   "metadata": {},
   "outputs": [],
   "source": [
    "def sample(M0, lamb):\n",
    "    #star = swarms.Star(0.072*LSUN, 0.60*MSUN, 3800, d=0) # M0\n",
    "    #star = swarms.Star(0.16*LSUN, 0.69*MSUN, 4410, d=0) # K5\n",
    "    #star = swarms.Star(1.*LSUN, 1.*MSUN, 5780, d=0) # G2\n",
    "    star = swarms.Star(20.*LSUN, 2.1*MSUN, 8620, d=0) # A5\n",
    "    #star = swarms.Star(800.*LSUN, 6.5*MSUN, 16400, d=0) # B5\n",
    "    age = age_sampler()\n",
    "    \n",
    "    planet = draw_planet(star, age=age)\n",
    "    if planet is None:\n",
    "        return sample(M0, lamb) # do it again\n",
    "    \n",
    "    Dc = loguniform(1e4, 1e6) # m\n",
    "    rho = 1000 # kg/m^3\n",
    "    eta = 0.3 # eta\n",
    "    Q = loguniform(0.05, 0.25) # Q_bd = [0, 0.8]\n",
    "    g = loguniform(0.2, 0.8) # 0.32 https://arxiv.org/pdf/1709.00417.pdf\n",
    "    Dt = loguniform(10, 1000) # m\n",
    "    Nstr = 6\n",
    "    Dmax = Dc\n",
    "    fQ = loguniform(1,10)\n",
    "    swarm = swarms.CollSwarm(star, planet, M0, Dt, Dmax, Q=Q, eta=eta, Nstr=Nstr, \n",
    "                        rho=rho, fQ=fQ, correction=True, Dmin_min=lamb, age=age)\n",
    "    \n",
    "    a_opt = swarm.computeaopt(t=age)\n",
    "    star.d = a_opt/(AU*0.7)*PC\n",
    "    \n",
    "    return a_opt, age, star.Imag"
   ]
  },
  {
   "cell_type": "code",
   "execution_count": 91,
   "metadata": {},
   "outputs": [],
   "source": [
    "seed(0)\n",
    "M0 = 1e-2*MEARTH\n",
    "lamb = 1.65*MICRON\n",
    "Nsamples = 300\n",
    "a_opt, age, Imag = np.zeros(Nsamples), np.zeros(Nsamples), np.zeros(Nsamples)\n",
    "for i in range(Nsamples):\n",
    "    a_opt[i], age[i], Imag[i] = sample(M0, lamb)"
   ]
  },
  {
   "cell_type": "code",
   "execution_count": 92,
   "metadata": {},
   "outputs": [
    {
     "data": {
      "text/plain": [
       "(array([66., 41., 39., 22., 28., 20., 30., 17., 19., 18.]),\n",
       " array([20.05503283, 28.03318353, 36.01133422, 43.98948492, 51.96763561,\n",
       "        59.94578631, 67.923937  , 75.9020877 , 83.88023839, 91.85838909,\n",
       "        99.83653978]),\n",
       " <a list of 10 Patch objects>)"
      ]
     },
     "execution_count": 92,
     "metadata": {},
     "output_type": "execute_result"
    },
    {
     "data": {
      "image/png": "[encoded data removed]",
      "text/plain": [
       "<Figure size 432x288 with 1 Axes>"
      ]
     },
     "metadata": {
      "needs_background": "light"
     },
     "output_type": "display_data"
    }
   ],
   "source": [
    "fig, ax = plt.subplots()\n",
    "ax.set_title(\"Ages [Myr]; M0=1MEarth; Star=M0\")\n",
    "ax.hist(age/YEAR/1e6)"
   ]
  },
  {
   "cell_type": "code",
   "execution_count": 93,
   "metadata": {},
   "outputs": [
    {
     "data": {
      "text/plain": [
       "(array([69., 67., 41., 39., 23., 27., 11., 12.,  7.,  4.]),\n",
       " array([ 19.90434029,  42.55515683,  65.20597338,  87.85678992,\n",
       "        110.50760646, 133.15842301, 155.80923955, 178.4600561 ,\n",
       "        201.11087264, 223.76168918, 246.41250573]),\n",
       " <a list of 10 Patch objects>)"
      ]
     },
     "execution_count": 93,
     "metadata": {},
     "output_type": "execute_result"
    },
    {
     "data": {
      "image/png": "[encoded data removed]",
      "text/plain": [
       "<Figure size 432x288 with 1 Axes>"
      ]
     },
     "metadata": {
      "needs_background": "light"
     },
     "output_type": "display_data"
    }
   ],
   "source": [
    "fig, ax = plt.subplots()\n",
    "ax.set_title(\"a_opt [AU]; M0=1MEarth; Star=M0\")\n",
    "ax.hist(a_opt/AU)\n",
    "#ax.hist(a_opt[a_opt < 5.e13]/AU)"
   ]
  },
  {
   "cell_type": "code",
   "execution_count": 95,
   "metadata": {},
   "outputs": [
    {
     "data": {
      "text/plain": [
       "(array([ 6., 27., 35., 36., 36., 39., 45., 35., 27., 14.]),\n",
       " array([3.65530644, 4.20166392, 4.7480214 , 5.29437888, 5.84073636,\n",
       "        6.38709384, 6.93345131, 7.47980879, 8.02616627, 8.57252375,\n",
       "        9.11888123]),\n",
       " <a list of 10 Patch objects>)"
      ]
     },
     "execution_count": 95,
     "metadata": {},
     "output_type": "execute_result"
    },
    {
     "data": {
      "image/png": "[encoded data removed]",
      "text/plain": [
       "<Figure size 432x288 with 1 Axes>"
      ]
     },
     "metadata": {
      "needs_background": "light"
     },
     "output_type": "display_data"
    }
   ],
   "source": [
    "fig, ax = plt.subplots()\n",
    "ax.set_title(\"Imag; M0=1e-2MEarth; Star=A5\")\n",
    "ax.hist(Imag)"
   ]
  }
 ],
 "metadata": {
  "kernelspec": {
   "display_name": "Python 3",
   "language": "python",
   "name": "python3"
  },
  "language_info": {
   "codemirror_mode": {
    "name": "ipython",
    "version": 3
   },
   "file_extension": ".py",
   "mimetype": "text/x-python",
   "name": "python",
   "nbconvert_exporter": "python",
   "pygments_lexer": "ipython3",
   "version": "3.6.8"
  }
 },
 "nbformat": 4,
 "nbformat_minor": 2
}
