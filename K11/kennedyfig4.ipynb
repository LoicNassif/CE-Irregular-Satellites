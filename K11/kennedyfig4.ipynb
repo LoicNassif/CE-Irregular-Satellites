{
 "cells": [
  {
   "cell_type": "code",
   "execution_count": 1,
   "metadata": {},
   "outputs": [],
   "source": [
    "import numpy as np\n",
    "import matplotlib.pyplot as plt\n",
    "import sys\n",
    "sys.path.append('../jupyter_examples/')\n",
    "%matplotlib inline\n",
    "import swarms\n",
    "from swarms import MMOON, MEARTH, MJUP, AU, RJUP, PC, LSUN, MSUN, JY, YEAR, MICRON\n",
    "\n",
    "try:\n",
    "    plt.style.use('paper')\n",
    "except:\n",
    "    pass"
   ]
  },
  {
   "cell_type": "code",
   "execution_count": 3,
   "metadata": {},
   "outputs": [
    {
     "ename": "ValueError",
     "evalue": "swarms.sizeDistribution initialized with a maximum size Dc (1.0e+02) < Dt (1.0e+02). Implementation assumes Dc > Dt.",
     "output_type": "error",
     "traceback": [
      "\u001b[0;31m---------------------------------------------------------------------------\u001b[0m",
      "\u001b[0;31mValueError\u001b[0m                                Traceback (most recent call last)",
      "\u001b[0;32m<ipython-input-3-802d95f447c3>\u001b[0m in \u001b[0;36m<module>\u001b[0;34m()\u001b[0m\n\u001b[1;32m      7\u001b[0m \u001b[0mM_pl\u001b[0m \u001b[0;34m=\u001b[0m \u001b[0;36m318\u001b[0m \u001b[0;34m*\u001b[0m \u001b[0mMEARTH\u001b[0m\u001b[0;34m;\u001b[0m \u001b[0ma_pl\u001b[0m \u001b[0;34m=\u001b[0m \u001b[0;36m50\u001b[0m \u001b[0;34m*\u001b[0m \u001b[0mAU\u001b[0m\u001b[0;34m;\u001b[0m \u001b[0mR_pl\u001b[0m \u001b[0;34m=\u001b[0m \u001b[0mRJUP\u001b[0m\u001b[0;34m\u001b[0m\u001b[0;34m\u001b[0m\u001b[0m\n\u001b[1;32m      8\u001b[0m \u001b[0meta\u001b[0m \u001b[0;34m=\u001b[0m \u001b[0;36m0.4\u001b[0m\u001b[0;34m;\u001b[0m \u001b[0mNstr\u001b[0m \u001b[0;34m=\u001b[0m \u001b[0;36m6.\u001b[0m\u001b[0;34m;\u001b[0m \u001b[0mQ\u001b[0m \u001b[0;34m=\u001b[0m \u001b[0;36m0.1\u001b[0m\u001b[0;34m\u001b[0m\u001b[0;34m\u001b[0m\u001b[0m\n\u001b[0;32m----> 9\u001b[0;31m \u001b[0mswarm\u001b[0m \u001b[0;34m=\u001b[0m \u001b[0mswarms\u001b[0m\u001b[0;34m.\u001b[0m\u001b[0mCollSwarm\u001b[0m\u001b[0;34m(\u001b[0m\u001b[0mstar\u001b[0m\u001b[0;34m,\u001b[0m \u001b[0mplanet\u001b[0m\u001b[0;34m,\u001b[0m \u001b[0mM0\u001b[0m\u001b[0;34m,\u001b[0m \u001b[0mDt\u001b[0m\u001b[0;34m,\u001b[0m \u001b[0mDmax\u001b[0m\u001b[0;34m,\u001b[0m \u001b[0meta\u001b[0m\u001b[0;34m,\u001b[0m \u001b[0mNstr\u001b[0m\u001b[0;34m,\u001b[0m \u001b[0mQ\u001b[0m\u001b[0;34m,\u001b[0m \u001b[0malpha\u001b[0m\u001b[0;34m=\u001b[0m\u001b[0;36m1.\u001b[0m\u001b[0;34m/\u001b[0m\u001b[0;36m1.2\u001b[0m\u001b[0;34m)\u001b[0m\u001b[0;34m\u001b[0m\u001b[0;34m\u001b[0m\u001b[0m\n\u001b[0m",
      "\u001b[0;32m~/Documents/workspace/CE-Irregular-Satellites/jupyter_examples/swarms.py\u001b[0m in \u001b[0;36m__init__\u001b[0;34m(self, star, planet, M0, Dmax, Dt, eta, Q, g, rho, fQ, Nstr, f_vrel, stranding, alpha, Dmin_min, age, qs, qg, C1, C2)\u001b[0m\n\u001b[1;32m    349\u001b[0m         \u001b[0;31m# Assumes that initially Dc=Dmax. Dc will evolve to smaller values if stranding=True\u001b[0m\u001b[0;34m\u001b[0m\u001b[0;34m\u001b[0m\u001b[0;34m\u001b[0m\u001b[0m\n\u001b[1;32m    350\u001b[0m         \u001b[0mself\u001b[0m\u001b[0;34m.\u001b[0m\u001b[0mDmin\u001b[0m \u001b[0;34m=\u001b[0m \u001b[0mself\u001b[0m\u001b[0;34m.\u001b[0m\u001b[0mcomputeDmin\u001b[0m\u001b[0;34m(\u001b[0m\u001b[0;34m)\u001b[0m\u001b[0;34m\u001b[0m\u001b[0;34m\u001b[0m\u001b[0m\n\u001b[0;32m--> 351\u001b[0;31m         \u001b[0mself\u001b[0m\u001b[0;34m.\u001b[0m\u001b[0mswarm\u001b[0m \u001b[0;34m=\u001b[0m \u001b[0mSizeDistribution\u001b[0m\u001b[0;34m(\u001b[0m\u001b[0mDmin\u001b[0m\u001b[0;34m=\u001b[0m\u001b[0mself\u001b[0m\u001b[0;34m.\u001b[0m\u001b[0mDmin\u001b[0m\u001b[0;34m,\u001b[0m \u001b[0mDmax\u001b[0m\u001b[0;34m=\u001b[0m\u001b[0mself\u001b[0m\u001b[0;34m.\u001b[0m\u001b[0mDmax\u001b[0m\u001b[0;34m,\u001b[0m \u001b[0mM0\u001b[0m\u001b[0;34m=\u001b[0m\u001b[0mM0\u001b[0m\u001b[0;34m,\u001b[0m \u001b[0mDt\u001b[0m\u001b[0;34m=\u001b[0m\u001b[0mDt\u001b[0m\u001b[0;34m,\u001b[0m \u001b[0mrho\u001b[0m\u001b[0;34m=\u001b[0m\u001b[0mrho\u001b[0m\u001b[0;34m,\u001b[0m \u001b[0mqs\u001b[0m\u001b[0;34m=\u001b[0m\u001b[0mqs\u001b[0m\u001b[0;34m,\u001b[0m \u001b[0mqg\u001b[0m\u001b[0;34m=\u001b[0m\u001b[0mqg\u001b[0m\u001b[0;34m)\u001b[0m \u001b[0;31m# needed to init Rcc0\u001b[0m\u001b[0;34m\u001b[0m\u001b[0;34m\u001b[0m\u001b[0m\n\u001b[0m\u001b[1;32m    352\u001b[0m         \u001b[0mself\u001b[0m\u001b[0;34m.\u001b[0m\u001b[0mage\u001b[0m \u001b[0;34m=\u001b[0m \u001b[0;36m0\u001b[0m \u001b[0;31m# Need age = 0 when computing Tcol0\u001b[0m\u001b[0;34m\u001b[0m\u001b[0;34m\u001b[0m\u001b[0m\n\u001b[1;32m    353\u001b[0m         \u001b[0mself\u001b[0m\u001b[0;34m.\u001b[0m\u001b[0mTcol0\u001b[0m \u001b[0;34m=\u001b[0m \u001b[0mself\u001b[0m\u001b[0;34m.\u001b[0m\u001b[0mcomputeTcol\u001b[0m\u001b[0;34m(\u001b[0m\u001b[0;34m)\u001b[0m\u001b[0;34m\u001b[0m\u001b[0;34m\u001b[0m\u001b[0m\n",
      "\u001b[0;32m~/Documents/workspace/CE-Irregular-Satellites/jupyter_examples/swarms.py\u001b[0m in \u001b[0;36m__init__\u001b[0;34m(self, Dmin, Dmax, Dc, M0, sigma0, Dt, rho, qs, qg)\u001b[0m\n\u001b[1;32m     52\u001b[0m         \u001b[0;32mif\u001b[0m \u001b[0mM0\u001b[0m \u001b[0;32mis\u001b[0m \u001b[0;32mnot\u001b[0m \u001b[0;32mNone\u001b[0m\u001b[0;34m:\u001b[0m\u001b[0;34m\u001b[0m\u001b[0;34m\u001b[0m\u001b[0m\n\u001b[1;32m     53\u001b[0m             \u001b[0mself\u001b[0m\u001b[0;34m.\u001b[0m\u001b[0mM0\u001b[0m \u001b[0;34m=\u001b[0m \u001b[0mM0\u001b[0m\u001b[0;34m\u001b[0m\u001b[0;34m\u001b[0m\u001b[0m\n\u001b[0;32m---> 54\u001b[0;31m             \u001b[0mself\u001b[0m\u001b[0;34m.\u001b[0m\u001b[0minit_from_mass\u001b[0m\u001b[0;34m(\u001b[0m\u001b[0;34m)\u001b[0m\u001b[0;34m\u001b[0m\u001b[0;34m\u001b[0m\u001b[0m\n\u001b[0m\u001b[1;32m     55\u001b[0m         \u001b[0;32melif\u001b[0m \u001b[0msigma0\u001b[0m \u001b[0;32mis\u001b[0m \u001b[0;32mnot\u001b[0m \u001b[0;32mNone\u001b[0m\u001b[0;34m:\u001b[0m\u001b[0;34m\u001b[0m\u001b[0;34m\u001b[0m\u001b[0m\n\u001b[1;32m     56\u001b[0m             \u001b[0mself\u001b[0m\u001b[0;34m.\u001b[0m\u001b[0msigma0\u001b[0m \u001b[0;34m=\u001b[0m \u001b[0msigma0\u001b[0m\u001b[0;34m\u001b[0m\u001b[0;34m\u001b[0m\u001b[0m\n",
      "\u001b[0;32m~/Documents/workspace/CE-Irregular-Satellites/jupyter_examples/swarms.py\u001b[0m in \u001b[0;36minit_from_mass\u001b[0;34m(self)\u001b[0m\n\u001b[1;32m     62\u001b[0m         \u001b[0;34m\"\"\"initialize from the specified mass.\"\"\"\u001b[0m\u001b[0;34m\u001b[0m\u001b[0;34m\u001b[0m\u001b[0m\n\u001b[1;32m     63\u001b[0m         \u001b[0;32mif\u001b[0m \u001b[0mself\u001b[0m\u001b[0;34m.\u001b[0m\u001b[0mDc\u001b[0m \u001b[0;34m<\u001b[0m \u001b[0mself\u001b[0m\u001b[0;34m.\u001b[0m\u001b[0mDt\u001b[0m\u001b[0;34m:\u001b[0m\u001b[0;34m\u001b[0m\u001b[0;34m\u001b[0m\u001b[0m\n\u001b[0;32m---> 64\u001b[0;31m             \u001b[0;32mraise\u001b[0m \u001b[0mValueError\u001b[0m\u001b[0;34m(\u001b[0m\u001b[0;34m\"swarms.sizeDistribution initialized with a maximum size Dc ({0:.1e}) < Dt ({0:.1e}). Implementation assumes Dc > Dt.\"\u001b[0m\u001b[0;34m.\u001b[0m\u001b[0mformat\u001b[0m\u001b[0;34m(\u001b[0m\u001b[0mself\u001b[0m\u001b[0;34m.\u001b[0m\u001b[0mDc\u001b[0m\u001b[0;34m,\u001b[0m \u001b[0mself\u001b[0m\u001b[0;34m.\u001b[0m\u001b[0mDt\u001b[0m\u001b[0;34m)\u001b[0m\u001b[0;34m)\u001b[0m\u001b[0;34m\u001b[0m\u001b[0;34m\u001b[0m\u001b[0m\n\u001b[0m\u001b[1;32m     65\u001b[0m \u001b[0;34m\u001b[0m\u001b[0m\n\u001b[1;32m     66\u001b[0m         self.kg_val = (self.M0*(6/(pi*self.rho))*(6 - 3*self.qg)\n",
      "\u001b[0;31mValueError\u001b[0m: swarms.sizeDistribution initialized with a maximum size Dc (1.0e+02) < Dt (1.0e+02). Implementation assumes Dc > Dt."
     ]
    }
   ],
   "source": [
    "star = swarms.Star(L=20*LSUN, M=2.1*MSUN, T=8410, d=10*PC)\n",
    "planet = swarms.Planet(star, M=MJUP, R=RJUP, a=50*AU, Q=0.5)\n",
    "    \n",
    "# Swarm\n",
    "RHO=1500\n",
    "M0 = 10 * MMOON; Dt = 100.; Dmax = 250000.;\n",
    "M_pl = 318 * MEARTH; a_pl = 50 * AU; R_pl = RJUP\n",
    "eta = 0.4; Nstr = 6.; Q = 0.1\n",
    "swarm = swarms.CollSwarm(star, planet, M0, Dt, Dmax, eta, Nstr, Q, alpha=1./1.2)"
   ]
  },
  {
   "cell_type": "code",
   "execution_count": null,
   "metadata": {
    "scrolled": false
   },
   "outputs": [],
   "source": [
    "lambdas = np.logspace(-7, -2.5, 200)\n",
    "times = np.logspace(7.7, 10, 7) * YEAR\n",
    "alphas = np.linspace(1, 0.2, 7)\n",
    "g = 0.32 # assume phase function for Lambert sphere at maximum extension from host star\n",
    "\n",
    "Fstar = star.computeFthermal(lambdas, star.d)\n",
    "\n",
    "fig, ax = plt.subplots(figsize=(12,9))\n",
    "ax.loglog(lambdas/MICRON, Fstar/JY, 'k', lw=2, label=\"Star\")\n",
    "\n",
    "for time, alpha in zip(times, alphas):\n",
    "    planet.age = time\n",
    "    swarm.updateSwarm(time)\n",
    "    Fplanet = planet.computeFthermal(lambdas) + planet.computeFscat(lambdas, g)\n",
    "    FISD = swarm.computeFthermal(lambdas) + swarm.computeFscat(lambdas, g)\n",
    "\n",
    "    ax.loglog(lambdas/MICRON, Fplanet/JY, 'k--', lw=2, alpha=alpha)\n",
    "    ax.loglog(lambdas/MICRON, FISD/JY, 'k', lw=2, alpha=alpha)\n",
    " \n",
    "# overplot last lines with labels\n",
    "ax.loglog(lambdas/MICRON, Fplanet/JY, 'k--', lw=2, label=\"Planet\", alpha=alpha)\n",
    "ax.loglog(lambdas/MICRON, FISD/JY, 'k', lw=2, label=\"Dust\", alpha=alpha)\n",
    "\n",
    "ax.set_xlabel(r\"wavelength [$\\mu$m]\")\n",
    "ax.set_ylabel(\"F (Jy)\")\n",
    "ax.set_ylim([6e-11, 2.e-2])\n",
    "ax.set_xlim([0.1, 2000])\n",
    "ax.legend()"
   ]
  }
 ],
 "metadata": {
  "kernelspec": {
   "display_name": "Python 3",
   "language": "python",
   "name": "python3"
  },
  "language_info": {
   "codemirror_mode": {
    "name": "ipython",
    "version": 3
   },
   "file_extension": ".py",
   "mimetype": "text/x-python",
   "name": "python",
   "nbconvert_exporter": "python",
   "pygments_lexer": "ipython3",
   "version": "3.7.1"
  }
 },
 "nbformat": 4,
 "nbformat_minor": 2
}
